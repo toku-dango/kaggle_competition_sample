{
  "nbformat": 4,
  "nbformat_minor": 0,
  "metadata": {
    "colab": {
      "provenance": [],
      "toc_visible": true,
      "mount_file_id": "12RnYjxpVhxFeibd8g9DyfUo-DuNAbGF4",
      "authorship_tag": "ABX9TyP47pyUcORWolXPDFdKAEgO",
      "include_colab_link": true
    },
    "kernelspec": {
      "name": "python3",
      "display_name": "Python 3"
    },
    "language_info": {
      "name": "python"
    }
  },
  "cells": [
    {
      "cell_type": "markdown",
      "metadata": {
        "id": "view-in-github",
        "colab_type": "text"
      },
      "source": [
        "<a href=\"https://colab.research.google.com/github/toku-dango/kaggle_competition_sample/blob/main/connect_github.ipynb\" target=\"_parent\"><img src=\"https://colab.research.google.com/assets/colab-badge.svg\" alt=\"Open In Colab\"/></a>"
      ]
    },
    {
      "cell_type": "code",
      "execution_count": 1,
      "metadata": {
        "colab": {
          "base_uri": "https://localhost:8080/"
        },
        "id": "VNlhG_1BDYBh",
        "outputId": "d7047b30-6a93-4ea2-980f-5ec16c14e713"
      },
      "outputs": [
        {
          "output_type": "stream",
          "name": "stdout",
          "text": [
            "Generating public/private rsa key pair.\n",
            "Enter file in which to save the key (/root/.ssh/id_rsa): \n",
            "Created directory '/root/.ssh'.\n",
            "Enter passphrase (empty for no passphrase): \n",
            "Enter same passphrase again: \n",
            "Your identification has been saved in /root/.ssh/id_rsa\n",
            "Your public key has been saved in /root/.ssh/id_rsa.pub\n",
            "The key fingerprint is:\n",
            "SHA256:OC2v70aNaXGSuFeIKYiqFvoTtRsbeYbnNHxwU9ChOdk root@eb4fc3bf945d\n",
            "The key's randomart image is:\n",
            "+---[RSA 4096]----+\n",
            "|        .o..     |\n",
            "|         =o      |\n",
            "| . .   +=+E      |\n",
            "|. . o =oB.o      |\n",
            "|.  . *++SX       |\n",
            "|... * O+B .      |\n",
            "|o .. @ *.        |\n",
            "|o.. o ...        |\n",
            "|....  .+o        |\n",
            "+----[SHA256]-----+\n"
          ]
        }
      ],
      "source": [
        "!ssh-keygen -t rsa -b 4096"
      ]
    },
    {
      "cell_type": "code",
      "source": [
        "!chmod go-rwx /root/.ssh/id_rsa\n",
        "! pwd\n",
        "#! cd /content/sample_data\n",
        "!cp /root/.ssh/id_rsa ~/content"
      ],
      "metadata": {
        "colab": {
          "base_uri": "https://localhost:8080/"
        },
        "id": "7k4T3kVuDfzA",
        "outputId": "b804590c-259e-4b9b-fe38-c32c02859a32"
      },
      "execution_count": 15,
      "outputs": [
        {
          "output_type": "stream",
          "name": "stdout",
          "text": [
            "/content\n"
          ]
        }
      ]
    },
    {
      "cell_type": "code",
      "source": [
        "!cat /root/.ssh/id_rsa.pub"
      ],
      "metadata": {
        "colab": {
          "base_uri": "https://localhost:8080/"
        },
        "id": "6MJJhcwaEiU7",
        "outputId": "4a2d9f7b-b5ef-4bc5-e655-b714f4c5a0cf"
      },
      "execution_count": 16,
      "outputs": [
        {
          "output_type": "stream",
          "name": "stdout",
          "text": [
            "ssh-rsa AAAAB3NzaC1yc2EAAAADAQABAAACAQCj34mBAgBWSuIIEmkIPQUCK61/DHFoEF/8utb6OQgLRYRKSh1r+CuMq46s3VVZktkDiTX0UcFyGbX08FBfrza/yi6MyjwBOem3LAKZwZC/kx97UnGjKvtHnfMEdmX8GMW/bOBVPpaOnWKDIeeqVk7Fuqqf7ZOo/nQjNyp/gS+sW165N+C47iz3uM0sk7GlokFeOBJ+33kSnERtLU1w/GdToTG+XD7zcyil141qTS0Sng/7lV63rloXjkueDAFWBgC6uGbe5x5/UtKhnbzFLPDcQ+JigmM6vb61gRr8pkCNyyQnFqJ+s90hGEf5/dYykpVN7SgSwfD1Z7k2S8LvOklNEDu2tRk2gwXGGsXe3mcAcrrIQdNYrjyGqpYtEtEi+uOYdHLpBoRtuA4JPys0sMG4mvKaGbpyFBPAUfYP2G4WgRx61BjEcJwF5wsCgI0eUmjahmN/58jOp9ABYkBw3cb6gc6GdCopnM/0MjrahPnsjhL+y5fo/8XZXLO92TLTntF3tcZtqnr4IqG2YDdRw75N4bNdb9IWPuxzRNchuVUYVlG5lR7iaSEJNy+XC63cV4VzxPo3YRadfBmfgz9junEs9D58uP+3/3iJzfdQpjEdYEDlytND1OrP85sPjx98NFm/gHHkLAajPwMhShF1dRjVBs6LftMnlftyuBOWavMHtw== root@eb4fc3bf945d\n"
          ]
        }
      ]
    },
    {
      "cell_type": "code",
      "source": [
        "#! git clone git@github.com:<user name>/<repo name>.git\n",
        "!git clone git@github.com:toku-dango/kaggle_competition_sample\n",
        "#!python c"
      ],
      "metadata": {
        "colab": {
          "base_uri": "https://localhost:8080/"
        },
        "id": "LhEEGXMtE2Ro",
        "outputId": "7ea28ccc-43ec-4c41-c339-35bb5ef9e338"
      },
      "execution_count": 17,
      "outputs": [
        {
          "output_type": "stream",
          "name": "stdout",
          "text": [
            "Cloning into 'kaggle_competition_sample'...\n",
            "Host key verification failed.\r\n",
            "fatal: Could not read from remote repository.\n",
            "\n",
            "Please make sure you have the correct access rights\n",
            "and the repository exists.\n"
          ]
        }
      ]
    },
    {
      "cell_type": "code",
      "source": [
        "!cp id_rsa /root/.ssh/id_rsa  !chmod go-rwx /root/.ssh/id_rsa"
      ],
      "metadata": {
        "colab": {
          "base_uri": "https://localhost:8080/"
        },
        "id": "GORHeWssEQ7m",
        "outputId": "54a1d4f8-acc0-4e88-ead4-18bbbea6a4d2"
      },
      "execution_count": 14,
      "outputs": [
        {
          "output_type": "stream",
          "name": "stdout",
          "text": [
            "cp: target '/root/.ssh/id_rsa' is not a directory\n"
          ]
        }
      ]
    }
  ]
}