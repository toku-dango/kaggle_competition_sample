{
  "metadata": {
    "kernelspec": {
      "language": "python",
      "display_name": "Python 3",
      "name": "python3"
    },
    "language_info": {
      "name": "python",
      "version": "3.10.12",
      "mimetype": "text/x-python",
      "codemirror_mode": {
        "name": "ipython",
        "version": 3
      },
      "pygments_lexer": "ipython3",
      "nbconvert_exporter": "python",
      "file_extension": ".py"
    },
    "colab": {
      "provenance": [],
      "include_colab_link": true
    },
    "widgets": {
      "application/vnd.jupyter.widget-state+json": {
        "0e21b76b23764731959f6853b99fc04f": {
          "model_module": "@jupyter-widgets/output",
          "model_name": "OutputModel",
          "model_module_version": "1.0.0",
          "state": {
            "_dom_classes": [],
            "_model_module": "@jupyter-widgets/output",
            "_model_module_version": "1.0.0",
            "_model_name": "OutputModel",
            "_view_count": null,
            "_view_module": "@jupyter-widgets/output",
            "_view_module_version": "1.0.0",
            "_view_name": "OutputView",
            "layout": "IPY_MODEL_731b5285c3a64ebeabb74a2c0b9d8b27",
            "msg_id": "",
            "outputs": [
              {
                "output_type": "display_data",
                "data": {
                  "text/plain": "\u001b[32m⠋\u001b[0m Waiting for authorization\n",
                  "text/html": "<pre style=\"white-space:pre;overflow-x:auto;line-height:normal;font-family:Menlo,'DejaVu Sans Mono',consolas,'Courier New',monospace\"><span style=\"color: #008000; text-decoration-color: #008000\">⠋</span> Waiting for authorization\n</pre>\n"
                },
                "metadata": {}
              }
            ]
          }
        },
        "731b5285c3a64ebeabb74a2c0b9d8b27": {
          "model_module": "@jupyter-widgets/base",
          "model_name": "LayoutModel",
          "model_module_version": "1.2.0",
          "state": {
            "_model_module": "@jupyter-widgets/base",
            "_model_module_version": "1.2.0",
            "_model_name": "LayoutModel",
            "_view_count": null,
            "_view_module": "@jupyter-widgets/base",
            "_view_module_version": "1.2.0",
            "_view_name": "LayoutView",
            "align_content": null,
            "align_items": null,
            "align_self": null,
            "border": null,
            "bottom": null,
            "display": null,
            "flex": null,
            "flex_flow": null,
            "grid_area": null,
            "grid_auto_columns": null,
            "grid_auto_flow": null,
            "grid_auto_rows": null,
            "grid_column": null,
            "grid_gap": null,
            "grid_row": null,
            "grid_template_areas": null,
            "grid_template_columns": null,
            "grid_template_rows": null,
            "height": null,
            "justify_content": null,
            "justify_items": null,
            "left": null,
            "margin": null,
            "max_height": null,
            "max_width": null,
            "min_height": null,
            "min_width": null,
            "object_fit": null,
            "object_position": null,
            "order": null,
            "overflow": null,
            "overflow_x": null,
            "overflow_y": null,
            "padding": null,
            "right": null,
            "top": null,
            "visibility": null,
            "width": null
          }
        }
      }
    }
  },
  "nbformat_minor": 0,
  "nbformat": 4,
  "cells": [
    {
      "cell_type": "markdown",
      "metadata": {
        "id": "view-in-github",
        "colab_type": "text"
      },
      "source": [
        "<a href=\"https://colab.research.google.com/github/toku-dango/kaggle_competition_sample/blob/main/note_pycaret_mlflow.ipynb\" target=\"_parent\"><img src=\"https://colab.research.google.com/assets/colab-badge.svg\" alt=\"Open In Colab\"/></a>"
      ]
    },
    {
      "cell_type": "code",
      "source": [
        "# This Python 3 environment comes with many helpful analytics libraries installed\n",
        "# It is defined by the kaggle/python Docker image: https://github.com/kaggle/docker-python\n",
        "# For example, here's several helpful packages to load\n",
        "\n",
        "import numpy as np # linear algebra\n",
        "import pandas as pd # data processing, CSV file I/O (e.g. pd.read_csv)\n",
        "\n",
        "# Input data files are available in the read-only \"../input/\" directory\n",
        "# For example, running this (by clicking run or pressing Shift+Enter) will list all files under the input directory\n",
        "\n",
        "import os\n",
        "for dirname, _, filenames in os.walk('/kaggle/input'):\n",
        "    for filename in filenames:\n",
        "        print(os.path.join(dirname, filename))\n",
        "\n",
        "# You can write up to 20GB to the current directory (/kaggle/working/) that gets preserved as output when you create a version using \"Save & Run All\"\n",
        "# You can also write temporary files to /kaggle/temp/, but they won't be saved outside of the current session"
      ],
      "metadata": {
        "_uuid": "8f2839f25d086af736a60e9eeb907d3b93b6e0e5",
        "_cell_guid": "b1076dfc-b9ad-4769-8c92-a6c4dae69d19",
        "execution": {
          "iopub.status.busy": "2023-11-12T13:45:05.033443Z",
          "iopub.execute_input": "2023-11-12T13:45:05.034933Z",
          "iopub.status.idle": "2023-11-12T13:45:05.447699Z",
          "shell.execute_reply.started": "2023-11-12T13:45:05.034842Z",
          "shell.execute_reply": "2023-11-12T13:45:05.446052Z"
        },
        "trusted": true,
        "id": "LCJCC85XC5RA"
      },
      "execution_count": null,
      "outputs": []
    },
    {
      "cell_type": "markdown",
      "source": [
        "#### function for analysis"
      ],
      "metadata": {
        "id": "zL1P_BsfC5RO"
      }
    },
    {
      "cell_type": "code",
      "source": [
        "from google.colab import drive\n",
        "drive.mount('/content/drive')"
      ],
      "metadata": {
        "id": "Yhuc5xR41Zhb",
        "outputId": "9cb1ea9e-b403-492b-d087-56dc0dd325fa",
        "colab": {
          "base_uri": "https://localhost:8080/"
        }
      },
      "execution_count": null,
      "outputs": [
        {
          "output_type": "stream",
          "name": "stdout",
          "text": [
            "Mounted at /content/drive\n"
          ]
        }
      ]
    },
    {
      "cell_type": "code",
      "source": [
        "import shutil\n",
        "import os\n",
        "\n",
        "!pwd\n",
        "# 移動元となるディレクトリと移動先のディレクトリを定義\n",
        "source_directory = '/content/drive/MyDrive/Kaggle/titanic/input'\n",
        "destination_directory = '/content'\n",
        "\n",
        "# 移動元のディレクトリに移動\n",
        "os.chdir(source_directory)\n",
        "\n",
        "# 移動元ディレクトリ内のファイルを取得\n",
        "files_to_move = os.listdir()\n",
        "\n",
        "# ファイルを移動先ディレクトリに移動\n",
        "for file_name in files_to_move:\n",
        "    source_path = os.path.join(source_directory, file_name)\n",
        "    destination_path = os.path.join(destination_directory, file_name)\n",
        "    shutil.move(source_path, destination_path)\n",
        "\n",
        "# 移動元ディレクトリ内の空のディレクトリを削除（オプション）\n",
        "# os.rmdir(source_directory)"
      ],
      "metadata": {
        "id": "j949-Wdp2qWf",
        "outputId": "f2950138-83e9-422f-ded7-7c69eaf3aa70",
        "colab": {
          "base_uri": "https://localhost:8080/"
        }
      },
      "execution_count": null,
      "outputs": [
        {
          "output_type": "stream",
          "name": "stdout",
          "text": [
            "/content\n"
          ]
        }
      ]
    },
    {
      "cell_type": "code",
      "source": [
        "# install\n",
        "!pip install mlflow dagshub pycaret"
      ],
      "metadata": {
        "execution": {
          "iopub.status.busy": "2023-11-12T13:45:05.449787Z",
          "iopub.execute_input": "2023-11-12T13:45:05.450286Z",
          "iopub.status.idle": "2023-11-12T13:46:10.746732Z",
          "shell.execute_reply.started": "2023-11-12T13:45:05.450249Z",
          "shell.execute_reply": "2023-11-12T13:46:10.745145Z"
        },
        "trusted": true,
        "id": "4FDn3oYeC5RS",
        "outputId": "321d6a9a-53ee-4e38-ff6a-3e5e1301eba4",
        "colab": {
          "base_uri": "https://localhost:8080/"
        }
      },
      "execution_count": null,
      "outputs": [
        {
          "output_type": "stream",
          "name": "stdout",
          "text": [
            "Collecting mlflow\n",
            "  Downloading mlflow-2.8.0-py3-none-any.whl (19.0 MB)\n",
            "\u001b[2K     \u001b[90m━━━━━━━━━━━━━━━━━━━━━━━━━━━━━━━━━━━━━━━━\u001b[0m \u001b[32m19.0/19.0 MB\u001b[0m \u001b[31m66.1 MB/s\u001b[0m eta \u001b[36m0:00:00\u001b[0m\n",
            "\u001b[?25hCollecting dagshub\n",
            "  Downloading dagshub-0.3.9-py3-none-any.whl (185 kB)\n",
            "\u001b[2K     \u001b[90m━━━━━━━━━━━━━━━━━━━━━━━━━━━━━━━━━━━━━━━━\u001b[0m \u001b[32m185.4/185.4 kB\u001b[0m \u001b[31m20.2 MB/s\u001b[0m eta \u001b[36m0:00:00\u001b[0m\n",
            "\u001b[?25hCollecting pycaret\n",
            "  Downloading pycaret-3.1.0-py3-none-any.whl (483 kB)\n",
            "\u001b[2K     \u001b[90m━━━━━━━━━━━━━━━━━━━━━━━━━━━━━━━━━━━━━━━━\u001b[0m \u001b[32m483.9/483.9 kB\u001b[0m \u001b[31m40.9 MB/s\u001b[0m eta \u001b[36m0:00:00\u001b[0m\n",
            "\u001b[?25hRequirement already satisfied: click<9,>=7.0 in /usr/local/lib/python3.10/dist-packages (from mlflow) (8.1.7)\n",
            "Requirement already satisfied: cloudpickle<3 in /usr/local/lib/python3.10/dist-packages (from mlflow) (2.2.1)\n",
            "Collecting databricks-cli<1,>=0.8.7 (from mlflow)\n",
            "  Downloading databricks_cli-0.18.0-py2.py3-none-any.whl (150 kB)\n",
            "\u001b[2K     \u001b[90m━━━━━━━━━━━━━━━━━━━━━━━━━━━━━━━━━━━━━━━━\u001b[0m \u001b[32m150.3/150.3 kB\u001b[0m \u001b[31m18.5 MB/s\u001b[0m eta \u001b[36m0:00:00\u001b[0m\n",
            "\u001b[?25hRequirement already satisfied: entrypoints<1 in /usr/local/lib/python3.10/dist-packages (from mlflow) (0.4)\n",
            "Collecting gitpython<4,>=2.1.0 (from mlflow)\n",
            "  Downloading GitPython-3.1.40-py3-none-any.whl (190 kB)\n",
            "\u001b[2K     \u001b[90m━━━━━━━━━━━━━━━━━━━━━━━━━━━━━━━━━━━━━━━━\u001b[0m \u001b[32m190.6/190.6 kB\u001b[0m \u001b[31m21.5 MB/s\u001b[0m eta \u001b[36m0:00:00\u001b[0m\n",
            "\u001b[?25hRequirement already satisfied: pyyaml<7,>=5.1 in /usr/local/lib/python3.10/dist-packages (from mlflow) (6.0.1)\n",
            "Requirement already satisfied: protobuf<5,>=3.12.0 in /usr/local/lib/python3.10/dist-packages (from mlflow) (3.20.3)\n",
            "Requirement already satisfied: pytz<2024 in /usr/local/lib/python3.10/dist-packages (from mlflow) (2023.3.post1)\n",
            "Requirement already satisfied: requests<3,>=2.17.3 in /usr/local/lib/python3.10/dist-packages (from mlflow) (2.31.0)\n",
            "Requirement already satisfied: packaging<24 in /usr/local/lib/python3.10/dist-packages (from mlflow) (23.2)\n",
            "Requirement already satisfied: importlib-metadata!=4.7.0,<7,>=3.7.0 in /usr/local/lib/python3.10/dist-packages (from mlflow) (6.8.0)\n",
            "Requirement already satisfied: sqlparse<1,>=0.4.0 in /usr/local/lib/python3.10/dist-packages (from mlflow) (0.4.4)\n",
            "Collecting alembic!=1.10.0,<2 (from mlflow)\n",
            "  Downloading alembic-1.12.1-py3-none-any.whl (226 kB)\n",
            "\u001b[2K     \u001b[90m━━━━━━━━━━━━━━━━━━━━━━━━━━━━━━━━━━━━━━━━\u001b[0m \u001b[32m226.8/226.8 kB\u001b[0m \u001b[31m23.9 MB/s\u001b[0m eta \u001b[36m0:00:00\u001b[0m\n",
            "\u001b[?25hCollecting docker<7,>=4.0.0 (from mlflow)\n",
            "  Downloading docker-6.1.3-py3-none-any.whl (148 kB)\n",
            "\u001b[2K     \u001b[90m━━━━━━━━━━━━━━━━━━━━━━━━━━━━━━━━━━━━━━━━\u001b[0m \u001b[32m148.1/148.1 kB\u001b[0m \u001b[31m16.5 MB/s\u001b[0m eta \u001b[36m0:00:00\u001b[0m\n",
            "\u001b[?25hRequirement already satisfied: Flask<4 in /usr/local/lib/python3.10/dist-packages (from mlflow) (2.2.5)\n",
            "Requirement already satisfied: numpy<2 in /usr/local/lib/python3.10/dist-packages (from mlflow) (1.23.5)\n",
            "Requirement already satisfied: scipy<2 in /usr/local/lib/python3.10/dist-packages (from mlflow) (1.11.3)\n",
            "Requirement already satisfied: pandas<3 in /usr/local/lib/python3.10/dist-packages (from mlflow) (1.5.3)\n",
            "Collecting querystring-parser<2 (from mlflow)\n",
            "  Downloading querystring_parser-1.2.4-py2.py3-none-any.whl (7.9 kB)\n",
            "Requirement already satisfied: sqlalchemy<3,>=1.4.0 in /usr/local/lib/python3.10/dist-packages (from mlflow) (2.0.23)\n",
            "Requirement already satisfied: scikit-learn<2 in /usr/local/lib/python3.10/dist-packages (from mlflow) (1.2.2)\n",
            "Requirement already satisfied: pyarrow<14,>=4.0.0 in /usr/local/lib/python3.10/dist-packages (from mlflow) (9.0.0)\n",
            "Requirement already satisfied: markdown<4,>=3.3 in /usr/local/lib/python3.10/dist-packages (from mlflow) (3.5.1)\n",
            "Requirement already satisfied: matplotlib<4 in /usr/local/lib/python3.10/dist-packages (from mlflow) (3.7.1)\n",
            "Requirement already satisfied: psutil<6 in /usr/local/lib/python3.10/dist-packages (from mlflow) (5.9.5)\n",
            "Collecting gunicorn<22 (from mlflow)\n",
            "  Downloading gunicorn-21.2.0-py3-none-any.whl (80 kB)\n",
            "\u001b[2K     \u001b[90m━━━━━━━━━━━━━━━━━━━━━━━━━━━━━━━━━━━━━━━━\u001b[0m \u001b[32m80.2/80.2 kB\u001b[0m \u001b[31m10.5 MB/s\u001b[0m eta \u001b[36m0:00:00\u001b[0m\n",
            "\u001b[?25hRequirement already satisfied: Jinja2<4,>=2.11 in /usr/local/lib/python3.10/dist-packages (from mlflow) (3.1.2)\n",
            "Collecting fusepy>=3 (from dagshub)\n",
            "  Downloading fusepy-3.0.1.tar.gz (11 kB)\n",
            "  Preparing metadata (setup.py) ... \u001b[?25l\u001b[?25hdone\n",
            "Requirement already satisfied: appdirs>=1.4.4 in /usr/local/lib/python3.10/dist-packages (from dagshub) (1.4.4)\n",
            "Collecting httpx~=0.23.0 (from dagshub)\n",
            "  Downloading httpx-0.23.3-py3-none-any.whl (71 kB)\n",
            "\u001b[2K     \u001b[90m━━━━━━━━━━━━━━━━━━━━━━━━━━━━━━━━━━━━━━━━\u001b[0m \u001b[32m71.5/71.5 kB\u001b[0m \u001b[31m8.2 MB/s\u001b[0m eta \u001b[36m0:00:00\u001b[0m\n",
            "\u001b[?25hCollecting rich~=13.1.0 (from dagshub)\n",
            "  Downloading rich-13.1.0-py3-none-any.whl (238 kB)\n",
            "\u001b[2K     \u001b[90m━━━━━━━━━━━━━━━━━━━━━━━━━━━━━━━━━━━━━━━━\u001b[0m \u001b[32m238.4/238.4 kB\u001b[0m \u001b[31m24.3 MB/s\u001b[0m eta \u001b[36m0:00:00\u001b[0m\n",
            "\u001b[?25hCollecting dacite~=1.6.0 (from dagshub)\n",
            "  Downloading dacite-1.6.0-py3-none-any.whl (12 kB)\n",
            "Requirement already satisfied: tenacity~=8.2.2 in /usr/local/lib/python3.10/dist-packages (from dagshub) (8.2.3)\n",
            "Collecting gql[requests] (from dagshub)\n",
            "  Downloading gql-3.4.1-py2.py3-none-any.whl (65 kB)\n",
            "\u001b[2K     \u001b[90m━━━━━━━━━━━━━━━━━━━━━━━━━━━━━━━━━━━━━━━━\u001b[0m \u001b[32m65.1/65.1 kB\u001b[0m \u001b[31m7.6 MB/s\u001b[0m eta \u001b[36m0:00:00\u001b[0m\n",
            "\u001b[?25hCollecting dataclasses-json (from dagshub)\n",
            "  Downloading dataclasses_json-0.6.2-py3-none-any.whl (28 kB)\n",
            "Collecting treelib~=1.6.4 (from dagshub)\n",
            "  Downloading treelib-1.6.4-py3-none-any.whl (18 kB)\n",
            "Collecting pathvalidate~=3.0.0 (from dagshub)\n",
            "  Downloading pathvalidate-3.0.0-py3-none-any.whl (21 kB)\n",
            "Requirement already satisfied: python-dateutil in /usr/local/lib/python3.10/dist-packages (from dagshub) (2.8.2)\n",
            "Requirement already satisfied: ipython>=5.5.0 in /usr/local/lib/python3.10/dist-packages (from pycaret) (7.34.0)\n",
            "Requirement already satisfied: ipywidgets>=7.6.5 in /usr/local/lib/python3.10/dist-packages (from pycaret) (7.7.1)\n",
            "Requirement already satisfied: tqdm>=4.62.0 in /usr/local/lib/python3.10/dist-packages (from pycaret) (4.66.1)\n",
            "Collecting scipy<2 (from mlflow)\n",
            "  Downloading scipy-1.10.1-cp310-cp310-manylinux_2_17_x86_64.manylinux2014_x86_64.whl (34.4 MB)\n",
            "\u001b[2K     \u001b[90m━━━━━━━━━━━━━━━━━━━━━━━━━━━━━━━━━━━━━━━━\u001b[0m \u001b[32m34.4/34.4 MB\u001b[0m \u001b[31m17.0 MB/s\u001b[0m eta \u001b[36m0:00:00\u001b[0m\n",
            "\u001b[?25hRequirement already satisfied: joblib>=1.2.0 in /usr/local/lib/python3.10/dist-packages (from pycaret) (1.3.2)\n",
            "Collecting pyod>=1.0.8 (from pycaret)\n",
            "  Downloading pyod-1.1.1.tar.gz (159 kB)\n",
            "\u001b[2K     \u001b[90m━━━━━━━━━━━━━━━━━━━━━━━━━━━━━━━━━━━━━━━━\u001b[0m \u001b[32m159.4/159.4 kB\u001b[0m \u001b[31m17.6 MB/s\u001b[0m eta \u001b[36m0:00:00\u001b[0m\n",
            "\u001b[?25h  Preparing metadata (setup.py) ... \u001b[?25l\u001b[?25hdone\n",
            "Requirement already satisfied: imbalanced-learn>=0.8.1 in /usr/local/lib/python3.10/dist-packages (from pycaret) (0.10.1)\n",
            "Collecting category-encoders>=2.4.0 (from pycaret)\n",
            "  Downloading category_encoders-2.6.3-py2.py3-none-any.whl (81 kB)\n",
            "\u001b[2K     \u001b[90m━━━━━━━━━━━━━━━━━━━━━━━━━━━━━━━━━━━━━━━━\u001b[0m \u001b[32m81.9/81.9 kB\u001b[0m \u001b[31m9.5 MB/s\u001b[0m eta \u001b[36m0:00:00\u001b[0m\n",
            "\u001b[?25hRequirement already satisfied: lightgbm>=3.0.0 in /usr/local/lib/python3.10/dist-packages (from pycaret) (4.1.0)\n",
            "Requirement already satisfied: numba>=0.55.0 in /usr/local/lib/python3.10/dist-packages (from pycaret) (0.58.1)\n",
            "Requirement already satisfied: markupsafe>=2.0.1 in /usr/local/lib/python3.10/dist-packages (from pycaret) (2.1.3)\n",
            "Requirement already satisfied: nbformat>=4.2.0 in /usr/local/lib/python3.10/dist-packages (from pycaret) (5.9.2)\n",
            "Collecting deprecation>=2.1.0 (from pycaret)\n",
            "  Downloading deprecation-2.1.0-py2.py3-none-any.whl (11 kB)\n",
            "Requirement already satisfied: xxhash in /usr/local/lib/python3.10/dist-packages (from pycaret) (3.4.1)\n",
            "Collecting scikit-plot>=0.3.7 (from pycaret)\n",
            "  Downloading scikit_plot-0.3.7-py3-none-any.whl (33 kB)\n",
            "Requirement already satisfied: yellowbrick>=1.4 in /usr/local/lib/python3.10/dist-packages (from pycaret) (1.5)\n",
            "Requirement already satisfied: plotly>=5.0.0 in /usr/local/lib/python3.10/dist-packages (from pycaret) (5.15.0)\n",
            "Collecting kaleido>=0.2.1 (from pycaret)\n",
            "  Downloading kaleido-0.2.1-py2.py3-none-manylinux1_x86_64.whl (79.9 MB)\n",
            "\u001b[2K     \u001b[90m━━━━━━━━━━━━━━━━━━━━━━━━━━━━━━━━━━━━━━━━\u001b[0m \u001b[32m79.9/79.9 MB\u001b[0m \u001b[31m8.6 MB/s\u001b[0m eta \u001b[36m0:00:00\u001b[0m\n",
            "\u001b[?25hCollecting schemdraw==0.15 (from pycaret)\n",
            "  Downloading schemdraw-0.15-py3-none-any.whl (106 kB)\n",
            "\u001b[2K     \u001b[90m━━━━━━━━━━━━━━━━━━━━━━━━━━━━━━━━━━━━━━━━\u001b[0m \u001b[32m106.8/106.8 kB\u001b[0m \u001b[31m11.5 MB/s\u001b[0m eta \u001b[36m0:00:00\u001b[0m\n",
            "\u001b[?25hCollecting plotly-resampler>=0.8.3.1 (from pycaret)\n",
            "  Downloading plotly_resampler-0.9.1-py3-none-any.whl (73 kB)\n",
            "\u001b[2K     \u001b[90m━━━━━━━━━━━━━━━━━━━━━━━━━━━━━━━━━━━━━━━━\u001b[0m \u001b[32m73.4/73.4 kB\u001b[0m \u001b[31m8.0 MB/s\u001b[0m eta \u001b[36m0:00:00\u001b[0m\n",
            "\u001b[?25hRequirement already satisfied: statsmodels>=0.12.1 in /usr/local/lib/python3.10/dist-packages (from pycaret) (0.14.0)\n",
            "Collecting sktime!=0.17.1,!=0.17.2,!=0.18.0,<0.22.0,>=0.16.1 (from pycaret)\n",
            "  Downloading sktime-0.21.1-py3-none-any.whl (17.1 MB)\n",
            "\u001b[2K     \u001b[90m━━━━━━━━━━━━━━━━━━━━━━━━━━━━━━━━━━━━━━━━\u001b[0m \u001b[32m17.1/17.1 MB\u001b[0m \u001b[31m54.9 MB/s\u001b[0m eta \u001b[36m0:00:00\u001b[0m\n",
            "\u001b[?25hCollecting tbats>=1.1.3 (from pycaret)\n",
            "  Downloading tbats-1.1.3-py3-none-any.whl (44 kB)\n",
            "\u001b[2K     \u001b[90m━━━━━━━━━━━━━━━━━━━━━━━━━━━━━━━━━━━━━━━━\u001b[0m \u001b[32m44.0/44.0 kB\u001b[0m \u001b[31m4.6 MB/s\u001b[0m eta \u001b[36m0:00:00\u001b[0m\n",
            "\u001b[?25hCollecting pmdarima!=1.8.1,<3.0.0,>=1.8.0 (from pycaret)\n",
            "  Downloading pmdarima-2.0.4-cp310-cp310-manylinux_2_17_x86_64.manylinux2014_x86_64.manylinux_2_28_x86_64.whl (2.1 MB)\n",
            "\u001b[2K     \u001b[90m━━━━━━━━━━━━━━━━━━━━━━━━━━━━━━━━━━━━━━━━\u001b[0m \u001b[32m2.1/2.1 MB\u001b[0m \u001b[31m68.5 MB/s\u001b[0m eta \u001b[36m0:00:00\u001b[0m\n",
            "\u001b[?25hCollecting wurlitzer (from pycaret)\n",
            "  Downloading wurlitzer-3.0.3-py3-none-any.whl (7.3 kB)\n",
            "Collecting Mako (from alembic!=1.10.0,<2->mlflow)\n",
            "  Downloading Mako-1.3.0-py3-none-any.whl (78 kB)\n",
            "\u001b[2K     \u001b[90m━━━━━━━━━━━━━━━━━━━━━━━━━━━━━━━━━━━━━━━━\u001b[0m \u001b[32m78.6/78.6 kB\u001b[0m \u001b[31m7.9 MB/s\u001b[0m eta \u001b[36m0:00:00\u001b[0m\n",
            "\u001b[?25hRequirement already satisfied: typing-extensions>=4 in /usr/local/lib/python3.10/dist-packages (from alembic!=1.10.0,<2->mlflow) (4.5.0)\n",
            "Requirement already satisfied: patsy>=0.5.1 in /usr/local/lib/python3.10/dist-packages (from category-encoders>=2.4.0->pycaret) (0.5.3)\n",
            "Requirement already satisfied: pyjwt>=1.7.0 in /usr/lib/python3/dist-packages (from databricks-cli<1,>=0.8.7->mlflow) (2.3.0)\n",
            "Requirement already satisfied: oauthlib>=3.1.0 in /usr/local/lib/python3.10/dist-packages (from databricks-cli<1,>=0.8.7->mlflow) (3.2.2)\n",
            "Requirement already satisfied: tabulate>=0.7.7 in /usr/local/lib/python3.10/dist-packages (from databricks-cli<1,>=0.8.7->mlflow) (0.9.0)\n",
            "Requirement already satisfied: six>=1.10.0 in /usr/local/lib/python3.10/dist-packages (from databricks-cli<1,>=0.8.7->mlflow) (1.16.0)\n",
            "Requirement already satisfied: urllib3<3,>=1.26.7 in /usr/local/lib/python3.10/dist-packages (from databricks-cli<1,>=0.8.7->mlflow) (2.0.7)\n",
            "Requirement already satisfied: websocket-client>=0.32.0 in /usr/local/lib/python3.10/dist-packages (from docker<7,>=4.0.0->mlflow) (1.6.4)\n",
            "Requirement already satisfied: Werkzeug>=2.2.2 in /usr/local/lib/python3.10/dist-packages (from Flask<4->mlflow) (3.0.1)\n",
            "Requirement already satisfied: itsdangerous>=2.0 in /usr/local/lib/python3.10/dist-packages (from Flask<4->mlflow) (2.1.2)\n",
            "Collecting gitdb<5,>=4.0.1 (from gitpython<4,>=2.1.0->mlflow)\n",
            "  Downloading gitdb-4.0.11-py3-none-any.whl (62 kB)\n",
            "\u001b[2K     \u001b[90m━━━━━━━━━━━━━━━━━━━━━━━━━━━━━━━━━━━━━━━━\u001b[0m \u001b[32m62.7/62.7 kB\u001b[0m \u001b[31m3.6 MB/s\u001b[0m eta \u001b[36m0:00:00\u001b[0m\n",
            "\u001b[?25hRequirement already satisfied: certifi in /usr/local/lib/python3.10/dist-packages (from httpx~=0.23.0->dagshub) (2023.7.22)\n",
            "Collecting httpcore<0.17.0,>=0.15.0 (from httpx~=0.23.0->dagshub)\n",
            "  Downloading httpcore-0.16.3-py3-none-any.whl (69 kB)\n",
            "\u001b[2K     \u001b[90m━━━━━━━━━━━━━━━━━━━━━━━━━━━━━━━━━━━━━━━━\u001b[0m \u001b[32m69.6/69.6 kB\u001b[0m \u001b[31m7.6 MB/s\u001b[0m eta \u001b[36m0:00:00\u001b[0m\n",
            "\u001b[?25hCollecting rfc3986[idna2008]<2,>=1.3 (from httpx~=0.23.0->dagshub)\n",
            "  Downloading rfc3986-1.5.0-py2.py3-none-any.whl (31 kB)\n",
            "Requirement already satisfied: sniffio in /usr/local/lib/python3.10/dist-packages (from httpx~=0.23.0->dagshub) (1.3.0)\n",
            "Requirement already satisfied: threadpoolctl>=2.0.0 in /usr/local/lib/python3.10/dist-packages (from imbalanced-learn>=0.8.1->pycaret) (3.2.0)\n",
            "Requirement already satisfied: zipp>=0.5 in /usr/local/lib/python3.10/dist-packages (from importlib-metadata!=4.7.0,<7,>=3.7.0->mlflow) (3.17.0)\n",
            "Requirement already satisfied: setuptools>=18.5 in /usr/local/lib/python3.10/dist-packages (from ipython>=5.5.0->pycaret) (67.7.2)\n",
            "Collecting jedi>=0.16 (from ipython>=5.5.0->pycaret)\n",
            "  Downloading jedi-0.19.1-py2.py3-none-any.whl (1.6 MB)\n",
            "\u001b[2K     \u001b[90m━━━━━━━━━━━━━━━━━━━━━━━━━━━━━━━━━━━━━━━━\u001b[0m \u001b[32m1.6/1.6 MB\u001b[0m \u001b[31m50.4 MB/s\u001b[0m eta \u001b[36m0:00:00\u001b[0m\n",
            "\u001b[?25hRequirement already satisfied: decorator in /usr/local/lib/python3.10/dist-packages (from ipython>=5.5.0->pycaret) (4.4.2)\n",
            "Requirement already satisfied: pickleshare in /usr/local/lib/python3.10/dist-packages (from ipython>=5.5.0->pycaret) (0.7.5)\n",
            "Requirement already satisfied: traitlets>=4.2 in /usr/local/lib/python3.10/dist-packages (from ipython>=5.5.0->pycaret) (5.7.1)\n",
            "Requirement already satisfied: prompt-toolkit!=3.0.0,!=3.0.1,<3.1.0,>=2.0.0 in /usr/local/lib/python3.10/dist-packages (from ipython>=5.5.0->pycaret) (3.0.39)\n",
            "Requirement already satisfied: pygments in /usr/local/lib/python3.10/dist-packages (from ipython>=5.5.0->pycaret) (2.16.1)\n",
            "Requirement already satisfied: backcall in /usr/local/lib/python3.10/dist-packages (from ipython>=5.5.0->pycaret) (0.2.0)\n",
            "Requirement already satisfied: matplotlib-inline in /usr/local/lib/python3.10/dist-packages (from ipython>=5.5.0->pycaret) (0.1.6)\n",
            "Requirement already satisfied: pexpect>4.3 in /usr/local/lib/python3.10/dist-packages (from ipython>=5.5.0->pycaret) (4.8.0)\n",
            "Requirement already satisfied: ipykernel>=4.5.1 in /usr/local/lib/python3.10/dist-packages (from ipywidgets>=7.6.5->pycaret) (5.5.6)\n",
            "Requirement already satisfied: ipython-genutils~=0.2.0 in /usr/local/lib/python3.10/dist-packages (from ipywidgets>=7.6.5->pycaret) (0.2.0)\n",
            "Requirement already satisfied: widgetsnbextension~=3.6.0 in /usr/local/lib/python3.10/dist-packages (from ipywidgets>=7.6.5->pycaret) (3.6.6)\n",
            "Requirement already satisfied: jupyterlab-widgets>=1.0.0 in /usr/local/lib/python3.10/dist-packages (from ipywidgets>=7.6.5->pycaret) (3.0.9)\n",
            "Requirement already satisfied: contourpy>=1.0.1 in /usr/local/lib/python3.10/dist-packages (from matplotlib<4->mlflow) (1.2.0)\n",
            "Requirement already satisfied: cycler>=0.10 in /usr/local/lib/python3.10/dist-packages (from matplotlib<4->mlflow) (0.12.1)\n",
            "Requirement already satisfied: fonttools>=4.22.0 in /usr/local/lib/python3.10/dist-packages (from matplotlib<4->mlflow) (4.44.0)\n",
            "Requirement already satisfied: kiwisolver>=1.0.1 in /usr/local/lib/python3.10/dist-packages (from matplotlib<4->mlflow) (1.4.5)\n",
            "Requirement already satisfied: pillow>=6.2.0 in /usr/local/lib/python3.10/dist-packages (from matplotlib<4->mlflow) (9.4.0)\n",
            "Requirement already satisfied: pyparsing>=2.3.1 in /usr/local/lib/python3.10/dist-packages (from matplotlib<4->mlflow) (3.1.1)\n",
            "Requirement already satisfied: fastjsonschema in /usr/local/lib/python3.10/dist-packages (from nbformat>=4.2.0->pycaret) (2.18.1)\n",
            "Requirement already satisfied: jsonschema>=2.6 in /usr/local/lib/python3.10/dist-packages (from nbformat>=4.2.0->pycaret) (4.19.2)\n",
            "Requirement already satisfied: jupyter-core in /usr/local/lib/python3.10/dist-packages (from nbformat>=4.2.0->pycaret) (5.5.0)\n",
            "Requirement already satisfied: llvmlite<0.42,>=0.41.0dev0 in /usr/local/lib/python3.10/dist-packages (from numba>=0.55.0->pycaret) (0.41.1)\n",
            "Collecting dash<3.0.0,>=2.11.0 (from plotly-resampler>=0.8.3.1->pycaret)\n",
            "  Downloading dash-2.14.1-py3-none-any.whl (10.4 MB)\n",
            "\u001b[2K     \u001b[90m━━━━━━━━━━━━━━━━━━━━━━━━━━━━━━━━━━━━━━━━\u001b[0m \u001b[32m10.4/10.4 MB\u001b[0m \u001b[31m104.2 MB/s\u001b[0m eta \u001b[36m0:00:00\u001b[0m\n",
            "\u001b[?25hCollecting orjson<4.0.0,>=3.8.0 (from plotly-resampler>=0.8.3.1->pycaret)\n",
            "  Downloading orjson-3.9.10-cp310-cp310-manylinux_2_17_x86_64.manylinux2014_x86_64.whl (138 kB)\n",
            "\u001b[2K     \u001b[90m━━━━━━━━━━━━━━━━━━━━━━━━━━━━━━━━━━━━━━━━\u001b[0m \u001b[32m138.7/138.7 kB\u001b[0m \u001b[31m13.4 MB/s\u001b[0m eta \u001b[36m0:00:00\u001b[0m\n",
            "\u001b[?25hCollecting trace-updater>=0.0.8 (from plotly-resampler>=0.8.3.1->pycaret)\n",
            "  Downloading trace_updater-0.0.9.1-py3-none-any.whl (185 kB)\n",
            "\u001b[2K     \u001b[90m━━━━━━━━━━━━━━━━━━━━━━━━━━━━━━━━━━━━━━━━\u001b[0m \u001b[32m185.2/185.2 kB\u001b[0m \u001b[31m20.9 MB/s\u001b[0m eta \u001b[36m0:00:00\u001b[0m\n",
            "\u001b[?25hCollecting tsdownsample==0.1.2 (from plotly-resampler>=0.8.3.1->pycaret)\n",
            "  Downloading tsdownsample-0.1.2-cp310-cp310-manylinux_2_17_x86_64.manylinux2014_x86_64.whl (2.3 MB)\n",
            "\u001b[2K     \u001b[90m━━━━━━━━━━━━━━━━━━━━━━━━━━━━━━━━━━━━━━━━\u001b[0m \u001b[32m2.3/2.3 MB\u001b[0m \u001b[31m85.9 MB/s\u001b[0m eta \u001b[36m0:00:00\u001b[0m\n",
            "\u001b[?25hRequirement already satisfied: Cython!=0.29.18,!=0.29.31,>=0.29 in /usr/local/lib/python3.10/dist-packages (from pmdarima!=1.8.1,<3.0.0,>=1.8.0->pycaret) (3.0.5)\n",
            "Requirement already satisfied: charset-normalizer<4,>=2 in /usr/local/lib/python3.10/dist-packages (from requests<3,>=2.17.3->mlflow) (3.3.2)\n",
            "Requirement already satisfied: idna<4,>=2.5 in /usr/local/lib/python3.10/dist-packages (from requests<3,>=2.17.3->mlflow) (3.4)\n",
            "Collecting commonmark<0.10.0,>=0.9.0 (from rich~=13.1.0->dagshub)\n",
            "  Downloading commonmark-0.9.1-py2.py3-none-any.whl (51 kB)\n",
            "\u001b[2K     \u001b[90m━━━━━━━━━━━━━━━━━━━━━━━━━━━━━━━━━━━━━━━━\u001b[0m \u001b[32m51.1/51.1 kB\u001b[0m \u001b[31m6.1 MB/s\u001b[0m eta \u001b[36m0:00:00\u001b[0m\n",
            "\u001b[?25hCollecting deprecated>=1.2.13 (from sktime!=0.17.1,!=0.17.2,!=0.18.0,<0.22.0,>=0.16.1->pycaret)\n",
            "  Downloading Deprecated-1.2.14-py2.py3-none-any.whl (9.6 kB)\n",
            "Collecting scikit-base<0.6.0 (from sktime!=0.17.1,!=0.17.2,!=0.18.0,<0.22.0,>=0.16.1->pycaret)\n",
            "  Downloading scikit_base-0.5.2-py3-none-any.whl (118 kB)\n",
            "\u001b[2K     \u001b[90m━━━━━━━━━━━━━━━━━━━━━━━━━━━━━━━━━━━━━━━━\u001b[0m \u001b[32m119.0/119.0 kB\u001b[0m \u001b[31m13.9 MB/s\u001b[0m eta \u001b[36m0:00:00\u001b[0m\n",
            "\u001b[?25hRequirement already satisfied: greenlet!=0.4.17 in /usr/local/lib/python3.10/dist-packages (from sqlalchemy<3,>=1.4.0->mlflow) (3.0.1)\n",
            "Collecting marshmallow<4.0.0,>=3.18.0 (from dataclasses-json->dagshub)\n",
            "  Downloading marshmallow-3.20.1-py3-none-any.whl (49 kB)\n",
            "\u001b[2K     \u001b[90m━━━━━━━━━━━━━━━━━━━━━━━━━━━━━━━━━━━━━━━━\u001b[0m \u001b[32m49.4/49.4 kB\u001b[0m \u001b[31m5.7 MB/s\u001b[0m eta \u001b[36m0:00:00\u001b[0m\n",
            "\u001b[?25hCollecting typing-inspect<1,>=0.4.0 (from dataclasses-json->dagshub)\n",
            "  Downloading typing_inspect-0.9.0-py3-none-any.whl (8.8 kB)\n",
            "Collecting graphql-core<3.3,>=3.2 (from gql[requests]->dagshub)\n",
            "  Downloading graphql_core-3.2.3-py3-none-any.whl (202 kB)\n",
            "\u001b[2K     \u001b[90m━━━━━━━━━━━━━━━━━━━━━━━━━━━━━━━━━━━━━━━━\u001b[0m \u001b[32m202.9/202.9 kB\u001b[0m \u001b[31m22.7 MB/s\u001b[0m eta \u001b[36m0:00:00\u001b[0m\n",
            "\u001b[?25hRequirement already satisfied: yarl<2.0,>=1.6 in /usr/local/lib/python3.10/dist-packages (from gql[requests]->dagshub) (1.9.2)\n",
            "Collecting backoff<3.0,>=1.11.1 (from gql[requests]->dagshub)\n",
            "  Downloading backoff-2.2.1-py3-none-any.whl (15 kB)\n",
            "Collecting requests-toolbelt<1,>=0.9.1 (from gql[requests]->dagshub)\n",
            "  Downloading requests_toolbelt-0.10.1-py2.py3-none-any.whl (54 kB)\n",
            "\u001b[2K     \u001b[90m━━━━━━━━━━━━━━━━━━━━━━━━━━━━━━━━━━━━━━━━\u001b[0m \u001b[32m54.5/54.5 kB\u001b[0m \u001b[31m7.4 MB/s\u001b[0m eta \u001b[36m0:00:00\u001b[0m\n",
            "\u001b[?25hCollecting urllib3<3,>=1.26.7 (from databricks-cli<1,>=0.8.7->mlflow)\n",
            "  Downloading urllib3-1.26.18-py2.py3-none-any.whl (143 kB)\n",
            "\u001b[2K     \u001b[90m━━━━━━━━━━━━━━━━━━━━━━━━━━━━━━━━━━━━━━━━\u001b[0m \u001b[32m143.8/143.8 kB\u001b[0m \u001b[31m15.4 MB/s\u001b[0m eta \u001b[36m0:00:00\u001b[0m\n",
            "\u001b[?25hCollecting dash-html-components==2.0.0 (from dash<3.0.0,>=2.11.0->plotly-resampler>=0.8.3.1->pycaret)\n",
            "  Downloading dash_html_components-2.0.0-py3-none-any.whl (4.1 kB)\n",
            "Collecting dash-core-components==2.0.0 (from dash<3.0.0,>=2.11.0->plotly-resampler>=0.8.3.1->pycaret)\n",
            "  Downloading dash_core_components-2.0.0-py3-none-any.whl (3.8 kB)\n",
            "Collecting dash-table==5.0.0 (from dash<3.0.0,>=2.11.0->plotly-resampler>=0.8.3.1->pycaret)\n",
            "  Downloading dash_table-5.0.0-py3-none-any.whl (3.9 kB)\n",
            "Collecting retrying (from dash<3.0.0,>=2.11.0->plotly-resampler>=0.8.3.1->pycaret)\n",
            "  Downloading retrying-1.3.4-py3-none-any.whl (11 kB)\n",
            "Collecting ansi2html (from dash<3.0.0,>=2.11.0->plotly-resampler>=0.8.3.1->pycaret)\n",
            "  Downloading ansi2html-1.8.0-py3-none-any.whl (16 kB)\n",
            "Requirement already satisfied: nest-asyncio in /usr/local/lib/python3.10/dist-packages (from dash<3.0.0,>=2.11.0->plotly-resampler>=0.8.3.1->pycaret) (1.5.8)\n",
            "Requirement already satisfied: wrapt<2,>=1.10 in /usr/local/lib/python3.10/dist-packages (from deprecated>=1.2.13->sktime!=0.17.1,!=0.17.2,!=0.18.0,<0.22.0,>=0.16.1->pycaret) (1.14.1)\n",
            "Collecting smmap<6,>=3.0.1 (from gitdb<5,>=4.0.1->gitpython<4,>=2.1.0->mlflow)\n",
            "  Downloading smmap-5.0.1-py3-none-any.whl (24 kB)\n",
            "Collecting h11<0.15,>=0.13 (from httpcore<0.17.0,>=0.15.0->httpx~=0.23.0->dagshub)\n",
            "  Downloading h11-0.14.0-py3-none-any.whl (58 kB)\n",
            "\u001b[2K     \u001b[90m━━━━━━━━━━━━━━━━━━━━━━━━━━━━━━━━━━━━━━━━\u001b[0m \u001b[32m58.3/58.3 kB\u001b[0m \u001b[31m6.6 MB/s\u001b[0m eta \u001b[36m0:00:00\u001b[0m\n",
            "\u001b[?25hRequirement already satisfied: anyio<5.0,>=3.0 in /usr/local/lib/python3.10/dist-packages (from httpcore<0.17.0,>=0.15.0->httpx~=0.23.0->dagshub) (3.7.1)\n",
            "Requirement already satisfied: jupyter-client in /usr/local/lib/python3.10/dist-packages (from ipykernel>=4.5.1->ipywidgets>=7.6.5->pycaret) (6.1.12)\n",
            "Requirement already satisfied: tornado>=4.2 in /usr/local/lib/python3.10/dist-packages (from ipykernel>=4.5.1->ipywidgets>=7.6.5->pycaret) (6.3.2)\n",
            "Requirement already satisfied: parso<0.9.0,>=0.8.3 in /usr/local/lib/python3.10/dist-packages (from jedi>=0.16->ipython>=5.5.0->pycaret) (0.8.3)\n",
            "Requirement already satisfied: attrs>=22.2.0 in /usr/local/lib/python3.10/dist-packages (from jsonschema>=2.6->nbformat>=4.2.0->pycaret) (23.1.0)\n",
            "Requirement already satisfied: jsonschema-specifications>=2023.03.6 in /usr/local/lib/python3.10/dist-packages (from jsonschema>=2.6->nbformat>=4.2.0->pycaret) (2023.7.1)\n",
            "Requirement already satisfied: referencing>=0.28.4 in /usr/local/lib/python3.10/dist-packages (from jsonschema>=2.6->nbformat>=4.2.0->pycaret) (0.30.2)\n",
            "Requirement already satisfied: rpds-py>=0.7.1 in /usr/local/lib/python3.10/dist-packages (from jsonschema>=2.6->nbformat>=4.2.0->pycaret) (0.12.0)\n",
            "Requirement already satisfied: ptyprocess>=0.5 in /usr/local/lib/python3.10/dist-packages (from pexpect>4.3->ipython>=5.5.0->pycaret) (0.7.0)\n",
            "Requirement already satisfied: wcwidth in /usr/local/lib/python3.10/dist-packages (from prompt-toolkit!=3.0.0,!=3.0.1,<3.1.0,>=2.0.0->ipython>=5.5.0->pycaret) (0.2.9)\n",
            "Collecting mypy-extensions>=0.3.0 (from typing-inspect<1,>=0.4.0->dataclasses-json->dagshub)\n",
            "  Downloading mypy_extensions-1.0.0-py3-none-any.whl (4.7 kB)\n",
            "Requirement already satisfied: notebook>=4.4.1 in /usr/local/lib/python3.10/dist-packages (from widgetsnbextension~=3.6.0->ipywidgets>=7.6.5->pycaret) (6.5.5)\n",
            "Requirement already satisfied: multidict>=4.0 in /usr/local/lib/python3.10/dist-packages (from yarl<2.0,>=1.6->gql[requests]->dagshub) (6.0.4)\n",
            "Requirement already satisfied: platformdirs>=2.5 in /usr/local/lib/python3.10/dist-packages (from jupyter-core->nbformat>=4.2.0->pycaret) (3.11.0)\n",
            "Requirement already satisfied: exceptiongroup in /usr/local/lib/python3.10/dist-packages (from anyio<5.0,>=3.0->httpcore<0.17.0,>=0.15.0->httpx~=0.23.0->dagshub) (1.1.3)\n",
            "Requirement already satisfied: pyzmq<25,>=17 in /usr/local/lib/python3.10/dist-packages (from notebook>=4.4.1->widgetsnbextension~=3.6.0->ipywidgets>=7.6.5->pycaret) (23.2.1)\n",
            "Requirement already satisfied: argon2-cffi in /usr/local/lib/python3.10/dist-packages (from notebook>=4.4.1->widgetsnbextension~=3.6.0->ipywidgets>=7.6.5->pycaret) (23.1.0)\n",
            "Requirement already satisfied: nbconvert>=5 in /usr/local/lib/python3.10/dist-packages (from notebook>=4.4.1->widgetsnbextension~=3.6.0->ipywidgets>=7.6.5->pycaret) (6.5.4)\n",
            "Requirement already satisfied: Send2Trash>=1.8.0 in /usr/local/lib/python3.10/dist-packages (from notebook>=4.4.1->widgetsnbextension~=3.6.0->ipywidgets>=7.6.5->pycaret) (1.8.2)\n",
            "Requirement already satisfied: terminado>=0.8.3 in /usr/local/lib/python3.10/dist-packages (from notebook>=4.4.1->widgetsnbextension~=3.6.0->ipywidgets>=7.6.5->pycaret) (0.17.1)\n",
            "Requirement already satisfied: prometheus-client in /usr/local/lib/python3.10/dist-packages (from notebook>=4.4.1->widgetsnbextension~=3.6.0->ipywidgets>=7.6.5->pycaret) (0.18.0)\n",
            "Requirement already satisfied: nbclassic>=0.4.7 in /usr/local/lib/python3.10/dist-packages (from notebook>=4.4.1->widgetsnbextension~=3.6.0->ipywidgets>=7.6.5->pycaret) (1.0.0)\n",
            "Requirement already satisfied: jupyter-server>=1.8 in /usr/local/lib/python3.10/dist-packages (from nbclassic>=0.4.7->notebook>=4.4.1->widgetsnbextension~=3.6.0->ipywidgets>=7.6.5->pycaret) (1.24.0)\n",
            "Requirement already satisfied: notebook-shim>=0.2.3 in /usr/local/lib/python3.10/dist-packages (from nbclassic>=0.4.7->notebook>=4.4.1->widgetsnbextension~=3.6.0->ipywidgets>=7.6.5->pycaret) (0.2.3)\n",
            "Requirement already satisfied: lxml in /usr/local/lib/python3.10/dist-packages (from nbconvert>=5->notebook>=4.4.1->widgetsnbextension~=3.6.0->ipywidgets>=7.6.5->pycaret) (4.9.3)\n",
            "Requirement already satisfied: beautifulsoup4 in /usr/local/lib/python3.10/dist-packages (from nbconvert>=5->notebook>=4.4.1->widgetsnbextension~=3.6.0->ipywidgets>=7.6.5->pycaret) (4.11.2)\n",
            "Requirement already satisfied: bleach in /usr/local/lib/python3.10/dist-packages (from nbconvert>=5->notebook>=4.4.1->widgetsnbextension~=3.6.0->ipywidgets>=7.6.5->pycaret) (6.1.0)\n",
            "Requirement already satisfied: defusedxml in /usr/local/lib/python3.10/dist-packages (from nbconvert>=5->notebook>=4.4.1->widgetsnbextension~=3.6.0->ipywidgets>=7.6.5->pycaret) (0.7.1)\n",
            "Requirement already satisfied: jupyterlab-pygments in /usr/local/lib/python3.10/dist-packages (from nbconvert>=5->notebook>=4.4.1->widgetsnbextension~=3.6.0->ipywidgets>=7.6.5->pycaret) (0.2.2)\n",
            "Requirement already satisfied: mistune<2,>=0.8.1 in /usr/local/lib/python3.10/dist-packages (from nbconvert>=5->notebook>=4.4.1->widgetsnbextension~=3.6.0->ipywidgets>=7.6.5->pycaret) (0.8.4)\n",
            "Requirement already satisfied: nbclient>=0.5.0 in /usr/local/lib/python3.10/dist-packages (from nbconvert>=5->notebook>=4.4.1->widgetsnbextension~=3.6.0->ipywidgets>=7.6.5->pycaret) (0.9.0)\n",
            "Requirement already satisfied: pandocfilters>=1.4.1 in /usr/local/lib/python3.10/dist-packages (from nbconvert>=5->notebook>=4.4.1->widgetsnbextension~=3.6.0->ipywidgets>=7.6.5->pycaret) (1.5.0)\n",
            "Requirement already satisfied: tinycss2 in /usr/local/lib/python3.10/dist-packages (from nbconvert>=5->notebook>=4.4.1->widgetsnbextension~=3.6.0->ipywidgets>=7.6.5->pycaret) (1.2.1)\n",
            "Requirement already satisfied: argon2-cffi-bindings in /usr/local/lib/python3.10/dist-packages (from argon2-cffi->notebook>=4.4.1->widgetsnbextension~=3.6.0->ipywidgets>=7.6.5->pycaret) (21.2.0)\n",
            "Requirement already satisfied: cffi>=1.0.1 in /usr/local/lib/python3.10/dist-packages (from argon2-cffi-bindings->argon2-cffi->notebook>=4.4.1->widgetsnbextension~=3.6.0->ipywidgets>=7.6.5->pycaret) (1.16.0)\n",
            "Requirement already satisfied: soupsieve>1.2 in /usr/local/lib/python3.10/dist-packages (from beautifulsoup4->nbconvert>=5->notebook>=4.4.1->widgetsnbextension~=3.6.0->ipywidgets>=7.6.5->pycaret) (2.5)\n",
            "Requirement already satisfied: webencodings in /usr/local/lib/python3.10/dist-packages (from bleach->nbconvert>=5->notebook>=4.4.1->widgetsnbextension~=3.6.0->ipywidgets>=7.6.5->pycaret) (0.5.1)\n",
            "Requirement already satisfied: pycparser in /usr/local/lib/python3.10/dist-packages (from cffi>=1.0.1->argon2-cffi-bindings->argon2-cffi->notebook>=4.4.1->widgetsnbextension~=3.6.0->ipywidgets>=7.6.5->pycaret) (2.21)\n",
            "Building wheels for collected packages: fusepy, pyod\n",
            "  Building wheel for fusepy (setup.py) ... \u001b[?25l\u001b[?25hdone\n",
            "  Created wheel for fusepy: filename=fusepy-3.0.1-py3-none-any.whl size=10485 sha256=a0daf611e474bbf7fe538f4dbc6ef125fc96d13e7b927e117d448d0aba999a88\n",
            "  Stored in directory: /root/.cache/pip/wheels/c0/18/f6/f0d6be9d0435e2677ce5cc758e91da50053dce456a346f08c5\n",
            "  Building wheel for pyod (setup.py) ... \u001b[?25l\u001b[?25hdone\n",
            "  Created wheel for pyod: filename=pyod-1.1.1-py3-none-any.whl size=190074 sha256=7ad5728b9200314335590a66b9e34a1ccd96235b02cd6cc5b1ff4a013d85775d\n",
            "  Stored in directory: /root/.cache/pip/wheels/a3/42/d7/48a53ffc1466bd63932f28583c64ebf442114db14a0bfa8c95\n",
            "Successfully built fusepy pyod\n",
            "Installing collected packages: trace-updater, rfc3986, kaleido, fusepy, dash-table, dash-html-components, dash-core-components, commonmark, wurlitzer, urllib3, tsdownsample, treelib, smmap, scipy, scikit-base, schemdraw, rich, retrying, querystring-parser, pathvalidate, orjson, mypy-extensions, marshmallow, Mako, jedi, h11, gunicorn, graphql-core, deprecation, deprecated, dacite, backoff, ansi2html, typing-inspect, httpcore, gql, gitdb, alembic, sktime, scikit-plot, requests-toolbelt, pyod, httpx, gitpython, docker, dataclasses-json, databricks-cli, dash, pmdarima, plotly-resampler, mlflow, category-encoders, tbats, dagshub, pycaret\n",
            "  Attempting uninstall: urllib3\n",
            "    Found existing installation: urllib3 2.0.7\n",
            "    Uninstalling urllib3-2.0.7:\n",
            "      Successfully uninstalled urllib3-2.0.7\n",
            "  Attempting uninstall: scipy\n",
            "    Found existing installation: scipy 1.11.3\n",
            "    Uninstalling scipy-1.11.3:\n",
            "      Successfully uninstalled scipy-1.11.3\n",
            "  Attempting uninstall: rich\n",
            "    Found existing installation: rich 13.6.0\n",
            "    Uninstalling rich-13.6.0:\n",
            "      Successfully uninstalled rich-13.6.0\n",
            "\u001b[31mERROR: pip's dependency resolver does not currently take into account all the packages that are installed. This behaviour is the source of the following dependency conflicts.\n",
            "lida 0.0.10 requires fastapi, which is not installed.\n",
            "lida 0.0.10 requires python-multipart, which is not installed.\n",
            "lida 0.0.10 requires uvicorn, which is not installed.\u001b[0m\u001b[31m\n",
            "\u001b[0mSuccessfully installed Mako-1.3.0 alembic-1.12.1 ansi2html-1.8.0 backoff-2.2.1 category-encoders-2.6.3 commonmark-0.9.1 dacite-1.6.0 dagshub-0.3.9 dash-2.14.1 dash-core-components-2.0.0 dash-html-components-2.0.0 dash-table-5.0.0 databricks-cli-0.18.0 dataclasses-json-0.6.2 deprecated-1.2.14 deprecation-2.1.0 docker-6.1.3 fusepy-3.0.1 gitdb-4.0.11 gitpython-3.1.40 gql-3.4.1 graphql-core-3.2.3 gunicorn-21.2.0 h11-0.14.0 httpcore-0.16.3 httpx-0.23.3 jedi-0.19.1 kaleido-0.2.1 marshmallow-3.20.1 mlflow-2.8.0 mypy-extensions-1.0.0 orjson-3.9.10 pathvalidate-3.0.0 plotly-resampler-0.9.1 pmdarima-2.0.4 pycaret-3.1.0 pyod-1.1.1 querystring-parser-1.2.4 requests-toolbelt-0.10.1 retrying-1.3.4 rfc3986-1.5.0 rich-13.1.0 schemdraw-0.15 scikit-base-0.5.2 scikit-plot-0.3.7 scipy-1.10.1 sktime-0.21.1 smmap-5.0.1 tbats-1.1.3 trace-updater-0.0.9.1 treelib-1.6.4 tsdownsample-0.1.2 typing-inspect-0.9.0 urllib3-1.26.18 wurlitzer-3.0.3\n"
          ]
        }
      ]
    },
    {
      "cell_type": "markdown",
      "source": [
        "### mlflow run"
      ],
      "metadata": {
        "id": "zxICH9XyC5RT"
      }
    },
    {
      "cell_type": "code",
      "source": [
        "import dagshub\n",
        "import mlflow\n",
        "\n",
        "dagshub.init(\"kaggle_competition_titanic_tr\", \"toku-dango\", mlflow=True)\n",
        "mlflow.set_tracking_uri('https://dagshub.com/toku-dango/kaggle_competition_titanic_tr.mlflow')\n",
        "\n",
        "########### Experimentの生成\n",
        "EX_NAME = \"kaggle_titanic_1110\"\n",
        "\n",
        "experiment = mlflow.get_experiment_by_name(EX_NAME)\n",
        "if experiment is None:  # 当該Experiment存在しないとき、新たに作成\n",
        "    experiment_id = mlflow.create_experiment(\n",
        "                            name=EX_NAME)\n",
        "else: # 当該Experiment存在するとき、IDを取得\n",
        "    experiment_id = experiment.experiment_id\n",
        "print(experiment_id)\n",
        "mlflow.set_experiment(experiment_name=EX_NAME)\n",
        "\n",
        "\n",
        "mlflow.sklearn.autolog()\n",
        "\n",
        "########### IDの生成\n",
        "RUN_ID = \"\"\n",
        "RUN_NAME = \"hogehoge_model_1112\"\n",
        "\n",
        "if not RUN_ID:\n",
        "    mlflow.end_run()\n",
        "    mlflow.start_run(experiment_id=experiment_id,run_name=RUN_NAME, run_id=None)\n",
        "    RUN_ID = mlflow.active_run().info.run_id  # run_idはこれで取得できる\n",
        "elif RUN_ID:  # 後から、同じrun_idに追記する時\n",
        "    try:\n",
        "        mlflow.start_run(experiment_id=experiment_id,run_name=RUN_NAME, run_id=RUN_ID)\n",
        "    except:\n",
        "        print(\"except_try\")\n",
        "        mlflow.end_run()\n",
        "        mlflow.start_run(experiment_id=experiment_id,run_name=RUN_NAME, run_id=RUN_ID)\n",
        "\n",
        "TASK_NAME = \"check\"\n",
        "# MLflowによるロギング開始\n",
        "mlflow.set_tag(RUN_NAME, TASK_NAME)  # Run Nameを指定"
      ],
      "metadata": {
        "execution": {
          "iopub.status.busy": "2023-11-12T14:26:05.080659Z",
          "iopub.execute_input": "2023-11-12T14:26:05.081185Z",
          "iopub.status.idle": "2023-11-12T14:26:21.451577Z",
          "shell.execute_reply.started": "2023-11-12T14:26:05.081143Z",
          "shell.execute_reply": "2023-11-12T14:26:21.450355Z"
        },
        "trusted": true,
        "id": "MG_tgjhNC5RU",
        "outputId": "bca05aa2-7992-4d9a-ad8b-154241995a72",
        "colab": {
          "base_uri": "https://localhost:8080/",
          "height": 194,
          "referenced_widgets": [
            "0e21b76b23764731959f6853b99fc04f",
            "731b5285c3a64ebeabb74a2c0b9d8b27"
          ]
        }
      },
      "execution_count": null,
      "outputs": [
        {
          "output_type": "display_data",
          "data": {
            "text/plain": [
              "                                       \u001b[1m❗❗❗ AUTHORIZATION REQUIRED ❗❗❗\u001b[0m                                        \n"
            ],
            "text/html": [
              "<pre style=\"white-space:pre;overflow-x:auto;line-height:normal;font-family:Menlo,'DejaVu Sans Mono',consolas,'Courier New',monospace\">                                       <span style=\"font-weight: bold\">❗❗❗ AUTHORIZATION REQUIRED ❗❗❗</span>                                        \n",
              "</pre>\n"
            ]
          },
          "metadata": {}
        },
        {
          "output_type": "display_data",
          "data": {
            "text/plain": [
              "Output()"
            ],
            "application/vnd.jupyter.widget-view+json": {
              "version_major": 2,
              "version_minor": 0,
              "model_id": "0e21b76b23764731959f6853b99fc04f"
            }
          },
          "metadata": {}
        },
        {
          "output_type": "stream",
          "name": "stdout",
          "text": [
            "\n",
            "\n",
            "Open the following link in your browser to authorize the client:\n",
            "https://dagshub.com/login/oauth/authorize?state=b3b7310e-6055-449d-b841-647b686c3562&client_id=32b60ba385aa7cecf24046d8195a71c07dd345d9657977863b52e7748e0f0f28&middleman_request_id=d1967853a2c38f93e406d7011f1c9d6b8dc5a7d2541d4f8188c4e80c02be8997\n",
            "\n",
            "\n"
          ]
        },
        {
          "output_type": "display_data",
          "data": {
            "text/plain": [],
            "text/html": [
              "<pre style=\"white-space:pre;overflow-x:auto;line-height:normal;font-family:Menlo,'DejaVu Sans Mono',consolas,'Courier New',monospace\"></pre>\n"
            ]
          },
          "metadata": {}
        },
        {
          "output_type": "display_data",
          "data": {
            "text/plain": [
              "Repository initialized!\n"
            ],
            "text/html": [
              "<pre style=\"white-space:pre;overflow-x:auto;line-height:normal;font-family:Menlo,'DejaVu Sans Mono',consolas,'Courier New',monospace\">Repository initialized!\n",
              "</pre>\n"
            ]
          },
          "metadata": {}
        },
        {
          "output_type": "stream",
          "name": "stdout",
          "text": [
            "2\n"
          ]
        }
      ]
    },
    {
      "cell_type": "markdown",
      "source": [
        "#### MLFLOW Check\n",
        "tag save: mlflow.set_tag(key, value)  \n",
        "log_param: log_param(\"param1\", 5)  \n",
        "log_metric: log_metric(\"foo\", 1)  \n",
        "artifact(file) save: log_artifact('plot.png')\n"
      ],
      "metadata": {
        "id": "cFTt_an8C5RW"
      }
    },
    {
      "cell_type": "code",
      "source": [
        "import pycaret\n",
        "#!mlflow ui\n",
        "from pycaret import show_versions\n",
        "show_versions()"
      ],
      "metadata": {
        "execution": {
          "iopub.status.busy": "2023-11-12T14:16:26.436351Z",
          "iopub.execute_input": "2023-11-12T14:16:26.436827Z",
          "iopub.status.idle": "2023-11-12T14:16:28.137441Z",
          "shell.execute_reply.started": "2023-11-12T14:16:26.436795Z",
          "shell.execute_reply": "2023-11-12T14:16:28.135924Z"
        },
        "trusted": true,
        "id": "m6mPHpNjC5RX",
        "outputId": "d04e46ba-cf6b-416d-d998-efe72ba5ab05",
        "colab": {
          "base_uri": "https://localhost:8080/"
        }
      },
      "execution_count": null,
      "outputs": [
        {
          "output_type": "stream",
          "name": "stdout",
          "text": [
            "\n",
            "System:\n",
            "    python: 3.10.12 (main, Jun 11 2023, 05:26:28) [GCC 11.4.0]\n",
            "executable: /usr/bin/python3\n",
            "   machine: Linux-5.15.120+-x86_64-with-glibc2.35\n",
            "\n",
            "PyCaret required dependencies:\n",
            "                 pip: 23.1.2\n",
            "          setuptools: 67.7.2\n",
            "             pycaret: 3.1.0\n",
            "             IPython: 7.34.0\n",
            "          ipywidgets: 7.7.1\n",
            "                tqdm: 4.66.1\n",
            "               numpy: 1.23.5\n",
            "              pandas: 1.5.3\n",
            "              jinja2: 3.1.2\n",
            "               scipy: 1.10.1\n",
            "              joblib: 1.3.2\n",
            "             sklearn: 1.2.2\n",
            "                pyod: 1.1.1\n",
            "            imblearn: 0.10.1\n",
            "   category_encoders: 2.6.3\n",
            "            lightgbm: 4.1.0\n",
            "               numba: 0.58.1\n",
            "            requests: 2.31.0\n",
            "          matplotlib: 3.7.1\n",
            "          scikitplot: 0.3.7\n",
            "         yellowbrick: 1.5\n",
            "              plotly: 5.15.0\n",
            "    plotly-resampler: Not installed\n",
            "             kaleido: 0.2.1\n",
            "           schemdraw: 0.15\n",
            "         statsmodels: 0.14.0\n",
            "              sktime: 0.21.1\n",
            "               tbats: 1.1.3\n",
            "            pmdarima: 2.0.4\n",
            "              psutil: 5.9.5\n",
            "          markupsafe: 2.1.3\n",
            "             pickle5: Not installed\n",
            "         cloudpickle: 2.2.1\n",
            "         deprecation: 2.1.0\n",
            "              xxhash: 3.4.1\n",
            "           wurlitzer: 3.0.3\n",
            "\n",
            "PyCaret optional dependencies:\n",
            "                shap: Not installed\n",
            "           interpret: Not installed\n",
            "                umap: Not installed\n",
            "     ydata_profiling: Not installed\n",
            "  explainerdashboard: Not installed\n",
            "             autoviz: Not installed\n",
            "           fairlearn: Not installed\n",
            "          deepchecks: Not installed\n",
            "             xgboost: 2.0.1\n",
            "            catboost: Not installed\n",
            "              kmodes: Not installed\n",
            "             mlxtend: 0.22.0\n",
            "       statsforecast: Not installed\n",
            "        tune_sklearn: Not installed\n",
            "                 ray: Not installed\n",
            "            hyperopt: 0.2.7\n",
            "              optuna: Not installed\n",
            "               skopt: Not installed\n",
            "              mlflow: 2.8.0\n",
            "              gradio: Not installed\n",
            "             fastapi: Not installed\n",
            "             uvicorn: Not installed\n",
            "              m2cgen: Not installed\n",
            "           evidently: Not installed\n",
            "               fugue: Not installed\n",
            "           streamlit: Not installed\n",
            "             prophet: 1.1.5\n"
          ]
        }
      ]
    },
    {
      "cell_type": "markdown",
      "source": [
        "### data_input"
      ],
      "metadata": {
        "id": "fge-GffsC5RY"
      }
    },
    {
      "cell_type": "code",
      "source": [
        "#from pycaret.regression import *\n",
        "\n",
        "\n",
        "from pycaret.classification import *\n",
        "\n",
        "train = pd.read_csv(\"../input/titanic/train.csv\")\n",
        "test = pd.read_csv(\"../input/titanic/test.csv\")"
      ],
      "metadata": {
        "execution": {
          "iopub.status.busy": "2023-11-12T14:26:39.208159Z",
          "iopub.execute_input": "2023-11-12T14:26:39.208544Z",
          "iopub.status.idle": "2023-11-12T14:26:39.226966Z",
          "shell.execute_reply.started": "2023-11-12T14:26:39.208514Z",
          "shell.execute_reply": "2023-11-12T14:26:39.225370Z"
        },
        "trusted": true,
        "id": "DiwalqLoC5RZ",
        "outputId": "fbcfd54c-ef5a-47a5-efeb-160818be01aa",
        "colab": {
          "base_uri": "https://localhost:8080/",
          "height": 377
        }
      },
      "execution_count": null,
      "outputs": [
        {
          "output_type": "error",
          "ename": "FileNotFoundError",
          "evalue": "ignored",
          "traceback": [
            "\u001b[0;31m---------------------------------------------------------------------------\u001b[0m",
            "\u001b[0;31mFileNotFoundError\u001b[0m                         Traceback (most recent call last)",
            "\u001b[0;32m<ipython-input-5-3936fd8ef056>\u001b[0m in \u001b[0;36m<cell line: 6>\u001b[0;34m()\u001b[0m\n\u001b[1;32m      4\u001b[0m \u001b[0;32mfrom\u001b[0m \u001b[0mpycaret\u001b[0m\u001b[0;34m.\u001b[0m\u001b[0mclassification\u001b[0m \u001b[0;32mimport\u001b[0m \u001b[0;34m*\u001b[0m\u001b[0;34m\u001b[0m\u001b[0;34m\u001b[0m\u001b[0m\n\u001b[1;32m      5\u001b[0m \u001b[0;34m\u001b[0m\u001b[0m\n\u001b[0;32m----> 6\u001b[0;31m \u001b[0mtrain\u001b[0m \u001b[0;34m=\u001b[0m \u001b[0mpd\u001b[0m\u001b[0;34m.\u001b[0m\u001b[0mread_csv\u001b[0m\u001b[0;34m(\u001b[0m\u001b[0;34m\"../input/titanic/train.csv\"\u001b[0m\u001b[0;34m)\u001b[0m\u001b[0;34m\u001b[0m\u001b[0;34m\u001b[0m\u001b[0m\n\u001b[0m\u001b[1;32m      7\u001b[0m \u001b[0mtest\u001b[0m \u001b[0;34m=\u001b[0m \u001b[0mpd\u001b[0m\u001b[0;34m.\u001b[0m\u001b[0mread_csv\u001b[0m\u001b[0;34m(\u001b[0m\u001b[0;34m\"../input/titanic/test.csv\"\u001b[0m\u001b[0;34m)\u001b[0m\u001b[0;34m\u001b[0m\u001b[0;34m\u001b[0m\u001b[0m\n",
            "\u001b[0;32m/usr/local/lib/python3.10/dist-packages/pandas/util/_decorators.py\u001b[0m in \u001b[0;36mwrapper\u001b[0;34m(*args, **kwargs)\u001b[0m\n\u001b[1;32m    209\u001b[0m                 \u001b[0;32melse\u001b[0m\u001b[0;34m:\u001b[0m\u001b[0;34m\u001b[0m\u001b[0;34m\u001b[0m\u001b[0m\n\u001b[1;32m    210\u001b[0m                     \u001b[0mkwargs\u001b[0m\u001b[0;34m[\u001b[0m\u001b[0mnew_arg_name\u001b[0m\u001b[0;34m]\u001b[0m \u001b[0;34m=\u001b[0m \u001b[0mnew_arg_value\u001b[0m\u001b[0;34m\u001b[0m\u001b[0;34m\u001b[0m\u001b[0m\n\u001b[0;32m--> 211\u001b[0;31m             \u001b[0;32mreturn\u001b[0m \u001b[0mfunc\u001b[0m\u001b[0;34m(\u001b[0m\u001b[0;34m*\u001b[0m\u001b[0margs\u001b[0m\u001b[0;34m,\u001b[0m \u001b[0;34m**\u001b[0m\u001b[0mkwargs\u001b[0m\u001b[0;34m)\u001b[0m\u001b[0;34m\u001b[0m\u001b[0;34m\u001b[0m\u001b[0m\n\u001b[0m\u001b[1;32m    212\u001b[0m \u001b[0;34m\u001b[0m\u001b[0m\n\u001b[1;32m    213\u001b[0m         \u001b[0;32mreturn\u001b[0m \u001b[0mcast\u001b[0m\u001b[0;34m(\u001b[0m\u001b[0mF\u001b[0m\u001b[0;34m,\u001b[0m \u001b[0mwrapper\u001b[0m\u001b[0;34m)\u001b[0m\u001b[0;34m\u001b[0m\u001b[0;34m\u001b[0m\u001b[0m\n",
            "\u001b[0;32m/usr/local/lib/python3.10/dist-packages/pandas/util/_decorators.py\u001b[0m in \u001b[0;36mwrapper\u001b[0;34m(*args, **kwargs)\u001b[0m\n\u001b[1;32m    329\u001b[0m                     \u001b[0mstacklevel\u001b[0m\u001b[0;34m=\u001b[0m\u001b[0mfind_stack_level\u001b[0m\u001b[0;34m(\u001b[0m\u001b[0;34m)\u001b[0m\u001b[0;34m,\u001b[0m\u001b[0;34m\u001b[0m\u001b[0;34m\u001b[0m\u001b[0m\n\u001b[1;32m    330\u001b[0m                 )\n\u001b[0;32m--> 331\u001b[0;31m             \u001b[0;32mreturn\u001b[0m \u001b[0mfunc\u001b[0m\u001b[0;34m(\u001b[0m\u001b[0;34m*\u001b[0m\u001b[0margs\u001b[0m\u001b[0;34m,\u001b[0m \u001b[0;34m**\u001b[0m\u001b[0mkwargs\u001b[0m\u001b[0;34m)\u001b[0m\u001b[0;34m\u001b[0m\u001b[0;34m\u001b[0m\u001b[0m\n\u001b[0m\u001b[1;32m    332\u001b[0m \u001b[0;34m\u001b[0m\u001b[0m\n\u001b[1;32m    333\u001b[0m         \u001b[0;31m# error: \"Callable[[VarArg(Any), KwArg(Any)], Any]\" has no\u001b[0m\u001b[0;34m\u001b[0m\u001b[0;34m\u001b[0m\u001b[0m\n",
            "\u001b[0;32m/usr/local/lib/python3.10/dist-packages/pandas/io/parsers/readers.py\u001b[0m in \u001b[0;36mread_csv\u001b[0;34m(filepath_or_buffer, sep, delimiter, header, names, index_col, usecols, squeeze, prefix, mangle_dupe_cols, dtype, engine, converters, true_values, false_values, skipinitialspace, skiprows, skipfooter, nrows, na_values, keep_default_na, na_filter, verbose, skip_blank_lines, parse_dates, infer_datetime_format, keep_date_col, date_parser, dayfirst, cache_dates, iterator, chunksize, compression, thousands, decimal, lineterminator, quotechar, quoting, doublequote, escapechar, comment, encoding, encoding_errors, dialect, error_bad_lines, warn_bad_lines, on_bad_lines, delim_whitespace, low_memory, memory_map, float_precision, storage_options)\u001b[0m\n\u001b[1;32m    948\u001b[0m     \u001b[0mkwds\u001b[0m\u001b[0;34m.\u001b[0m\u001b[0mupdate\u001b[0m\u001b[0;34m(\u001b[0m\u001b[0mkwds_defaults\u001b[0m\u001b[0;34m)\u001b[0m\u001b[0;34m\u001b[0m\u001b[0;34m\u001b[0m\u001b[0m\n\u001b[1;32m    949\u001b[0m \u001b[0;34m\u001b[0m\u001b[0m\n\u001b[0;32m--> 950\u001b[0;31m     \u001b[0;32mreturn\u001b[0m \u001b[0m_read\u001b[0m\u001b[0;34m(\u001b[0m\u001b[0mfilepath_or_buffer\u001b[0m\u001b[0;34m,\u001b[0m \u001b[0mkwds\u001b[0m\u001b[0;34m)\u001b[0m\u001b[0;34m\u001b[0m\u001b[0;34m\u001b[0m\u001b[0m\n\u001b[0m\u001b[1;32m    951\u001b[0m \u001b[0;34m\u001b[0m\u001b[0m\n\u001b[1;32m    952\u001b[0m \u001b[0;34m\u001b[0m\u001b[0m\n",
            "\u001b[0;32m/usr/local/lib/python3.10/dist-packages/pandas/io/parsers/readers.py\u001b[0m in \u001b[0;36m_read\u001b[0;34m(filepath_or_buffer, kwds)\u001b[0m\n\u001b[1;32m    603\u001b[0m \u001b[0;34m\u001b[0m\u001b[0m\n\u001b[1;32m    604\u001b[0m     \u001b[0;31m# Create the parser.\u001b[0m\u001b[0;34m\u001b[0m\u001b[0;34m\u001b[0m\u001b[0m\n\u001b[0;32m--> 605\u001b[0;31m     \u001b[0mparser\u001b[0m \u001b[0;34m=\u001b[0m \u001b[0mTextFileReader\u001b[0m\u001b[0;34m(\u001b[0m\u001b[0mfilepath_or_buffer\u001b[0m\u001b[0;34m,\u001b[0m \u001b[0;34m**\u001b[0m\u001b[0mkwds\u001b[0m\u001b[0;34m)\u001b[0m\u001b[0;34m\u001b[0m\u001b[0;34m\u001b[0m\u001b[0m\n\u001b[0m\u001b[1;32m    606\u001b[0m \u001b[0;34m\u001b[0m\u001b[0m\n\u001b[1;32m    607\u001b[0m     \u001b[0;32mif\u001b[0m \u001b[0mchunksize\u001b[0m \u001b[0;32mor\u001b[0m \u001b[0miterator\u001b[0m\u001b[0;34m:\u001b[0m\u001b[0;34m\u001b[0m\u001b[0;34m\u001b[0m\u001b[0m\n",
            "\u001b[0;32m/usr/local/lib/python3.10/dist-packages/pandas/io/parsers/readers.py\u001b[0m in \u001b[0;36m__init__\u001b[0;34m(self, f, engine, **kwds)\u001b[0m\n\u001b[1;32m   1440\u001b[0m \u001b[0;34m\u001b[0m\u001b[0m\n\u001b[1;32m   1441\u001b[0m         \u001b[0mself\u001b[0m\u001b[0;34m.\u001b[0m\u001b[0mhandles\u001b[0m\u001b[0;34m:\u001b[0m \u001b[0mIOHandles\u001b[0m \u001b[0;34m|\u001b[0m \u001b[0;32mNone\u001b[0m \u001b[0;34m=\u001b[0m \u001b[0;32mNone\u001b[0m\u001b[0;34m\u001b[0m\u001b[0;34m\u001b[0m\u001b[0m\n\u001b[0;32m-> 1442\u001b[0;31m         \u001b[0mself\u001b[0m\u001b[0;34m.\u001b[0m\u001b[0m_engine\u001b[0m \u001b[0;34m=\u001b[0m \u001b[0mself\u001b[0m\u001b[0;34m.\u001b[0m\u001b[0m_make_engine\u001b[0m\u001b[0;34m(\u001b[0m\u001b[0mf\u001b[0m\u001b[0;34m,\u001b[0m \u001b[0mself\u001b[0m\u001b[0;34m.\u001b[0m\u001b[0mengine\u001b[0m\u001b[0;34m)\u001b[0m\u001b[0;34m\u001b[0m\u001b[0;34m\u001b[0m\u001b[0m\n\u001b[0m\u001b[1;32m   1443\u001b[0m \u001b[0;34m\u001b[0m\u001b[0m\n\u001b[1;32m   1444\u001b[0m     \u001b[0;32mdef\u001b[0m \u001b[0mclose\u001b[0m\u001b[0;34m(\u001b[0m\u001b[0mself\u001b[0m\u001b[0;34m)\u001b[0m \u001b[0;34m->\u001b[0m \u001b[0;32mNone\u001b[0m\u001b[0;34m:\u001b[0m\u001b[0;34m\u001b[0m\u001b[0;34m\u001b[0m\u001b[0m\n",
            "\u001b[0;32m/usr/local/lib/python3.10/dist-packages/pandas/io/parsers/readers.py\u001b[0m in \u001b[0;36m_make_engine\u001b[0;34m(self, f, engine)\u001b[0m\n\u001b[1;32m   1733\u001b[0m                 \u001b[0;32mif\u001b[0m \u001b[0;34m\"b\"\u001b[0m \u001b[0;32mnot\u001b[0m \u001b[0;32min\u001b[0m \u001b[0mmode\u001b[0m\u001b[0;34m:\u001b[0m\u001b[0;34m\u001b[0m\u001b[0;34m\u001b[0m\u001b[0m\n\u001b[1;32m   1734\u001b[0m                     \u001b[0mmode\u001b[0m \u001b[0;34m+=\u001b[0m \u001b[0;34m\"b\"\u001b[0m\u001b[0;34m\u001b[0m\u001b[0;34m\u001b[0m\u001b[0m\n\u001b[0;32m-> 1735\u001b[0;31m             self.handles = get_handle(\n\u001b[0m\u001b[1;32m   1736\u001b[0m                 \u001b[0mf\u001b[0m\u001b[0;34m,\u001b[0m\u001b[0;34m\u001b[0m\u001b[0;34m\u001b[0m\u001b[0m\n\u001b[1;32m   1737\u001b[0m                 \u001b[0mmode\u001b[0m\u001b[0;34m,\u001b[0m\u001b[0;34m\u001b[0m\u001b[0;34m\u001b[0m\u001b[0m\n",
            "\u001b[0;32m/usr/local/lib/python3.10/dist-packages/pandas/io/common.py\u001b[0m in \u001b[0;36mget_handle\u001b[0;34m(path_or_buf, mode, encoding, compression, memory_map, is_text, errors, storage_options)\u001b[0m\n\u001b[1;32m    854\u001b[0m         \u001b[0;32mif\u001b[0m \u001b[0mioargs\u001b[0m\u001b[0;34m.\u001b[0m\u001b[0mencoding\u001b[0m \u001b[0;32mand\u001b[0m \u001b[0;34m\"b\"\u001b[0m \u001b[0;32mnot\u001b[0m \u001b[0;32min\u001b[0m \u001b[0mioargs\u001b[0m\u001b[0;34m.\u001b[0m\u001b[0mmode\u001b[0m\u001b[0;34m:\u001b[0m\u001b[0;34m\u001b[0m\u001b[0;34m\u001b[0m\u001b[0m\n\u001b[1;32m    855\u001b[0m             \u001b[0;31m# Encoding\u001b[0m\u001b[0;34m\u001b[0m\u001b[0;34m\u001b[0m\u001b[0m\n\u001b[0;32m--> 856\u001b[0;31m             handle = open(\n\u001b[0m\u001b[1;32m    857\u001b[0m                 \u001b[0mhandle\u001b[0m\u001b[0;34m,\u001b[0m\u001b[0;34m\u001b[0m\u001b[0;34m\u001b[0m\u001b[0m\n\u001b[1;32m    858\u001b[0m                 \u001b[0mioargs\u001b[0m\u001b[0;34m.\u001b[0m\u001b[0mmode\u001b[0m\u001b[0;34m,\u001b[0m\u001b[0;34m\u001b[0m\u001b[0;34m\u001b[0m\u001b[0m\n",
            "\u001b[0;31mFileNotFoundError\u001b[0m: [Errno 2] No such file or directory: '../input/titanic/train.csv'"
          ]
        }
      ]
    },
    {
      "cell_type": "code",
      "source": [
        "#train.describe()\n",
        "print(len(train))\n",
        "train.head(10)"
      ],
      "metadata": {
        "execution": {
          "iopub.status.busy": "2023-11-12T14:26:39.460455Z",
          "iopub.execute_input": "2023-11-12T14:26:39.460931Z",
          "iopub.status.idle": "2023-11-12T14:26:39.482003Z",
          "shell.execute_reply.started": "2023-11-12T14:26:39.460886Z",
          "shell.execute_reply": "2023-11-12T14:26:39.480777Z"
        },
        "trusted": true,
        "id": "A_egOyqrC5Rb"
      },
      "execution_count": null,
      "outputs": []
    },
    {
      "cell_type": "code",
      "source": [
        "DICT_SURVIVED = {0: '0: Dead', 1: '1: Survived'}\n",
        "\n",
        "feature_name = \"Sex\"\n",
        "\n",
        "train_re = train.groupby([feature_name])[\"Survived\"].value_counts(sort=False).unstack().rename(columns=DICT_SURVIVED)\n",
        "print(train_re)\n",
        "index_ = train_re.index.values\n",
        "columns_ = train_re.columns.values\n",
        "print(columns_[0])\n",
        "\n",
        "print(train_re.loc[:,columns_[0]])\n",
        "print(train_re.loc[index_[0]])\n",
        "\n",
        "import matplotlib.pyplot as plt\n",
        "fig, ax = plt.subplots(1,1)\n",
        "\n",
        "for i in range(len(index_)):\n",
        "    ax.bar(columns_, train_re.loc[index_[i]], bottom=train_re.loc[index_[:i]].sum(), label=index_[i])\n",
        "ax.set_title('Second plot')\n",
        "#ax.set_xlabel(columns_)\n",
        "ax.set_ylabel(\"count\")\n",
        "ax.yaxis.tick_right()\n",
        "ax.legend()\n",
        "\n",
        "fig.tight_layout()\n",
        "\n"
      ],
      "metadata": {
        "execution": {
          "iopub.status.busy": "2023-11-12T14:26:40.185874Z",
          "iopub.execute_input": "2023-11-12T14:26:40.186440Z",
          "iopub.status.idle": "2023-11-12T14:26:40.527109Z",
          "shell.execute_reply.started": "2023-11-12T14:26:40.186405Z",
          "shell.execute_reply": "2023-11-12T14:26:40.526242Z"
        },
        "trusted": true,
        "id": "aGZlCD0zC5Rc",
        "outputId": "0d551a3e-d422-438c-9b3b-debb4b12113c"
      },
      "execution_count": null,
      "outputs": [
        {
          "name": "stdout",
          "text": "Survived  0: Dead  1: Survived\nSex                           \nfemale         81          233\nmale          468          109\n0: Dead\nSex\nfemale     81\nmale      468\nName: 0: Dead, dtype: int64\nSurvived\n0: Dead         81\n1: Survived    233\nName: female, dtype: int64\n",
          "output_type": "stream"
        },
        {
          "output_type": "display_data",
          "data": {
            "text/plain": "<Figure size 800x550 with 1 Axes>",
            "image/png": "[encoded data removed]"
          },
          "metadata": {}
        }
      ]
    },
    {
      "cell_type": "markdown",
      "source": [
        "### feature eng"
      ],
      "metadata": {
        "id": "Hk1lSZWHC5Rd"
      }
    },
    {
      "cell_type": "code",
      "source": [
        "import re\n",
        "\n",
        "pat = re.compile(\"[,.]\")\n",
        "temp = train[\"Name\"].str.split(pat, expand=True)\n",
        "print(temp)\n",
        "print(temp.nunique())\n",
        "print(temp.info())\n",
        "#print(temp.loc[:,0].nunique())\n",
        "\n",
        "temp_test = test[\"Name\"].str.split(pat, expand=True)\n",
        "\n",
        "if 1:\n",
        "    train[\"FirstName\"] = temp.loc[:,0]\n",
        "    train[\"Honorific\"] = temp.loc[:,1]\n",
        "    train[\"LastName\"] = temp.loc[:,2]\n",
        "    train[\"FamilyNumber\"] = train[\"SibSp\"] + train[\"Parch\"]\n",
        "if 1:\n",
        "    test[\"FirstName\"] = temp_test.loc[:,0]\n",
        "    test[\"Honorific\"] = temp_test.loc[:,1]\n",
        "    test[\"LastName\"] = temp_test.loc[:,2]\n",
        "    test[\"FamilyNumber\"] = test[\"SibSp\"] + test[\"Parch\"]\n"
      ],
      "metadata": {
        "execution": {
          "iopub.status.busy": "2023-11-12T14:26:41.772564Z",
          "iopub.execute_input": "2023-11-12T14:26:41.773298Z",
          "iopub.status.idle": "2023-11-12T14:26:41.808054Z",
          "shell.execute_reply.started": "2023-11-12T14:26:41.773257Z",
          "shell.execute_reply": "2023-11-12T14:26:41.806462Z"
        },
        "trusted": true,
        "id": "5lm4rei4C5Re",
        "outputId": "4e525fb8-5bb6-47ef-c4c3-622122cbf49d"
      },
      "execution_count": null,
      "outputs": [
        {
          "name": "stdout",
          "text": "             0      1                                       2     3\n0       Braund     Mr                             Owen Harris  None\n1      Cumings    Mrs   John Bradley (Florence Briggs Thayer)  None\n2    Heikkinen   Miss                                   Laina  None\n3     Futrelle    Mrs           Jacques Heath (Lily May Peel)  None\n4        Allen     Mr                           William Henry  None\n..         ...    ...                                     ...   ...\n886   Montvila    Rev                                  Juozas  None\n887     Graham   Miss                          Margaret Edith  None\n888   Johnston   Miss                Catherine Helen \"Carrie\"  None\n889       Behr     Mr                             Karl Howell  None\n890     Dooley     Mr                                 Patrick  None\n\n[891 rows x 4 columns]\n0    667\n1     17\n2    799\n3      1\ndtype: int64\n<class 'pandas.core.frame.DataFrame'>\nRangeIndex: 891 entries, 0 to 890\nData columns (total 4 columns):\n #   Column  Non-Null Count  Dtype \n---  ------  --------------  ----- \n 0   0       891 non-null    object\n 1   1       891 non-null    object\n 2   2       891 non-null    object\n 3   3       1 non-null      object\ndtypes: object(4)\nmemory usage: 28.0+ KB\nNone\n",
          "output_type": "stream"
        }
      ]
    },
    {
      "cell_type": "code",
      "source": [
        "train.head(10)"
      ],
      "metadata": {
        "execution": {
          "iopub.status.busy": "2023-11-12T14:26:42.484272Z",
          "iopub.execute_input": "2023-11-12T14:26:42.484880Z",
          "iopub.status.idle": "2023-11-12T14:26:42.505471Z",
          "shell.execute_reply.started": "2023-11-12T14:26:42.484846Z",
          "shell.execute_reply": "2023-11-12T14:26:42.504504Z"
        },
        "trusted": true,
        "id": "CgzhPjNvC5Re",
        "outputId": "8068e4fc-d3d9-416a-c8ff-3136eb029029"
      },
      "execution_count": null,
      "outputs": [
        {
          "execution_count": 25,
          "output_type": "execute_result",
          "data": {
            "text/plain": "   PassengerId  Survived  Pclass   \n0            1         0       3  \\\n1            2         1       1   \n2            3         1       3   \n3            4         1       1   \n4            5         0       3   \n5            6         0       3   \n6            7         0       1   \n7            8         0       3   \n8            9         1       3   \n9           10         1       2   \n\n                                                Name     Sex   Age  SibSp   \n0                            Braund, Mr. Owen Harris    male  22.0      1  \\\n1  Cumings, Mrs. John Bradley (Florence Briggs Th...  female  38.0      1   \n2                             Heikkinen, Miss. Laina  female  26.0      0   \n3       Futrelle, Mrs. Jacques Heath (Lily May Peel)  female  35.0      1   \n4                           Allen, Mr. William Henry    male  35.0      0   \n5                                   Moran, Mr. James    male   NaN      0   \n6                            McCarthy, Mr. Timothy J    male  54.0      0   \n7                     Palsson, Master. Gosta Leonard    male   2.0      3   \n8  Johnson, Mrs. Oscar W (Elisabeth Vilhelmina Berg)  female  27.0      0   \n9                Nasser, Mrs. Nicholas (Adele Achem)  female  14.0      1   \n\n   Parch            Ticket     Fare Cabin Embarked  FirstName Honorific   \n0      0         A/5 21171   7.2500   NaN        S     Braund        Mr  \\\n1      0          PC 17599  71.2833   C85        C    Cumings       Mrs   \n2      0  STON/O2. 3101282   7.9250   NaN        S  Heikkinen      Miss   \n3      0            113803  53.1000  C123        S   Futrelle       Mrs   \n4      0            373450   8.0500   NaN        S      Allen        Mr   \n5      0            330877   8.4583   NaN        Q      Moran        Mr   \n6      0             17463  51.8625   E46        S   McCarthy        Mr   \n7      1            349909  21.0750   NaN        S    Palsson    Master   \n8      2            347742  11.1333   NaN        S    Johnson       Mrs   \n9      0            237736  30.0708   NaN        C     Nasser       Mrs   \n\n                                 LastName  FamilyNumber  \n0                             Owen Harris             1  \n1   John Bradley (Florence Briggs Thayer)             1  \n2                                   Laina             0  \n3           Jacques Heath (Lily May Peel)             1  \n4                           William Henry             0  \n5                                   James             0  \n6                               Timothy J             0  \n7                           Gosta Leonard             4  \n8     Oscar W (Elisabeth Vilhelmina Berg)             2  \n9                  Nicholas (Adele Achem)             1  ",
            "text/html": "<div>\n<style scoped>\n    .dataframe tbody tr th:only-of-type {\n        vertical-align: middle;\n    }\n\n    .dataframe tbody tr th {\n        vertical-align: top;\n    }\n\n    .dataframe thead th {\n        text-align: right;\n    }\n</style>\n<table border=\"1\" class=\"dataframe\">\n  <thead>\n    <tr style=\"text-align: right;\">\n      <th></th>\n      <th>PassengerId</th>\n      <th>Survived</th>\n      <th>Pclass</th>\n      <th>Name</th>\n      <th>Sex</th>\n      <th>Age</th>\n      <th>SibSp</th>\n      <th>Parch</th>\n      <th>Ticket</th>\n      <th>Fare</th>\n      <th>Cabin</th>\n      <th>Embarked</th>\n      <th>FirstName</th>\n      <th>Honorific</th>\n      <th>LastName</th>\n      <th>FamilyNumber</th>\n    </tr>\n  </thead>\n  <tbody>\n    <tr>\n      <th>0</th>\n      <td>1</td>\n      <td>0</td>\n      <td>3</td>\n      <td>Braund, Mr. Owen Harris</td>\n      <td>male</td>\n      <td>22.0</td>\n      <td>1</td>\n      <td>0</td>\n      <td>A/5 21171</td>\n      <td>7.2500</td>\n      <td>NaN</td>\n      <td>S</td>\n      <td>Braund</td>\n      <td>Mr</td>\n      <td>Owen Harris</td>\n      <td>1</td>\n    </tr>\n    <tr>\n      <th>1</th>\n      <td>2</td>\n      <td>1</td>\n      <td>1</td>\n      <td>Cumings, Mrs. John Bradley (Florence Briggs Th...</td>\n      <td>female</td>\n      <td>38.0</td>\n      <td>1</td>\n      <td>0</td>\n      <td>PC 17599</td>\n      <td>71.2833</td>\n      <td>C85</td>\n      <td>C</td>\n      <td>Cumings</td>\n      <td>Mrs</td>\n      <td>John Bradley (Florence Briggs Thayer)</td>\n      <td>1</td>\n    </tr>\n    <tr>\n      <th>2</th>\n      <td>3</td>\n      <td>1</td>\n      <td>3</td>\n      <td>Heikkinen, Miss. Laina</td>\n      <td>female</td>\n      <td>26.0</td>\n      <td>0</td>\n      <td>0</td>\n      <td>STON/O2. 3101282</td>\n      <td>7.9250</td>\n      <td>NaN</td>\n      <td>S</td>\n      <td>Heikkinen</td>\n      <td>Miss</td>\n      <td>Laina</td>\n      <td>0</td>\n    </tr>\n    <tr>\n      <th>3</th>\n      <td>4</td>\n      <td>1</td>\n      <td>1</td>\n      <td>Futrelle, Mrs. Jacques Heath (Lily May Peel)</td>\n      <td>female</td>\n      <td>35.0</td>\n      <td>1</td>\n      <td>0</td>\n      <td>113803</td>\n      <td>53.1000</td>\n      <td>C123</td>\n      <td>S</td>\n      <td>Futrelle</td>\n      <td>Mrs</td>\n      <td>Jacques Heath (Lily May Peel)</td>\n      <td>1</td>\n    </tr>\n    <tr>\n      <th>4</th>\n      <td>5</td>\n      <td>0</td>\n      <td>3</td>\n      <td>Allen, Mr. William Henry</td>\n      <td>male</td>\n      <td>35.0</td>\n      <td>0</td>\n      <td>0</td>\n      <td>373450</td>\n      <td>8.0500</td>\n      <td>NaN</td>\n      <td>S</td>\n      <td>Allen</td>\n      <td>Mr</td>\n      <td>William Henry</td>\n      <td>0</td>\n    </tr>\n    <tr>\n      <th>5</th>\n      <td>6</td>\n      <td>0</td>\n      <td>3</td>\n      <td>Moran, Mr. James</td>\n      <td>male</td>\n      <td>NaN</td>\n      <td>0</td>\n      <td>0</td>\n      <td>330877</td>\n      <td>8.4583</td>\n      <td>NaN</td>\n      <td>Q</td>\n      <td>Moran</td>\n      <td>Mr</td>\n      <td>James</td>\n      <td>0</td>\n    </tr>\n    <tr>\n      <th>6</th>\n      <td>7</td>\n      <td>0</td>\n      <td>1</td>\n      <td>McCarthy, Mr. Timothy J</td>\n      <td>male</td>\n      <td>54.0</td>\n      <td>0</td>\n      <td>0</td>\n      <td>17463</td>\n      <td>51.8625</td>\n      <td>E46</td>\n      <td>S</td>\n      <td>McCarthy</td>\n      <td>Mr</td>\n      <td>Timothy J</td>\n      <td>0</td>\n    </tr>\n    <tr>\n      <th>7</th>\n      <td>8</td>\n      <td>0</td>\n      <td>3</td>\n      <td>Palsson, Master. Gosta Leonard</td>\n      <td>male</td>\n      <td>2.0</td>\n      <td>3</td>\n      <td>1</td>\n      <td>349909</td>\n      <td>21.0750</td>\n      <td>NaN</td>\n      <td>S</td>\n      <td>Palsson</td>\n      <td>Master</td>\n      <td>Gosta Leonard</td>\n      <td>4</td>\n    </tr>\n    <tr>\n      <th>8</th>\n      <td>9</td>\n      <td>1</td>\n      <td>3</td>\n      <td>Johnson, Mrs. Oscar W (Elisabeth Vilhelmina Berg)</td>\n      <td>female</td>\n      <td>27.0</td>\n      <td>0</td>\n      <td>2</td>\n      <td>347742</td>\n      <td>11.1333</td>\n      <td>NaN</td>\n      <td>S</td>\n      <td>Johnson</td>\n      <td>Mrs</td>\n      <td>Oscar W (Elisabeth Vilhelmina Berg)</td>\n      <td>2</td>\n    </tr>\n    <tr>\n      <th>9</th>\n      <td>10</td>\n      <td>1</td>\n      <td>2</td>\n      <td>Nasser, Mrs. Nicholas (Adele Achem)</td>\n      <td>female</td>\n      <td>14.0</td>\n      <td>1</td>\n      <td>0</td>\n      <td>237736</td>\n      <td>30.0708</td>\n      <td>NaN</td>\n      <td>C</td>\n      <td>Nasser</td>\n      <td>Mrs</td>\n      <td>Nicholas (Adele Achem)</td>\n      <td>1</td>\n    </tr>\n  </tbody>\n</table>\n</div>"
          },
          "metadata": {}
        }
      ]
    },
    {
      "cell_type": "markdown",
      "source": [
        "### ml_set"
      ],
      "metadata": {
        "id": "B9SVcpW-C5Rf"
      }
    },
    {
      "cell_type": "code",
      "source": [
        "import pandas as pd\n",
        "reg = setup(train, target = 'Survived',\n",
        "            #log_experiment=True,\n",
        "            log_plots = True,\n",
        "            log_profile = True,\n",
        "            log_data = True,\n",
        "            #='kaggle_titanic_add',\n",
        "            ignore_features = [\"PassengerId\", \"Ticket\", \"Cabin\", \"Name\", \"FirstName\", \"SibSp\", \"Parch\"],\n",
        "            max_encoding_ohe = 10,\n",
        "            numeric_imputation = \"median\",\n",
        "            categorical_features = [\"Pclass\", \"Sex\", \"Embarked\", \"Honorific\", \"LastName\"],\n",
        "            bin_numeric_features = [\"Fare\"],\n",
        "            normalize = True,\n",
        "            normalize_method = \"zscore\",\n",
        "            #remove_multicollinearity = True,\n",
        "            #multicollinearity_threshold = True\n",
        "            #feature_selection = True\n",
        "            #polynomial_features = True,\n",
        "            #group_features = ['wheel', 'time']\n",
        "            #create_clusters = True\n",
        "            )"
      ],
      "metadata": {
        "execution": {
          "iopub.status.busy": "2023-11-12T14:27:20.338621Z",
          "iopub.execute_input": "2023-11-12T14:27:20.339118Z",
          "iopub.status.idle": "2023-11-12T14:28:13.825960Z",
          "shell.execute_reply.started": "2023-11-12T14:27:20.339084Z",
          "shell.execute_reply": "2023-11-12T14:28:13.824612Z"
        },
        "trusted": true,
        "id": "JeGi06WDC5Rg",
        "outputId": "a2d73c88-8e02-4af2-bcde-a36e4a291369"
      },
      "execution_count": null,
      "outputs": [
        {
          "name": "stderr",
          "text": "2023/11/12 14:28:05 WARNING mlflow.sklearn: Training metrics will not be recorded because training labels were not specified. To automatically record training metrics, provide training labels as inputs to the model training function.\n",
          "output_type": "stream"
        },
        {
          "output_type": "display_data",
          "data": {
            "text/plain": "<pandas.io.formats.style.Styler at 0x7df5c2346a70>",
            "text/html": "<style type=\"text/css\">\n#T_29a6f_row12_col1, #T_29a6f_row18_col1 {\n  background-color: lightgreen;\n}\n</style>\n<table id=\"T_29a6f\">\n  <thead>\n    <tr>\n      <th class=\"blank level0\" >&nbsp;</th>\n      <th id=\"T_29a6f_level0_col0\" class=\"col_heading level0 col0\" >Description</th>\n      <th id=\"T_29a6f_level0_col1\" class=\"col_heading level0 col1\" >Value</th>\n    </tr>\n  </thead>\n  <tbody>\n    <tr>\n      <th id=\"T_29a6f_level0_row0\" class=\"row_heading level0 row0\" >0</th>\n      <td id=\"T_29a6f_row0_col0\" class=\"data row0 col0\" >Session id</td>\n      <td id=\"T_29a6f_row0_col1\" class=\"data row0 col1\" >3497</td>\n    </tr>\n    <tr>\n      <th id=\"T_29a6f_level0_row1\" class=\"row_heading level0 row1\" >1</th>\n      <td id=\"T_29a6f_row1_col0\" class=\"data row1 col0\" >Target</td>\n      <td id=\"T_29a6f_row1_col1\" class=\"data row1 col1\" >Survived</td>\n    </tr>\n    <tr>\n      <th id=\"T_29a6f_level0_row2\" class=\"row_heading level0 row2\" >2</th>\n      <td id=\"T_29a6f_row2_col0\" class=\"data row2 col0\" >Target type</td>\n      <td id=\"T_29a6f_row2_col1\" class=\"data row2 col1\" >Binary</td>\n    </tr>\n    <tr>\n      <th id=\"T_29a6f_level0_row3\" class=\"row_heading level0 row3\" >3</th>\n      <td id=\"T_29a6f_row3_col0\" class=\"data row3 col0\" >Original data shape</td>\n      <td id=\"T_29a6f_row3_col1\" class=\"data row3 col1\" >(891, 16)</td>\n    </tr>\n    <tr>\n      <th id=\"T_29a6f_level0_row4\" class=\"row_heading level0 row4\" >4</th>\n      <td id=\"T_29a6f_row4_col0\" class=\"data row4 col0\" >Transformed data shape</td>\n      <td id=\"T_29a6f_row4_col1\" class=\"data row4 col1\" >(891, 13)</td>\n    </tr>\n    <tr>\n      <th id=\"T_29a6f_level0_row5\" class=\"row_heading level0 row5\" >5</th>\n      <td id=\"T_29a6f_row5_col0\" class=\"data row5 col0\" >Transformed train set shape</td>\n      <td id=\"T_29a6f_row5_col1\" class=\"data row5 col1\" >(623, 13)</td>\n    </tr>\n    <tr>\n      <th id=\"T_29a6f_level0_row6\" class=\"row_heading level0 row6\" >6</th>\n      <td id=\"T_29a6f_row6_col0\" class=\"data row6 col0\" >Transformed test set shape</td>\n      <td id=\"T_29a6f_row6_col1\" class=\"data row6 col1\" >(268, 13)</td>\n    </tr>\n    <tr>\n      <th id=\"T_29a6f_level0_row7\" class=\"row_heading level0 row7\" >7</th>\n      <td id=\"T_29a6f_row7_col0\" class=\"data row7 col0\" >Ignore features</td>\n      <td id=\"T_29a6f_row7_col1\" class=\"data row7 col1\" >7</td>\n    </tr>\n    <tr>\n      <th id=\"T_29a6f_level0_row8\" class=\"row_heading level0 row8\" >8</th>\n      <td id=\"T_29a6f_row8_col0\" class=\"data row8 col0\" >Ordinal features</td>\n      <td id=\"T_29a6f_row8_col1\" class=\"data row8 col1\" >1</td>\n    </tr>\n    <tr>\n      <th id=\"T_29a6f_level0_row9\" class=\"row_heading level0 row9\" >9</th>\n      <td id=\"T_29a6f_row9_col0\" class=\"data row9 col0\" >Numeric features</td>\n      <td id=\"T_29a6f_row9_col1\" class=\"data row9 col1\" >3</td>\n    </tr>\n    <tr>\n      <th id=\"T_29a6f_level0_row10\" class=\"row_heading level0 row10\" >10</th>\n      <td id=\"T_29a6f_row10_col0\" class=\"data row10 col0\" >Categorical features</td>\n      <td id=\"T_29a6f_row10_col1\" class=\"data row10 col1\" >5</td>\n    </tr>\n    <tr>\n      <th id=\"T_29a6f_level0_row11\" class=\"row_heading level0 row11\" >11</th>\n      <td id=\"T_29a6f_row11_col0\" class=\"data row11 col0\" >Rows with missing values</td>\n      <td id=\"T_29a6f_row11_col1\" class=\"data row11 col1\" >79.5%</td>\n    </tr>\n    <tr>\n      <th id=\"T_29a6f_level0_row12\" class=\"row_heading level0 row12\" >12</th>\n      <td id=\"T_29a6f_row12_col0\" class=\"data row12 col0\" >Preprocess</td>\n      <td id=\"T_29a6f_row12_col1\" class=\"data row12 col1\" >True</td>\n    </tr>\n    <tr>\n      <th id=\"T_29a6f_level0_row13\" class=\"row_heading level0 row13\" >13</th>\n      <td id=\"T_29a6f_row13_col0\" class=\"data row13 col0\" >Imputation type</td>\n      <td id=\"T_29a6f_row13_col1\" class=\"data row13 col1\" >simple</td>\n    </tr>\n    <tr>\n      <th id=\"T_29a6f_level0_row14\" class=\"row_heading level0 row14\" >14</th>\n      <td id=\"T_29a6f_row14_col0\" class=\"data row14 col0\" >Numeric imputation</td>\n      <td id=\"T_29a6f_row14_col1\" class=\"data row14 col1\" >median</td>\n    </tr>\n    <tr>\n      <th id=\"T_29a6f_level0_row15\" class=\"row_heading level0 row15\" >15</th>\n      <td id=\"T_29a6f_row15_col0\" class=\"data row15 col0\" >Categorical imputation</td>\n      <td id=\"T_29a6f_row15_col1\" class=\"data row15 col1\" >mode</td>\n    </tr>\n    <tr>\n      <th id=\"T_29a6f_level0_row16\" class=\"row_heading level0 row16\" >16</th>\n      <td id=\"T_29a6f_row16_col0\" class=\"data row16 col0\" >Maximum one-hot encoding</td>\n      <td id=\"T_29a6f_row16_col1\" class=\"data row16 col1\" >10</td>\n    </tr>\n    <tr>\n      <th id=\"T_29a6f_level0_row17\" class=\"row_heading level0 row17\" >17</th>\n      <td id=\"T_29a6f_row17_col0\" class=\"data row17 col0\" >Encoding method</td>\n      <td id=\"T_29a6f_row17_col1\" class=\"data row17 col1\" >None</td>\n    </tr>\n    <tr>\n      <th id=\"T_29a6f_level0_row18\" class=\"row_heading level0 row18\" >18</th>\n      <td id=\"T_29a6f_row18_col0\" class=\"data row18 col0\" >Normalize</td>\n      <td id=\"T_29a6f_row18_col1\" class=\"data row18 col1\" >True</td>\n    </tr>\n    <tr>\n      <th id=\"T_29a6f_level0_row19\" class=\"row_heading level0 row19\" >19</th>\n      <td id=\"T_29a6f_row19_col0\" class=\"data row19 col0\" >Normalize method</td>\n      <td id=\"T_29a6f_row19_col1\" class=\"data row19 col1\" >zscore</td>\n    </tr>\n    <tr>\n      <th id=\"T_29a6f_level0_row20\" class=\"row_heading level0 row20\" >20</th>\n      <td id=\"T_29a6f_row20_col0\" class=\"data row20 col0\" >Fold Generator</td>\n      <td id=\"T_29a6f_row20_col1\" class=\"data row20 col1\" >StratifiedKFold</td>\n    </tr>\n    <tr>\n      <th id=\"T_29a6f_level0_row21\" class=\"row_heading level0 row21\" >21</th>\n      <td id=\"T_29a6f_row21_col0\" class=\"data row21 col0\" >Fold Number</td>\n      <td id=\"T_29a6f_row21_col1\" class=\"data row21 col1\" >10</td>\n    </tr>\n    <tr>\n      <th id=\"T_29a6f_level0_row22\" class=\"row_heading level0 row22\" >22</th>\n      <td id=\"T_29a6f_row22_col0\" class=\"data row22 col0\" >CPU Jobs</td>\n      <td id=\"T_29a6f_row22_col1\" class=\"data row22 col1\" >-1</td>\n    </tr>\n    <tr>\n      <th id=\"T_29a6f_level0_row23\" class=\"row_heading level0 row23\" >23</th>\n      <td id=\"T_29a6f_row23_col0\" class=\"data row23 col0\" >Use GPU</td>\n      <td id=\"T_29a6f_row23_col1\" class=\"data row23 col1\" >False</td>\n    </tr>\n    <tr>\n      <th id=\"T_29a6f_level0_row24\" class=\"row_heading level0 row24\" >24</th>\n      <td id=\"T_29a6f_row24_col0\" class=\"data row24 col0\" >Log Experiment</td>\n      <td id=\"T_29a6f_row24_col1\" class=\"data row24 col1\" >False</td>\n    </tr>\n    <tr>\n      <th id=\"T_29a6f_level0_row25\" class=\"row_heading level0 row25\" >25</th>\n      <td id=\"T_29a6f_row25_col0\" class=\"data row25 col0\" >Experiment Name</td>\n      <td id=\"T_29a6f_row25_col1\" class=\"data row25 col1\" >clf-default-name</td>\n    </tr>\n    <tr>\n      <th id=\"T_29a6f_level0_row26\" class=\"row_heading level0 row26\" >26</th>\n      <td id=\"T_29a6f_row26_col0\" class=\"data row26 col0\" >USI</td>\n      <td id=\"T_29a6f_row26_col1\" class=\"data row26 col1\" >e339</td>\n    </tr>\n  </tbody>\n</table>\n"
          },
          "metadata": {}
        }
      ]
    },
    {
      "cell_type": "code",
      "source": [
        "pipeline = get_config(\"pipeline\")\n",
        "print(pipeline)\n",
        "\n",
        "X_train = get_config(\"X_train\")\n",
        "X_train.head(20)\n"
      ],
      "metadata": {
        "execution": {
          "iopub.status.busy": "2023-11-12T14:29:36.415443Z",
          "iopub.execute_input": "2023-11-12T14:29:36.415858Z",
          "iopub.status.idle": "2023-11-12T14:29:36.516771Z",
          "shell.execute_reply.started": "2023-11-12T14:29:36.415828Z",
          "shell.execute_reply": "2023-11-12T14:29:36.515520Z"
        },
        "trusted": true,
        "id": "1UHJzj0ZC5Rh",
        "outputId": "c9b48fd1-7e53-4e8f-9727-d06f05c1abd9"
      },
      "execution_count": null,
      "outputs": [
        {
          "name": "stdout",
          "text": "Pipeline(memory=FastMemory(location=/tmp/joblib),\n         steps=[('numerical_imputer',\n                 TransformerWrapper(exclude=None,\n                                    include=['Age', 'Fare', 'FamilyNumber'],\n                                    transformer=SimpleImputer(add_indicator=False,\n                                                              copy=True,\n                                                              fill_value=None,\n                                                              keep_empty_features=False,\n                                                              missing_values=nan,\n                                                              strategy='median',\n                                                              verbose='deprecated'))),\n                ('categorical_imputer',\n                 TransformerWrapper(ex...\n                                                              verbose=0))),\n                ('bin_numeric_features',\n                 TransformerWrapper(exclude=None, include=['Fare'],\n                                    transformer=KBinsDiscretizer(dtype=None,\n                                                                 encode='ordinal',\n                                                                 n_bins=5,\n                                                                 random_state=None,\n                                                                 strategy='kmeans',\n                                                                 subsample='warn'))),\n                ('normalize',\n                 TransformerWrapper(exclude=None, include=None,\n                                    transformer=StandardScaler(copy=True,\n                                                               with_mean=True,\n                                                               with_std=True)))],\n         verbose=False)\n",
          "output_type": "stream"
        },
        {
          "execution_count": 29,
          "output_type": "execute_result",
          "data": {
            "text/plain": "     Pclass     Sex   Age        Fare Embarked Honorific   \n194       1  female  44.0   27.720800        C       Mrs  \\\n268       1  female  58.0  153.462494        S       Mrs   \n134       2    male  25.0   13.000000        S        Mr   \n375       1  female   NaN   82.170799        C       Mrs   \n531       3    male   NaN    7.229200        C        Mr   \n746       3    male  16.0   20.250000        S        Mr   \n768       3    male   NaN   24.150000        Q        Mr   \n584       3    male   NaN    8.712500        C        Mr   \n507       1    male   NaN   26.549999        S        Mr   \n801       2  female  31.0   26.250000        S       Mrs   \n547       2    male   NaN   13.862500        C        Mr   \n169       3    male  28.0   56.495800        S        Mr   \n697       3  female   NaN    7.733300        Q      Miss   \n210       3    male  24.0    7.050000        S        Mr   \n488       3    male  30.0    8.050000        S        Mr   \n107       3    male   NaN    7.775000        S        Mr   \n770       3    male  24.0    9.500000        S        Mr   \n71        3  female  16.0   46.900002        S      Miss   \n664       3    male  20.0    7.925000        S        Mr   \n548       3    male  33.0   20.525000        S        Mr   \n\n                              LastName  FamilyNumber  \n194      James Joseph (Margaret Tobin)             0  \n268   William Thompson (Edith Junkins)             1  \n134                Samuel James Hayden             0  \n375          Edgar Joseph (Leila Saks)             1  \n531                              Nakli             0  \n746                    Rossmore Edward             2  \n768                           Daniel J             1  \n584                             Uscher             0  \n507   George (\"George Arthur Brayton\")             0  \n801      Harvey (Charlotte Annie Tate)             2  \n547                             Julian             0  \n169                                Lee             0  \n697                  Katherine \"Katie\"             0  \n210                              Ahmed             0  \n488                    Francis William             0  \n107                       Albert Johan             0  \n770                          Rene Aime             0  \n71                         Lillian Amy             7  \n664                       Eino William             1  \n548                         Frank John             2  ",
            "text/html": "<div>\n<style scoped>\n    .dataframe tbody tr th:only-of-type {\n        vertical-align: middle;\n    }\n\n    .dataframe tbody tr th {\n        vertical-align: top;\n    }\n\n    .dataframe thead th {\n        text-align: right;\n    }\n</style>\n<table border=\"1\" class=\"dataframe\">\n  <thead>\n    <tr style=\"text-align: right;\">\n      <th></th>\n      <th>Pclass</th>\n      <th>Sex</th>\n      <th>Age</th>\n      <th>Fare</th>\n      <th>Embarked</th>\n      <th>Honorific</th>\n      <th>LastName</th>\n      <th>FamilyNumber</th>\n    </tr>\n  </thead>\n  <tbody>\n    <tr>\n      <th>194</th>\n      <td>1</td>\n      <td>female</td>\n      <td>44.0</td>\n      <td>27.720800</td>\n      <td>C</td>\n      <td>Mrs</td>\n      <td>James Joseph (Margaret Tobin)</td>\n      <td>0</td>\n    </tr>\n    <tr>\n      <th>268</th>\n      <td>1</td>\n      <td>female</td>\n      <td>58.0</td>\n      <td>153.462494</td>\n      <td>S</td>\n      <td>Mrs</td>\n      <td>William Thompson (Edith Junkins)</td>\n      <td>1</td>\n    </tr>\n    <tr>\n      <th>134</th>\n      <td>2</td>\n      <td>male</td>\n      <td>25.0</td>\n      <td>13.000000</td>\n      <td>S</td>\n      <td>Mr</td>\n      <td>Samuel James Hayden</td>\n      <td>0</td>\n    </tr>\n    <tr>\n      <th>375</th>\n      <td>1</td>\n      <td>female</td>\n      <td>NaN</td>\n      <td>82.170799</td>\n      <td>C</td>\n      <td>Mrs</td>\n      <td>Edgar Joseph (Leila Saks)</td>\n      <td>1</td>\n    </tr>\n    <tr>\n      <th>531</th>\n      <td>3</td>\n      <td>male</td>\n      <td>NaN</td>\n      <td>7.229200</td>\n      <td>C</td>\n      <td>Mr</td>\n      <td>Nakli</td>\n      <td>0</td>\n    </tr>\n    <tr>\n      <th>746</th>\n      <td>3</td>\n      <td>male</td>\n      <td>16.0</td>\n      <td>20.250000</td>\n      <td>S</td>\n      <td>Mr</td>\n      <td>Rossmore Edward</td>\n      <td>2</td>\n    </tr>\n    <tr>\n      <th>768</th>\n      <td>3</td>\n      <td>male</td>\n      <td>NaN</td>\n      <td>24.150000</td>\n      <td>Q</td>\n      <td>Mr</td>\n      <td>Daniel J</td>\n      <td>1</td>\n    </tr>\n    <tr>\n      <th>584</th>\n      <td>3</td>\n      <td>male</td>\n      <td>NaN</td>\n      <td>8.712500</td>\n      <td>C</td>\n      <td>Mr</td>\n      <td>Uscher</td>\n      <td>0</td>\n    </tr>\n    <tr>\n      <th>507</th>\n      <td>1</td>\n      <td>male</td>\n      <td>NaN</td>\n      <td>26.549999</td>\n      <td>S</td>\n      <td>Mr</td>\n      <td>George (\"George Arthur Brayton\")</td>\n      <td>0</td>\n    </tr>\n    <tr>\n      <th>801</th>\n      <td>2</td>\n      <td>female</td>\n      <td>31.0</td>\n      <td>26.250000</td>\n      <td>S</td>\n      <td>Mrs</td>\n      <td>Harvey (Charlotte Annie Tate)</td>\n      <td>2</td>\n    </tr>\n    <tr>\n      <th>547</th>\n      <td>2</td>\n      <td>male</td>\n      <td>NaN</td>\n      <td>13.862500</td>\n      <td>C</td>\n      <td>Mr</td>\n      <td>Julian</td>\n      <td>0</td>\n    </tr>\n    <tr>\n      <th>169</th>\n      <td>3</td>\n      <td>male</td>\n      <td>28.0</td>\n      <td>56.495800</td>\n      <td>S</td>\n      <td>Mr</td>\n      <td>Lee</td>\n      <td>0</td>\n    </tr>\n    <tr>\n      <th>697</th>\n      <td>3</td>\n      <td>female</td>\n      <td>NaN</td>\n      <td>7.733300</td>\n      <td>Q</td>\n      <td>Miss</td>\n      <td>Katherine \"Katie\"</td>\n      <td>0</td>\n    </tr>\n    <tr>\n      <th>210</th>\n      <td>3</td>\n      <td>male</td>\n      <td>24.0</td>\n      <td>7.050000</td>\n      <td>S</td>\n      <td>Mr</td>\n      <td>Ahmed</td>\n      <td>0</td>\n    </tr>\n    <tr>\n      <th>488</th>\n      <td>3</td>\n      <td>male</td>\n      <td>30.0</td>\n      <td>8.050000</td>\n      <td>S</td>\n      <td>Mr</td>\n      <td>Francis William</td>\n      <td>0</td>\n    </tr>\n    <tr>\n      <th>107</th>\n      <td>3</td>\n      <td>male</td>\n      <td>NaN</td>\n      <td>7.775000</td>\n      <td>S</td>\n      <td>Mr</td>\n      <td>Albert Johan</td>\n      <td>0</td>\n    </tr>\n    <tr>\n      <th>770</th>\n      <td>3</td>\n      <td>male</td>\n      <td>24.0</td>\n      <td>9.500000</td>\n      <td>S</td>\n      <td>Mr</td>\n      <td>Rene Aime</td>\n      <td>0</td>\n    </tr>\n    <tr>\n      <th>71</th>\n      <td>3</td>\n      <td>female</td>\n      <td>16.0</td>\n      <td>46.900002</td>\n      <td>S</td>\n      <td>Miss</td>\n      <td>Lillian Amy</td>\n      <td>7</td>\n    </tr>\n    <tr>\n      <th>664</th>\n      <td>3</td>\n      <td>male</td>\n      <td>20.0</td>\n      <td>7.925000</td>\n      <td>S</td>\n      <td>Mr</td>\n      <td>Eino William</td>\n      <td>1</td>\n    </tr>\n    <tr>\n      <th>548</th>\n      <td>3</td>\n      <td>male</td>\n      <td>33.0</td>\n      <td>20.525000</td>\n      <td>S</td>\n      <td>Mr</td>\n      <td>Frank John</td>\n      <td>2</td>\n    </tr>\n  </tbody>\n</table>\n</div>"
          },
          "metadata": {}
        }
      ]
    },
    {
      "cell_type": "code",
      "source": [
        "X_transformed = get_config(\"X_transformed\")\n",
        "X_transformed.head(20)"
      ],
      "metadata": {
        "execution": {
          "iopub.status.busy": "2023-11-12T14:29:44.139461Z",
          "iopub.execute_input": "2023-11-12T14:29:44.139952Z",
          "iopub.status.idle": "2023-11-12T14:29:44.248916Z",
          "shell.execute_reply.started": "2023-11-12T14:29:44.139913Z",
          "shell.execute_reply": "2023-11-12T14:29:44.247645Z"
        },
        "trusted": true,
        "id": "-F46FMLuC5Rh",
        "outputId": "ef450203-2568-4a21-9215-e9ca8eeed5be"
      },
      "execution_count": null,
      "outputs": [
        {
          "execution_count": 30,
          "output_type": "execute_result",
          "data": {
            "text/plain": "     Pclass_1.0  Pclass_2.0  Pclass_3.0       Sex       Age      Fare   \n194    1.722833   -0.470711   -1.143419 -1.363011  1.089105  0.576253  \\\n268    1.722833   -0.470711   -1.143419 -1.363011  2.139589  1.835921   \n134   -0.580439    2.124447   -1.143419  0.733670 -0.336552 -0.683416   \n375    1.722833   -0.470711   -1.143419 -1.363011 -0.111449  1.835921   \n531   -0.580439   -0.470711    0.874570  0.733670 -0.111449 -0.683416   \n746   -0.580439   -0.470711    0.874570  0.733670 -1.011864 -0.683416   \n768   -0.580439   -0.470711    0.874570  0.733670 -0.111449  0.576253   \n584   -0.580439   -0.470711    0.874570  0.733670 -0.111449 -0.683416   \n507    1.722833   -0.470711   -1.143419  0.733670 -0.111449  0.576253   \n801   -0.580439    2.124447   -1.143419 -1.363011  0.113655  0.576253   \n547   -0.580439    2.124447   -1.143419  0.733670 -0.111449 -0.683416   \n169   -0.580439   -0.470711    0.874570  0.733670 -0.111449  0.576253   \n697   -0.580439   -0.470711    0.874570 -1.363011 -0.111449 -0.683416   \n210   -0.580439   -0.470711    0.874570  0.733670 -0.411587 -0.683416   \n488   -0.580439   -0.470711    0.874570  0.733670  0.038621 -0.683416   \n107   -0.580439   -0.470711    0.874570  0.733670 -0.111449 -0.683416   \n770   -0.580439   -0.470711    0.874570  0.733670 -0.411587 -0.683416   \n71    -0.580439   -0.470711    0.874570 -1.363011 -1.011864  0.576253   \n664   -0.580439   -0.470711    0.874570  0.733670 -0.711725 -0.683416   \n548   -0.580439   -0.470711    0.874570  0.733670  0.263724 -0.683416   \n\n     Embarked_C  Embarked_S  Embarked_Q  Honorific  LastName  FamilyNumber  \n194    2.047356   -1.593666   -0.314270   1.628824  1.268681     -0.541028  \n268   -0.488435    0.627484   -0.314270   1.628824  1.268681      0.088991  \n134   -0.488435    0.627484   -0.314270  -0.804707 -0.771416     -0.541028  \n375    2.047356   -1.593666   -0.314270   1.628824  1.268681      0.088991  \n531    2.047356   -1.593666   -0.314270  -0.804707 -0.771416     -0.541028  \n746   -0.488435    0.627484   -0.314270  -0.804707 -0.771416      0.719011  \n768   -0.488435   -1.593666    3.181981  -0.804707 -0.771416      0.088991  \n584    2.047356   -1.593666   -0.314270  -0.804707 -0.771416     -0.541028  \n507   -0.488435    0.627484   -0.314270  -0.804707  1.268681     -0.541028  \n801   -0.488435    0.627484   -0.314270   1.628824  1.268681      0.719011  \n547    2.047356   -1.593666   -0.314270  -0.804707  1.268681     -0.541028  \n169   -0.488435    0.627484   -0.314270  -0.804707  0.270059     -0.541028  \n697   -0.488435   -1.593666    3.181981   1.105777  1.382170     -0.541028  \n210   -0.488435    0.627484   -0.314270  -0.804707 -0.771416     -0.541028  \n488   -0.488435    0.627484   -0.314270  -0.804707 -0.771416     -0.541028  \n107   -0.488435    0.627484   -0.314270  -0.804707  1.268681     -0.541028  \n770   -0.488435    0.627484   -0.314270  -0.804707 -0.771416     -0.541028  \n71    -0.488435    0.627484   -0.314270   1.105777 -0.771416      3.869106  \n664   -0.488435    0.627484   -0.314270  -0.804707  1.268681      0.088991  \n548   -0.488435    0.627484   -0.314270  -0.804707 -0.771416      0.719011  ",
            "text/html": "<div>\n<style scoped>\n    .dataframe tbody tr th:only-of-type {\n        vertical-align: middle;\n    }\n\n    .dataframe tbody tr th {\n        vertical-align: top;\n    }\n\n    .dataframe thead th {\n        text-align: right;\n    }\n</style>\n<table border=\"1\" class=\"dataframe\">\n  <thead>\n    <tr style=\"text-align: right;\">\n      <th></th>\n      <th>Pclass_1.0</th>\n      <th>Pclass_2.0</th>\n      <th>Pclass_3.0</th>\n      <th>Sex</th>\n      <th>Age</th>\n      <th>Fare</th>\n      <th>Embarked_C</th>\n      <th>Embarked_S</th>\n      <th>Embarked_Q</th>\n      <th>Honorific</th>\n      <th>LastName</th>\n      <th>FamilyNumber</th>\n    </tr>\n  </thead>\n  <tbody>\n    <tr>\n      <th>194</th>\n      <td>1.722833</td>\n      <td>-0.470711</td>\n      <td>-1.143419</td>\n      <td>-1.363011</td>\n      <td>1.089105</td>\n      <td>0.576253</td>\n      <td>2.047356</td>\n      <td>-1.593666</td>\n      <td>-0.314270</td>\n      <td>1.628824</td>\n      <td>1.268681</td>\n      <td>-0.541028</td>\n    </tr>\n    <tr>\n      <th>268</th>\n      <td>1.722833</td>\n      <td>-0.470711</td>\n      <td>-1.143419</td>\n      <td>-1.363011</td>\n      <td>2.139589</td>\n      <td>1.835921</td>\n      <td>-0.488435</td>\n      <td>0.627484</td>\n      <td>-0.314270</td>\n      <td>1.628824</td>\n      <td>1.268681</td>\n      <td>0.088991</td>\n    </tr>\n    <tr>\n      <th>134</th>\n      <td>-0.580439</td>\n      <td>2.124447</td>\n      <td>-1.143419</td>\n      <td>0.733670</td>\n      <td>-0.336552</td>\n      <td>-0.683416</td>\n      <td>-0.488435</td>\n      <td>0.627484</td>\n      <td>-0.314270</td>\n      <td>-0.804707</td>\n      <td>-0.771416</td>\n      <td>-0.541028</td>\n    </tr>\n    <tr>\n      <th>375</th>\n      <td>1.722833</td>\n      <td>-0.470711</td>\n      <td>-1.143419</td>\n      <td>-1.363011</td>\n      <td>-0.111449</td>\n      <td>1.835921</td>\n      <td>2.047356</td>\n      <td>-1.593666</td>\n      <td>-0.314270</td>\n      <td>1.628824</td>\n      <td>1.268681</td>\n      <td>0.088991</td>\n    </tr>\n    <tr>\n      <th>531</th>\n      <td>-0.580439</td>\n      <td>-0.470711</td>\n      <td>0.874570</td>\n      <td>0.733670</td>\n      <td>-0.111449</td>\n      <td>-0.683416</td>\n      <td>2.047356</td>\n      <td>-1.593666</td>\n      <td>-0.314270</td>\n      <td>-0.804707</td>\n      <td>-0.771416</td>\n      <td>-0.541028</td>\n    </tr>\n    <tr>\n      <th>746</th>\n      <td>-0.580439</td>\n      <td>-0.470711</td>\n      <td>0.874570</td>\n      <td>0.733670</td>\n      <td>-1.011864</td>\n      <td>-0.683416</td>\n      <td>-0.488435</td>\n      <td>0.627484</td>\n      <td>-0.314270</td>\n      <td>-0.804707</td>\n      <td>-0.771416</td>\n      <td>0.719011</td>\n    </tr>\n    <tr>\n      <th>768</th>\n      <td>-0.580439</td>\n      <td>-0.470711</td>\n      <td>0.874570</td>\n      <td>0.733670</td>\n      <td>-0.111449</td>\n      <td>0.576253</td>\n      <td>-0.488435</td>\n      <td>-1.593666</td>\n      <td>3.181981</td>\n      <td>-0.804707</td>\n      <td>-0.771416</td>\n      <td>0.088991</td>\n    </tr>\n    <tr>\n      <th>584</th>\n      <td>-0.580439</td>\n      <td>-0.470711</td>\n      <td>0.874570</td>\n      <td>0.733670</td>\n      <td>-0.111449</td>\n      <td>-0.683416</td>\n      <td>2.047356</td>\n      <td>-1.593666</td>\n      <td>-0.314270</td>\n      <td>-0.804707</td>\n      <td>-0.771416</td>\n      <td>-0.541028</td>\n    </tr>\n    <tr>\n      <th>507</th>\n      <td>1.722833</td>\n      <td>-0.470711</td>\n      <td>-1.143419</td>\n      <td>0.733670</td>\n      <td>-0.111449</td>\n      <td>0.576253</td>\n      <td>-0.488435</td>\n      <td>0.627484</td>\n      <td>-0.314270</td>\n      <td>-0.804707</td>\n      <td>1.268681</td>\n      <td>-0.541028</td>\n    </tr>\n    <tr>\n      <th>801</th>\n      <td>-0.580439</td>\n      <td>2.124447</td>\n      <td>-1.143419</td>\n      <td>-1.363011</td>\n      <td>0.113655</td>\n      <td>0.576253</td>\n      <td>-0.488435</td>\n      <td>0.627484</td>\n      <td>-0.314270</td>\n      <td>1.628824</td>\n      <td>1.268681</td>\n      <td>0.719011</td>\n    </tr>\n    <tr>\n      <th>547</th>\n      <td>-0.580439</td>\n      <td>2.124447</td>\n      <td>-1.143419</td>\n      <td>0.733670</td>\n      <td>-0.111449</td>\n      <td>-0.683416</td>\n      <td>2.047356</td>\n      <td>-1.593666</td>\n      <td>-0.314270</td>\n      <td>-0.804707</td>\n      <td>1.268681</td>\n      <td>-0.541028</td>\n    </tr>\n    <tr>\n      <th>169</th>\n      <td>-0.580439</td>\n      <td>-0.470711</td>\n      <td>0.874570</td>\n      <td>0.733670</td>\n      <td>-0.111449</td>\n      <td>0.576253</td>\n      <td>-0.488435</td>\n      <td>0.627484</td>\n      <td>-0.314270</td>\n      <td>-0.804707</td>\n      <td>0.270059</td>\n      <td>-0.541028</td>\n    </tr>\n    <tr>\n      <th>697</th>\n      <td>-0.580439</td>\n      <td>-0.470711</td>\n      <td>0.874570</td>\n      <td>-1.363011</td>\n      <td>-0.111449</td>\n      <td>-0.683416</td>\n      <td>-0.488435</td>\n      <td>-1.593666</td>\n      <td>3.181981</td>\n      <td>1.105777</td>\n      <td>1.382170</td>\n      <td>-0.541028</td>\n    </tr>\n    <tr>\n      <th>210</th>\n      <td>-0.580439</td>\n      <td>-0.470711</td>\n      <td>0.874570</td>\n      <td>0.733670</td>\n      <td>-0.411587</td>\n      <td>-0.683416</td>\n      <td>-0.488435</td>\n      <td>0.627484</td>\n      <td>-0.314270</td>\n      <td>-0.804707</td>\n      <td>-0.771416</td>\n      <td>-0.541028</td>\n    </tr>\n    <tr>\n      <th>488</th>\n      <td>-0.580439</td>\n      <td>-0.470711</td>\n      <td>0.874570</td>\n      <td>0.733670</td>\n      <td>0.038621</td>\n      <td>-0.683416</td>\n      <td>-0.488435</td>\n      <td>0.627484</td>\n      <td>-0.314270</td>\n      <td>-0.804707</td>\n      <td>-0.771416</td>\n      <td>-0.541028</td>\n    </tr>\n    <tr>\n      <th>107</th>\n      <td>-0.580439</td>\n      <td>-0.470711</td>\n      <td>0.874570</td>\n      <td>0.733670</td>\n      <td>-0.111449</td>\n      <td>-0.683416</td>\n      <td>-0.488435</td>\n      <td>0.627484</td>\n      <td>-0.314270</td>\n      <td>-0.804707</td>\n      <td>1.268681</td>\n      <td>-0.541028</td>\n    </tr>\n    <tr>\n      <th>770</th>\n      <td>-0.580439</td>\n      <td>-0.470711</td>\n      <td>0.874570</td>\n      <td>0.733670</td>\n      <td>-0.411587</td>\n      <td>-0.683416</td>\n      <td>-0.488435</td>\n      <td>0.627484</td>\n      <td>-0.314270</td>\n      <td>-0.804707</td>\n      <td>-0.771416</td>\n      <td>-0.541028</td>\n    </tr>\n    <tr>\n      <th>71</th>\n      <td>-0.580439</td>\n      <td>-0.470711</td>\n      <td>0.874570</td>\n      <td>-1.363011</td>\n      <td>-1.011864</td>\n      <td>0.576253</td>\n      <td>-0.488435</td>\n      <td>0.627484</td>\n      <td>-0.314270</td>\n      <td>1.105777</td>\n      <td>-0.771416</td>\n      <td>3.869106</td>\n    </tr>\n    <tr>\n      <th>664</th>\n      <td>-0.580439</td>\n      <td>-0.470711</td>\n      <td>0.874570</td>\n      <td>0.733670</td>\n      <td>-0.711725</td>\n      <td>-0.683416</td>\n      <td>-0.488435</td>\n      <td>0.627484</td>\n      <td>-0.314270</td>\n      <td>-0.804707</td>\n      <td>1.268681</td>\n      <td>0.088991</td>\n    </tr>\n    <tr>\n      <th>548</th>\n      <td>-0.580439</td>\n      <td>-0.470711</td>\n      <td>0.874570</td>\n      <td>0.733670</td>\n      <td>0.263724</td>\n      <td>-0.683416</td>\n      <td>-0.488435</td>\n      <td>0.627484</td>\n      <td>-0.314270</td>\n      <td>-0.804707</td>\n      <td>-0.771416</td>\n      <td>0.719011</td>\n    </tr>\n  </tbody>\n</table>\n</div>"
          },
          "metadata": {}
        }
      ]
    },
    {
      "cell_type": "code",
      "source": [
        "X_transformed.info()"
      ],
      "metadata": {
        "execution": {
          "iopub.status.busy": "2023-11-12T14:30:03.201197Z",
          "iopub.execute_input": "2023-11-12T14:30:03.201616Z",
          "iopub.status.idle": "2023-11-12T14:30:03.214078Z",
          "shell.execute_reply.started": "2023-11-12T14:30:03.201583Z",
          "shell.execute_reply": "2023-11-12T14:30:03.213067Z"
        },
        "trusted": true,
        "id": "KH7T-dKwC5Ri",
        "outputId": "03d44e81-0094-4fb6-db54-080d99592be9"
      },
      "execution_count": null,
      "outputs": [
        {
          "name": "stdout",
          "text": "<class 'pandas.core.frame.DataFrame'>\nIndex: 891 entries, 194 to 69\nData columns (total 12 columns):\n #   Column        Non-Null Count  Dtype  \n---  ------        --------------  -----  \n 0   Pclass_1.0    891 non-null    float64\n 1   Pclass_2.0    891 non-null    float64\n 2   Pclass_3.0    891 non-null    float64\n 3   Sex           891 non-null    float64\n 4   Age           891 non-null    float64\n 5   Fare          891 non-null    float64\n 6   Embarked_C    891 non-null    float64\n 7   Embarked_S    891 non-null    float64\n 8   Embarked_Q    891 non-null    float64\n 9   Honorific     891 non-null    float64\n 10  LastName      891 non-null    float64\n 11  FamilyNumber  891 non-null    float64\ndtypes: float64(12)\nmemory usage: 90.5 KB\n",
          "output_type": "stream"
        }
      ]
    },
    {
      "cell_type": "markdown",
      "source": [
        "### ml_compare models"
      ],
      "metadata": {
        "id": "3f-Y516bC5Ri"
      }
    },
    {
      "cell_type": "code",
      "source": [
        "top3 = compare_models(experiment_custom_tags=\"test_1112\", sort=\"Accuracy\",  n_select = 3)"
      ],
      "metadata": {
        "execution": {
          "iopub.status.busy": "2023-11-12T14:30:05.394038Z",
          "iopub.execute_input": "2023-11-12T14:30:05.394749Z",
          "iopub.status.idle": "2023-11-12T14:32:46.272296Z",
          "shell.execute_reply.started": "2023-11-12T14:30:05.394711Z",
          "shell.execute_reply": "2023-11-12T14:32:46.270932Z"
        },
        "trusted": true,
        "id": "LDLHiB35C5Ri",
        "outputId": "f1c41856-c85f-48d8-c52b-fee405d9ee05",
        "colab": {
          "referenced_widgets": [
            ""
          ]
        }
      },
      "execution_count": null,
      "outputs": [
        {
          "output_type": "display_data",
          "data": {
            "text/plain": "<IPython.core.display.HTML object>",
            "text/html": ""
          },
          "metadata": {}
        },
        {
          "output_type": "display_data",
          "data": {
            "text/plain": "<pandas.io.formats.style.Styler at 0x7df58b165480>",
            "text/html": "<style type=\"text/css\">\n#T_83959 th {\n  text-align: left;\n}\n#T_83959_row0_col0, #T_83959_row0_col2, #T_83959_row0_col3, #T_83959_row0_col4, #T_83959_row1_col0, #T_83959_row1_col1, #T_83959_row1_col2, #T_83959_row1_col3, #T_83959_row1_col5, #T_83959_row1_col6, #T_83959_row1_col7, #T_83959_row2_col0, #T_83959_row2_col1, #T_83959_row2_col3, #T_83959_row2_col4, #T_83959_row2_col5, #T_83959_row2_col6, #T_83959_row2_col7, #T_83959_row3_col0, #T_83959_row3_col1, #T_83959_row3_col2, #T_83959_row3_col3, #T_83959_row3_col4, #T_83959_row3_col5, #T_83959_row3_col6, #T_83959_row3_col7, #T_83959_row4_col0, #T_83959_row4_col1, #T_83959_row4_col2, #T_83959_row4_col3, #T_83959_row4_col4, #T_83959_row4_col5, #T_83959_row4_col6, #T_83959_row4_col7, #T_83959_row5_col0, #T_83959_row5_col1, #T_83959_row5_col2, #T_83959_row5_col3, #T_83959_row5_col4, #T_83959_row5_col5, #T_83959_row5_col6, #T_83959_row5_col7, #T_83959_row6_col0, #T_83959_row6_col1, #T_83959_row6_col2, #T_83959_row6_col3, #T_83959_row6_col4, #T_83959_row6_col5, #T_83959_row6_col6, #T_83959_row6_col7, #T_83959_row7_col0, #T_83959_row7_col1, #T_83959_row7_col2, #T_83959_row7_col3, #T_83959_row7_col4, #T_83959_row7_col5, #T_83959_row7_col6, #T_83959_row7_col7, #T_83959_row8_col0, #T_83959_row8_col1, #T_83959_row8_col2, #T_83959_row8_col3, #T_83959_row8_col4, #T_83959_row8_col5, #T_83959_row8_col6, #T_83959_row8_col7, #T_83959_row9_col0, #T_83959_row9_col1, #T_83959_row9_col2, #T_83959_row9_col4, #T_83959_row9_col5, #T_83959_row9_col6, #T_83959_row9_col7, #T_83959_row10_col0, #T_83959_row10_col1, #T_83959_row10_col2, #T_83959_row10_col3, #T_83959_row10_col4, #T_83959_row10_col5, #T_83959_row10_col6, #T_83959_row10_col7, #T_83959_row11_col0, #T_83959_row11_col1, #T_83959_row11_col2, #T_83959_row11_col3, #T_83959_row11_col4, #T_83959_row11_col5, #T_83959_row11_col6, #T_83959_row11_col7, #T_83959_row12_col0, #T_83959_row12_col1, #T_83959_row12_col2, #T_83959_row12_col3, #T_83959_row12_col4, #T_83959_row12_col5, #T_83959_row12_col6, #T_83959_row12_col7, #T_83959_row13_col0, #T_83959_row13_col1, #T_83959_row13_col2, #T_83959_row13_col3, #T_83959_row13_col4, #T_83959_row13_col5, #T_83959_row13_col6, #T_83959_row13_col7, #T_83959_row14_col0, #T_83959_row14_col1, #T_83959_row14_col2, #T_83959_row14_col3, #T_83959_row14_col4, #T_83959_row14_col5, #T_83959_row14_col6, #T_83959_row14_col7, #T_83959_row15_col0, #T_83959_row15_col1, #T_83959_row15_col2, #T_83959_row15_col3, #T_83959_row15_col4, #T_83959_row15_col5, #T_83959_row15_col6, #T_83959_row15_col7 {\n  text-align: left;\n}\n#T_83959_row0_col1, #T_83959_row0_col5, #T_83959_row0_col6, #T_83959_row0_col7, #T_83959_row1_col4, #T_83959_row2_col2, #T_83959_row9_col3 {\n  text-align: left;\n  background-color: yellow;\n}\n#T_83959_row0_col8, #T_83959_row1_col8, #T_83959_row2_col8, #T_83959_row4_col8, #T_83959_row5_col8, #T_83959_row6_col8, #T_83959_row7_col8, #T_83959_row8_col8, #T_83959_row9_col8, #T_83959_row10_col8, #T_83959_row11_col8, #T_83959_row12_col8, #T_83959_row13_col8, #T_83959_row14_col8, #T_83959_row15_col8 {\n  text-align: left;\n  background-color: lightgrey;\n}\n#T_83959_row3_col8 {\n  text-align: left;\n  background-color: yellow;\n  background-color: lightgrey;\n}\n</style>\n<table id=\"T_83959\">\n  <thead>\n    <tr>\n      <th class=\"blank level0\" >&nbsp;</th>\n      <th id=\"T_83959_level0_col0\" class=\"col_heading level0 col0\" >Model</th>\n      <th id=\"T_83959_level0_col1\" class=\"col_heading level0 col1\" >Accuracy</th>\n      <th id=\"T_83959_level0_col2\" class=\"col_heading level0 col2\" >AUC</th>\n      <th id=\"T_83959_level0_col3\" class=\"col_heading level0 col3\" >Recall</th>\n      <th id=\"T_83959_level0_col4\" class=\"col_heading level0 col4\" >Prec.</th>\n      <th id=\"T_83959_level0_col5\" class=\"col_heading level0 col5\" >F1</th>\n      <th id=\"T_83959_level0_col6\" class=\"col_heading level0 col6\" >Kappa</th>\n      <th id=\"T_83959_level0_col7\" class=\"col_heading level0 col7\" >MCC</th>\n      <th id=\"T_83959_level0_col8\" class=\"col_heading level0 col8\" >TT (Sec)</th>\n    </tr>\n  </thead>\n  <tbody>\n    <tr>\n      <th id=\"T_83959_level0_row0\" class=\"row_heading level0 row0\" >knn</th>\n      <td id=\"T_83959_row0_col0\" class=\"data row0 col0\" >K Neighbors Classifier</td>\n      <td id=\"T_83959_row0_col1\" class=\"data row0 col1\" >0.7945</td>\n      <td id=\"T_83959_row0_col2\" class=\"data row0 col2\" >0.7999</td>\n      <td id=\"T_83959_row0_col3\" class=\"data row0 col3\" >0.5406</td>\n      <td id=\"T_83959_row0_col4\" class=\"data row0 col4\" >0.8786</td>\n      <td id=\"T_83959_row0_col5\" class=\"data row0 col5\" >0.6640</td>\n      <td id=\"T_83959_row0_col6\" class=\"data row0 col6\" >0.5303</td>\n      <td id=\"T_83959_row0_col7\" class=\"data row0 col7\" >0.5652</td>\n      <td id=\"T_83959_row0_col8\" class=\"data row0 col8\" >0.1110</td>\n    </tr>\n    <tr>\n      <th id=\"T_83959_level0_row1\" class=\"row_heading level0 row1\" >lr</th>\n      <td id=\"T_83959_row1_col0\" class=\"data row1 col0\" >Logistic Regression</td>\n      <td id=\"T_83959_row1_col1\" class=\"data row1 col1\" >0.7495</td>\n      <td id=\"T_83959_row1_col2\" class=\"data row1 col2\" >0.8120</td>\n      <td id=\"T_83959_row1_col3\" class=\"data row1 col3\" >0.3938</td>\n      <td id=\"T_83959_row1_col4\" class=\"data row1 col4\" >0.9146</td>\n      <td id=\"T_83959_row1_col5\" class=\"data row1 col5\" >0.5384</td>\n      <td id=\"T_83959_row1_col6\" class=\"data row1 col6\" >0.4063</td>\n      <td id=\"T_83959_row1_col7\" class=\"data row1 col7\" >0.4774</td>\n      <td id=\"T_83959_row1_col8\" class=\"data row1 col8\" >0.6940</td>\n    </tr>\n    <tr>\n      <th id=\"T_83959_level0_row2\" class=\"row_heading level0 row2\" >nb</th>\n      <td id=\"T_83959_row2_col0\" class=\"data row2 col0\" >Naive Bayes</td>\n      <td id=\"T_83959_row2_col1\" class=\"data row2 col1\" >0.7045</td>\n      <td id=\"T_83959_row2_col2\" class=\"data row2 col2\" >0.8354</td>\n      <td id=\"T_83959_row2_col3\" class=\"data row2 col3\" >0.2761</td>\n      <td id=\"T_83959_row2_col4\" class=\"data row2 col4\" >0.8633</td>\n      <td id=\"T_83959_row2_col5\" class=\"data row2 col5\" >0.4039</td>\n      <td id=\"T_83959_row2_col6\" class=\"data row2 col6\" >0.2808</td>\n      <td id=\"T_83959_row2_col7\" class=\"data row2 col7\" >0.3580</td>\n      <td id=\"T_83959_row2_col8\" class=\"data row2 col8\" >0.1110</td>\n    </tr>\n    <tr>\n      <th id=\"T_83959_level0_row3\" class=\"row_heading level0 row3\" >qda</th>\n      <td id=\"T_83959_row3_col0\" class=\"data row3 col0\" >Quadratic Discriminant Analysis</td>\n      <td id=\"T_83959_row3_col1\" class=\"data row3 col1\" >0.6902</td>\n      <td id=\"T_83959_row3_col2\" class=\"data row3 col2\" >0.7084</td>\n      <td id=\"T_83959_row3_col3\" class=\"data row3 col3\" >0.2560</td>\n      <td id=\"T_83959_row3_col4\" class=\"data row3 col4\" >0.8076</td>\n      <td id=\"T_83959_row3_col5\" class=\"data row3 col5\" >0.3609</td>\n      <td id=\"T_83959_row3_col6\" class=\"data row3 col6\" >0.2429</td>\n      <td id=\"T_83959_row3_col7\" class=\"data row3 col7\" >0.3092</td>\n      <td id=\"T_83959_row3_col8\" class=\"data row3 col8\" >0.0970</td>\n    </tr>\n    <tr>\n      <th id=\"T_83959_level0_row4\" class=\"row_heading level0 row4\" >et</th>\n      <td id=\"T_83959_row4_col0\" class=\"data row4 col0\" >Extra Trees Classifier</td>\n      <td id=\"T_83959_row4_col1\" class=\"data row4 col1\" >0.6872</td>\n      <td id=\"T_83959_row4_col2\" class=\"data row4 col2\" >0.7659</td>\n      <td id=\"T_83959_row4_col3\" class=\"data row4 col3\" >0.3846</td>\n      <td id=\"T_83959_row4_col4\" class=\"data row4 col4\" >0.6558</td>\n      <td id=\"T_83959_row4_col5\" class=\"data row4 col5\" >0.4784</td>\n      <td id=\"T_83959_row4_col6\" class=\"data row4 col6\" >0.2800</td>\n      <td id=\"T_83959_row4_col7\" class=\"data row4 col7\" >0.3021</td>\n      <td id=\"T_83959_row4_col8\" class=\"data row4 col8\" >0.2240</td>\n    </tr>\n    <tr>\n      <th id=\"T_83959_level0_row5\" class=\"row_heading level0 row5\" >catboost</th>\n      <td id=\"T_83959_row5_col0\" class=\"data row5 col0\" >CatBoost Classifier</td>\n      <td id=\"T_83959_row5_col1\" class=\"data row5 col1\" >0.6772</td>\n      <td id=\"T_83959_row5_col2\" class=\"data row5 col2\" >0.6989</td>\n      <td id=\"T_83959_row5_col3\" class=\"data row5 col3\" >0.4199</td>\n      <td id=\"T_83959_row5_col4\" class=\"data row5 col4\" >0.6457</td>\n      <td id=\"T_83959_row5_col5\" class=\"data row5 col5\" >0.4769</td>\n      <td id=\"T_83959_row5_col6\" class=\"data row5 col6\" >0.2719</td>\n      <td id=\"T_83959_row5_col7\" class=\"data row5 col7\" >0.2985</td>\n      <td id=\"T_83959_row5_col8\" class=\"data row5 col8\" >1.4860</td>\n    </tr>\n    <tr>\n      <th id=\"T_83959_level0_row6\" class=\"row_heading level0 row6\" >rf</th>\n      <td id=\"T_83959_row6_col0\" class=\"data row6 col0\" >Random Forest Classifier</td>\n      <td id=\"T_83959_row6_col1\" class=\"data row6 col1\" >0.6758</td>\n      <td id=\"T_83959_row6_col2\" class=\"data row6 col2\" >0.7746</td>\n      <td id=\"T_83959_row6_col3\" class=\"data row6 col3\" >0.2690</td>\n      <td id=\"T_83959_row6_col4\" class=\"data row6 col4\" >0.7578</td>\n      <td id=\"T_83959_row6_col5\" class=\"data row6 col5\" >0.3625</td>\n      <td id=\"T_83959_row6_col6\" class=\"data row6 col6\" >0.2203</td>\n      <td id=\"T_83959_row6_col7\" class=\"data row6 col7\" >0.2818</td>\n      <td id=\"T_83959_row6_col8\" class=\"data row6 col8\" >0.2140</td>\n    </tr>\n    <tr>\n      <th id=\"T_83959_level0_row7\" class=\"row_heading level0 row7\" >xgboost</th>\n      <td id=\"T_83959_row7_col0\" class=\"data row7 col0\" >Extreme Gradient Boosting</td>\n      <td id=\"T_83959_row7_col1\" class=\"data row7 col1\" >0.6678</td>\n      <td id=\"T_83959_row7_col2\" class=\"data row7 col2\" >0.7220</td>\n      <td id=\"T_83959_row7_col3\" class=\"data row7 col3\" >0.4888</td>\n      <td id=\"T_83959_row7_col4\" class=\"data row7 col4\" >0.5844</td>\n      <td id=\"T_83959_row7_col5\" class=\"data row7 col5\" >0.5047</td>\n      <td id=\"T_83959_row7_col6\" class=\"data row7 col6\" >0.2710</td>\n      <td id=\"T_83959_row7_col7\" class=\"data row7 col7\" >0.2840</td>\n      <td id=\"T_83959_row7_col8\" class=\"data row7 col8\" >0.1160</td>\n    </tr>\n    <tr>\n      <th id=\"T_83959_level0_row8\" class=\"row_heading level0 row8\" >svm</th>\n      <td id=\"T_83959_row8_col0\" class=\"data row8 col0\" >SVM - Linear Kernel</td>\n      <td id=\"T_83959_row8_col1\" class=\"data row8 col1\" >0.6438</td>\n      <td id=\"T_83959_row8_col2\" class=\"data row8 col2\" >0.0000</td>\n      <td id=\"T_83959_row8_col3\" class=\"data row8 col3\" >0.2813</td>\n      <td id=\"T_83959_row8_col4\" class=\"data row8 col4\" >0.5792</td>\n      <td id=\"T_83959_row8_col5\" class=\"data row8 col5\" >0.3679</td>\n      <td id=\"T_83959_row8_col6\" class=\"data row8 col6\" >0.1657</td>\n      <td id=\"T_83959_row8_col7\" class=\"data row8 col7\" >0.1890</td>\n      <td id=\"T_83959_row8_col8\" class=\"data row8 col8\" >0.1000</td>\n    </tr>\n    <tr>\n      <th id=\"T_83959_level0_row9\" class=\"row_heading level0 row9\" >ada</th>\n      <td id=\"T_83959_row9_col0\" class=\"data row9 col0\" >Ada Boost Classifier</td>\n      <td id=\"T_83959_row9_col1\" class=\"data row9 col1\" >0.6308</td>\n      <td id=\"T_83959_row9_col2\" class=\"data row9 col2\" >0.6688</td>\n      <td id=\"T_83959_row9_col3\" class=\"data row9 col3\" >0.6101</td>\n      <td id=\"T_83959_row9_col4\" class=\"data row9 col4\" >0.5191</td>\n      <td id=\"T_83959_row9_col5\" class=\"data row9 col5\" >0.5562</td>\n      <td id=\"T_83959_row9_col6\" class=\"data row9 col6\" >0.2450</td>\n      <td id=\"T_83959_row9_col7\" class=\"data row9 col7\" >0.2508</td>\n      <td id=\"T_83959_row9_col8\" class=\"data row9 col8\" >0.1500</td>\n    </tr>\n    <tr>\n      <th id=\"T_83959_level0_row10\" class=\"row_heading level0 row10\" >ridge</th>\n      <td id=\"T_83959_row10_col0\" class=\"data row10 col0\" >Ridge Classifier</td>\n      <td id=\"T_83959_row10_col1\" class=\"data row10 col1\" >0.6260</td>\n      <td id=\"T_83959_row10_col2\" class=\"data row10 col2\" >0.0000</td>\n      <td id=\"T_83959_row10_col3\" class=\"data row10 col3\" >0.0627</td>\n      <td id=\"T_83959_row10_col4\" class=\"data row10 col4\" >0.6833</td>\n      <td id=\"T_83959_row10_col5\" class=\"data row10 col5\" >0.1118</td>\n      <td id=\"T_83959_row10_col6\" class=\"data row10 col6\" >0.0474</td>\n      <td id=\"T_83959_row10_col7\" class=\"data row10 col7\" >0.1138</td>\n      <td id=\"T_83959_row10_col8\" class=\"data row10 col8\" >0.0990</td>\n    </tr>\n    <tr>\n      <th id=\"T_83959_level0_row11\" class=\"row_heading level0 row11\" >lda</th>\n      <td id=\"T_83959_row11_col0\" class=\"data row11 col0\" >Linear Discriminant Analysis</td>\n      <td id=\"T_83959_row11_col1\" class=\"data row11 col1\" >0.6260</td>\n      <td id=\"T_83959_row11_col2\" class=\"data row11 col2\" >0.6566</td>\n      <td id=\"T_83959_row11_col3\" class=\"data row11 col3\" >0.0627</td>\n      <td id=\"T_83959_row11_col4\" class=\"data row11 col4\" >0.6833</td>\n      <td id=\"T_83959_row11_col5\" class=\"data row11 col5\" >0.1118</td>\n      <td id=\"T_83959_row11_col6\" class=\"data row11 col6\" >0.0474</td>\n      <td id=\"T_83959_row11_col7\" class=\"data row11 col7\" >0.1138</td>\n      <td id=\"T_83959_row11_col8\" class=\"data row11 col8\" >0.1060</td>\n    </tr>\n    <tr>\n      <th id=\"T_83959_level0_row12\" class=\"row_heading level0 row12\" >dummy</th>\n      <td id=\"T_83959_row12_col0\" class=\"data row12 col0\" >Dummy Classifier</td>\n      <td id=\"T_83959_row12_col1\" class=\"data row12 col1\" >0.6164</td>\n      <td id=\"T_83959_row12_col2\" class=\"data row12 col2\" >0.5000</td>\n      <td id=\"T_83959_row12_col3\" class=\"data row12 col3\" >0.0000</td>\n      <td id=\"T_83959_row12_col4\" class=\"data row12 col4\" >0.0000</td>\n      <td id=\"T_83959_row12_col5\" class=\"data row12 col5\" >0.0000</td>\n      <td id=\"T_83959_row12_col6\" class=\"data row12 col6\" >0.0000</td>\n      <td id=\"T_83959_row12_col7\" class=\"data row12 col7\" >0.0000</td>\n      <td id=\"T_83959_row12_col8\" class=\"data row12 col8\" >0.2360</td>\n    </tr>\n    <tr>\n      <th id=\"T_83959_level0_row13\" class=\"row_heading level0 row13\" >gbc</th>\n      <td id=\"T_83959_row13_col0\" class=\"data row13 col0\" >Gradient Boosting Classifier</td>\n      <td id=\"T_83959_row13_col1\" class=\"data row13 col1\" >0.6068</td>\n      <td id=\"T_83959_row13_col2\" class=\"data row13 col2\" >0.6041</td>\n      <td id=\"T_83959_row13_col3\" class=\"data row13 col3\" >0.4554</td>\n      <td id=\"T_83959_row13_col4\" class=\"data row13 col4\" >0.5016</td>\n      <td id=\"T_83959_row13_col5\" class=\"data row13 col5\" >0.4448</td>\n      <td id=\"T_83959_row13_col6\" class=\"data row13 col6\" >0.1555</td>\n      <td id=\"T_83959_row13_col7\" class=\"data row13 col7\" >0.1694</td>\n      <td id=\"T_83959_row13_col8\" class=\"data row13 col8\" >0.1410</td>\n    </tr>\n    <tr>\n      <th id=\"T_83959_level0_row14\" class=\"row_heading level0 row14\" >dt</th>\n      <td id=\"T_83959_row14_col0\" class=\"data row14 col0\" >Decision Tree Classifier</td>\n      <td id=\"T_83959_row14_col1\" class=\"data row14 col1\" >0.5938</td>\n      <td id=\"T_83959_row14_col2\" class=\"data row14 col2\" >0.5919</td>\n      <td id=\"T_83959_row14_col3\" class=\"data row14 col3\" >0.5846</td>\n      <td id=\"T_83959_row14_col4\" class=\"data row14 col4\" >0.4705</td>\n      <td id=\"T_83959_row14_col5\" class=\"data row14 col5\" >0.5120</td>\n      <td id=\"T_83959_row14_col6\" class=\"data row14 col6\" >0.1725</td>\n      <td id=\"T_83959_row14_col7\" class=\"data row14 col7\" >0.1818</td>\n      <td id=\"T_83959_row14_col8\" class=\"data row14 col8\" >0.1050</td>\n    </tr>\n    <tr>\n      <th id=\"T_83959_level0_row15\" class=\"row_heading level0 row15\" >lightgbm</th>\n      <td id=\"T_83959_row15_col0\" class=\"data row15 col0\" >Light Gradient Boosting Machine</td>\n      <td id=\"T_83959_row15_col1\" class=\"data row15 col1\" >0.5891</td>\n      <td id=\"T_83959_row15_col2\" class=\"data row15 col2\" >0.6354</td>\n      <td id=\"T_83959_row15_col3\" class=\"data row15 col3\" >0.5185</td>\n      <td id=\"T_83959_row15_col4\" class=\"data row15 col4\" >0.4620</td>\n      <td id=\"T_83959_row15_col5\" class=\"data row15 col5\" >0.4853</td>\n      <td id=\"T_83959_row15_col6\" class=\"data row15 col6\" >0.1458</td>\n      <td id=\"T_83959_row15_col7\" class=\"data row15 col7\" >0.1485</td>\n      <td id=\"T_83959_row15_col8\" class=\"data row15 col8\" >0.3360</td>\n    </tr>\n  </tbody>\n</table>\n"
          },
          "metadata": {}
        },
        {
          "output_type": "display_data",
          "data": {
            "text/plain": "Processing:   0%|          | 0/71 [00:00<?, ?it/s]",
            "application/vnd.jupyter.widget-view+json": {
              "version_major": 2,
              "version_minor": 0,
              "model_id": ""
            }
          },
          "metadata": {}
        }
      ]
    },
    {
      "cell_type": "code",
      "source": [
        "top3\n"
      ],
      "metadata": {
        "execution": {
          "iopub.status.busy": "2023-11-12T14:35:42.471258Z",
          "iopub.execute_input": "2023-11-12T14:35:42.471654Z",
          "iopub.status.idle": "2023-11-12T14:35:42.481720Z",
          "shell.execute_reply.started": "2023-11-12T14:35:42.471624Z",
          "shell.execute_reply": "2023-11-12T14:35:42.480119Z"
        },
        "trusted": true,
        "id": "bvVpaiUwC5Rj",
        "outputId": "fd543c90-01cc-4f86-f02d-23b212d3c7c3"
      },
      "execution_count": null,
      "outputs": [
        {
          "execution_count": 33,
          "output_type": "execute_result",
          "data": {
            "text/plain": "[KNeighborsClassifier(algorithm='auto', leaf_size=30, metric='minkowski',\n                      metric_params=None, n_jobs=-1, n_neighbors=5, p=2,\n                      weights='uniform'),\n LogisticRegression(C=1.0, class_weight=None, dual=False, fit_intercept=True,\n                    intercept_scaling=1, l1_ratio=None, max_iter=1000,\n                    multi_class='auto', n_jobs=None, penalty='l2',\n                    random_state=3497, solver='lbfgs', tol=0.0001, verbose=0,\n                    warm_start=False),\n GaussianNB(priors=None, var_smoothing=1e-09)]"
          },
          "metadata": {}
        }
      ]
    },
    {
      "cell_type": "markdown",
      "source": [
        "### blend_models"
      ],
      "metadata": {
        "id": "JeZExc9EC5Rj"
      }
    },
    {
      "cell_type": "code",
      "source": [
        "blended = blend_models(estimator_list= top3)"
      ],
      "metadata": {
        "execution": {
          "iopub.status.busy": "2023-11-10T14:45:42.499744Z",
          "iopub.execute_input": "2023-11-10T14:45:42.500260Z",
          "iopub.status.idle": "2023-11-10T14:46:03.317043Z",
          "shell.execute_reply.started": "2023-11-10T14:45:42.500223Z",
          "shell.execute_reply": "2023-11-10T14:46:03.315831Z"
        },
        "trusted": true,
        "id": "xsKFhZu7C5Rj",
        "outputId": "c0f19a01-dcbb-45c5-916c-fae7ace57ace",
        "colab": {
          "referenced_widgets": [
            ""
          ]
        }
      },
      "execution_count": null,
      "outputs": [
        {
          "output_type": "display_data",
          "data": {
            "text/plain": "<IPython.core.display.HTML object>",
            "text/html": ""
          },
          "metadata": {}
        },
        {
          "output_type": "display_data",
          "data": {
            "text/plain": "<pandas.io.formats.style.Styler at 0x7d929db5c0a0>",
            "text/html": "<style type=\"text/css\">\n#T_81b01_row10_col0, #T_81b01_row10_col1, #T_81b01_row10_col2, #T_81b01_row10_col3, #T_81b01_row10_col4, #T_81b01_row10_col5, #T_81b01_row10_col6 {\n  background: yellow;\n}\n</style>\n<table id=\"T_81b01\">\n  <thead>\n    <tr>\n      <th class=\"blank level0\" >&nbsp;</th>\n      <th id=\"T_81b01_level0_col0\" class=\"col_heading level0 col0\" >Accuracy</th>\n      <th id=\"T_81b01_level0_col1\" class=\"col_heading level0 col1\" >AUC</th>\n      <th id=\"T_81b01_level0_col2\" class=\"col_heading level0 col2\" >Recall</th>\n      <th id=\"T_81b01_level0_col3\" class=\"col_heading level0 col3\" >Prec.</th>\n      <th id=\"T_81b01_level0_col4\" class=\"col_heading level0 col4\" >F1</th>\n      <th id=\"T_81b01_level0_col5\" class=\"col_heading level0 col5\" >Kappa</th>\n      <th id=\"T_81b01_level0_col6\" class=\"col_heading level0 col6\" >MCC</th>\n    </tr>\n    <tr>\n      <th class=\"index_name level0\" >Fold</th>\n      <th class=\"blank col0\" >&nbsp;</th>\n      <th class=\"blank col1\" >&nbsp;</th>\n      <th class=\"blank col2\" >&nbsp;</th>\n      <th class=\"blank col3\" >&nbsp;</th>\n      <th class=\"blank col4\" >&nbsp;</th>\n      <th class=\"blank col5\" >&nbsp;</th>\n      <th class=\"blank col6\" >&nbsp;</th>\n    </tr>\n  </thead>\n  <tbody>\n    <tr>\n      <th id=\"T_81b01_level0_row0\" class=\"row_heading level0 row0\" >0</th>\n      <td id=\"T_81b01_row0_col0\" class=\"data row0 col0\" >0.7778</td>\n      <td id=\"T_81b01_row0_col1\" class=\"data row0 col1\" >0.0000</td>\n      <td id=\"T_81b01_row0_col2\" class=\"data row0 col2\" >0.5833</td>\n      <td id=\"T_81b01_row0_col3\" class=\"data row0 col3\" >0.7778</td>\n      <td id=\"T_81b01_row0_col4\" class=\"data row0 col4\" >0.6667</td>\n      <td id=\"T_81b01_row0_col5\" class=\"data row0 col5\" >0.5051</td>\n      <td id=\"T_81b01_row0_col6\" class=\"data row0 col6\" >0.5168</td>\n    </tr>\n    <tr>\n      <th id=\"T_81b01_level0_row1\" class=\"row_heading level0 row1\" >1</th>\n      <td id=\"T_81b01_row1_col0\" class=\"data row1 col0\" >0.8095</td>\n      <td id=\"T_81b01_row1_col1\" class=\"data row1 col1\" >0.0000</td>\n      <td id=\"T_81b01_row1_col2\" class=\"data row1 col2\" >0.5417</td>\n      <td id=\"T_81b01_row1_col3\" class=\"data row1 col3\" >0.9286</td>\n      <td id=\"T_81b01_row1_col4\" class=\"data row1 col4\" >0.6842</td>\n      <td id=\"T_81b01_row1_col5\" class=\"data row1 col5\" >0.5610</td>\n      <td id=\"T_81b01_row1_col6\" class=\"data row1 col6\" >0.6028</td>\n    </tr>\n    <tr>\n      <th id=\"T_81b01_level0_row2\" class=\"row_heading level0 row2\" >2</th>\n      <td id=\"T_81b01_row2_col0\" class=\"data row2 col0\" >0.8413</td>\n      <td id=\"T_81b01_row2_col1\" class=\"data row2 col1\" >0.0000</td>\n      <td id=\"T_81b01_row2_col2\" class=\"data row2 col2\" >0.7917</td>\n      <td id=\"T_81b01_row2_col3\" class=\"data row2 col3\" >0.7917</td>\n      <td id=\"T_81b01_row2_col4\" class=\"data row2 col4\" >0.7917</td>\n      <td id=\"T_81b01_row2_col5\" class=\"data row2 col5\" >0.6635</td>\n      <td id=\"T_81b01_row2_col6\" class=\"data row2 col6\" >0.6635</td>\n    </tr>\n    <tr>\n      <th id=\"T_81b01_level0_row3\" class=\"row_heading level0 row3\" >3</th>\n      <td id=\"T_81b01_row3_col0\" class=\"data row3 col0\" >0.7903</td>\n      <td id=\"T_81b01_row3_col1\" class=\"data row3 col1\" >0.0000</td>\n      <td id=\"T_81b01_row3_col2\" class=\"data row3 col2\" >0.6522</td>\n      <td id=\"T_81b01_row3_col3\" class=\"data row3 col3\" >0.7500</td>\n      <td id=\"T_81b01_row3_col4\" class=\"data row3 col4\" >0.6977</td>\n      <td id=\"T_81b01_row3_col5\" class=\"data row3 col5\" >0.5384</td>\n      <td id=\"T_81b01_row3_col6\" class=\"data row3 col6\" >0.5415</td>\n    </tr>\n    <tr>\n      <th id=\"T_81b01_level0_row4\" class=\"row_heading level0 row4\" >4</th>\n      <td id=\"T_81b01_row4_col0\" class=\"data row4 col0\" >0.7581</td>\n      <td id=\"T_81b01_row4_col1\" class=\"data row4 col1\" >0.0000</td>\n      <td id=\"T_81b01_row4_col2\" class=\"data row4 col2\" >0.6250</td>\n      <td id=\"T_81b01_row4_col3\" class=\"data row4 col3\" >0.7143</td>\n      <td id=\"T_81b01_row4_col4\" class=\"data row4 col4\" >0.6667</td>\n      <td id=\"T_81b01_row4_col5\" class=\"data row4 col5\" >0.4781</td>\n      <td id=\"T_81b01_row4_col6\" class=\"data row4 col6\" >0.4807</td>\n    </tr>\n    <tr>\n      <th id=\"T_81b01_level0_row5\" class=\"row_heading level0 row5\" >5</th>\n      <td id=\"T_81b01_row5_col0\" class=\"data row5 col0\" >0.8226</td>\n      <td id=\"T_81b01_row5_col1\" class=\"data row5 col1\" >0.0000</td>\n      <td id=\"T_81b01_row5_col2\" class=\"data row5 col2\" >0.7083</td>\n      <td id=\"T_81b01_row5_col3\" class=\"data row5 col3\" >0.8095</td>\n      <td id=\"T_81b01_row5_col4\" class=\"data row5 col4\" >0.7556</td>\n      <td id=\"T_81b01_row5_col5\" class=\"data row5 col5\" >0.6173</td>\n      <td id=\"T_81b01_row5_col6\" class=\"data row5 col6\" >0.6207</td>\n    </tr>\n    <tr>\n      <th id=\"T_81b01_level0_row6\" class=\"row_heading level0 row6\" >6</th>\n      <td id=\"T_81b01_row6_col0\" class=\"data row6 col0\" >0.8065</td>\n      <td id=\"T_81b01_row6_col1\" class=\"data row6 col1\" >0.0000</td>\n      <td id=\"T_81b01_row6_col2\" class=\"data row6 col2\" >0.5833</td>\n      <td id=\"T_81b01_row6_col3\" class=\"data row6 col3\" >0.8750</td>\n      <td id=\"T_81b01_row6_col4\" class=\"data row6 col4\" >0.7000</td>\n      <td id=\"T_81b01_row6_col5\" class=\"data row6 col5\" >0.5654</td>\n      <td id=\"T_81b01_row6_col6\" class=\"data row6 col6\" >0.5908</td>\n    </tr>\n    <tr>\n      <th id=\"T_81b01_level0_row7\" class=\"row_heading level0 row7\" >7</th>\n      <td id=\"T_81b01_row7_col0\" class=\"data row7 col0\" >0.7581</td>\n      <td id=\"T_81b01_row7_col1\" class=\"data row7 col1\" >0.0000</td>\n      <td id=\"T_81b01_row7_col2\" class=\"data row7 col2\" >0.5833</td>\n      <td id=\"T_81b01_row7_col3\" class=\"data row7 col3\" >0.7368</td>\n      <td id=\"T_81b01_row7_col4\" class=\"data row7 col4\" >0.6512</td>\n      <td id=\"T_81b01_row7_col5\" class=\"data row7 col5\" >0.4698</td>\n      <td id=\"T_81b01_row7_col6\" class=\"data row7 col6\" >0.4773</td>\n    </tr>\n    <tr>\n      <th id=\"T_81b01_level0_row8\" class=\"row_heading level0 row8\" >8</th>\n      <td id=\"T_81b01_row8_col0\" class=\"data row8 col0\" >0.8710</td>\n      <td id=\"T_81b01_row8_col1\" class=\"data row8 col1\" >0.0000</td>\n      <td id=\"T_81b01_row8_col2\" class=\"data row8 col2\" >0.8333</td>\n      <td id=\"T_81b01_row8_col3\" class=\"data row8 col3\" >0.8333</td>\n      <td id=\"T_81b01_row8_col4\" class=\"data row8 col4\" >0.8333</td>\n      <td id=\"T_81b01_row8_col5\" class=\"data row8 col5\" >0.7281</td>\n      <td id=\"T_81b01_row8_col6\" class=\"data row8 col6\" >0.7281</td>\n    </tr>\n    <tr>\n      <th id=\"T_81b01_level0_row9\" class=\"row_heading level0 row9\" >9</th>\n      <td id=\"T_81b01_row9_col0\" class=\"data row9 col0\" >0.8065</td>\n      <td id=\"T_81b01_row9_col1\" class=\"data row9 col1\" >0.0000</td>\n      <td id=\"T_81b01_row9_col2\" class=\"data row9 col2\" >0.7083</td>\n      <td id=\"T_81b01_row9_col3\" class=\"data row9 col3\" >0.7727</td>\n      <td id=\"T_81b01_row9_col4\" class=\"data row9 col4\" >0.7391</td>\n      <td id=\"T_81b01_row9_col5\" class=\"data row9 col5\" >0.5857</td>\n      <td id=\"T_81b01_row9_col6\" class=\"data row9 col6\" >0.5871</td>\n    </tr>\n    <tr>\n      <th id=\"T_81b01_level0_row10\" class=\"row_heading level0 row10\" >Mean</th>\n      <td id=\"T_81b01_row10_col0\" class=\"data row10 col0\" >0.8041</td>\n      <td id=\"T_81b01_row10_col1\" class=\"data row10 col1\" >0.0000</td>\n      <td id=\"T_81b01_row10_col2\" class=\"data row10 col2\" >0.6611</td>\n      <td id=\"T_81b01_row10_col3\" class=\"data row10 col3\" >0.7990</td>\n      <td id=\"T_81b01_row10_col4\" class=\"data row10 col4\" >0.7186</td>\n      <td id=\"T_81b01_row10_col5\" class=\"data row10 col5\" >0.5712</td>\n      <td id=\"T_81b01_row10_col6\" class=\"data row10 col6\" >0.5809</td>\n    </tr>\n    <tr>\n      <th id=\"T_81b01_level0_row11\" class=\"row_heading level0 row11\" >Std</th>\n      <td id=\"T_81b01_row11_col0\" class=\"data row11 col0\" >0.0337</td>\n      <td id=\"T_81b01_row11_col1\" class=\"data row11 col1\" >0.0000</td>\n      <td id=\"T_81b01_row11_col2\" class=\"data row11 col2\" >0.0922</td>\n      <td id=\"T_81b01_row11_col3\" class=\"data row11 col3\" >0.0620</td>\n      <td id=\"T_81b01_row11_col4\" class=\"data row11 col4\" >0.0567</td>\n      <td id=\"T_81b01_row11_col5\" class=\"data row11 col5\" >0.0775</td>\n      <td id=\"T_81b01_row11_col6\" class=\"data row11 col6\" >0.0756</td>\n    </tr>\n  </tbody>\n</table>\n"
          },
          "metadata": {}
        },
        {
          "output_type": "display_data",
          "data": {
            "text/plain": "Processing:   0%|          | 0/6 [00:00<?, ?it/s]",
            "application/vnd.jupyter.widget-view+json": {
              "version_major": 2,
              "version_minor": 0,
              "model_id": ""
            }
          },
          "metadata": {}
        }
      ]
    },
    {
      "cell_type": "markdown",
      "source": [
        "### ml_create model"
      ],
      "metadata": {
        "id": "cobDK7swC5Rk"
      }
    },
    {
      "cell_type": "code",
      "source": [
        "model = create_model('lr', experiment_custom_tags=\"1110\")"
      ],
      "metadata": {
        "execution": {
          "iopub.status.busy": "2023-11-10T14:48:00.819956Z",
          "iopub.execute_input": "2023-11-10T14:48:00.821708Z",
          "iopub.status.idle": "2023-11-10T14:48:26.928660Z",
          "shell.execute_reply.started": "2023-11-10T14:48:00.821668Z",
          "shell.execute_reply": "2023-11-10T14:48:26.927114Z"
        },
        "trusted": true,
        "id": "cfasKasxC5Rk",
        "outputId": "cfdc118b-cd3b-420f-cec8-2927afd55b3d",
        "colab": {
          "referenced_widgets": [
            ""
          ]
        }
      },
      "execution_count": null,
      "outputs": [
        {
          "output_type": "display_data",
          "data": {
            "text/plain": "<IPython.core.display.HTML object>",
            "text/html": ""
          },
          "metadata": {}
        },
        {
          "output_type": "display_data",
          "data": {
            "text/plain": "<pandas.io.formats.style.Styler at 0x7d927aedd540>",
            "text/html": "<style type=\"text/css\">\n#T_a8e87_row10_col0, #T_a8e87_row10_col1, #T_a8e87_row10_col2, #T_a8e87_row10_col3, #T_a8e87_row10_col4, #T_a8e87_row10_col5, #T_a8e87_row10_col6 {\n  background: yellow;\n}\n</style>\n<table id=\"T_a8e87\">\n  <thead>\n    <tr>\n      <th class=\"blank level0\" >&nbsp;</th>\n      <th id=\"T_a8e87_level0_col0\" class=\"col_heading level0 col0\" >Accuracy</th>\n      <th id=\"T_a8e87_level0_col1\" class=\"col_heading level0 col1\" >AUC</th>\n      <th id=\"T_a8e87_level0_col2\" class=\"col_heading level0 col2\" >Recall</th>\n      <th id=\"T_a8e87_level0_col3\" class=\"col_heading level0 col3\" >Prec.</th>\n      <th id=\"T_a8e87_level0_col4\" class=\"col_heading level0 col4\" >F1</th>\n      <th id=\"T_a8e87_level0_col5\" class=\"col_heading level0 col5\" >Kappa</th>\n      <th id=\"T_a8e87_level0_col6\" class=\"col_heading level0 col6\" >MCC</th>\n    </tr>\n    <tr>\n      <th class=\"index_name level0\" >Fold</th>\n      <th class=\"blank col0\" >&nbsp;</th>\n      <th class=\"blank col1\" >&nbsp;</th>\n      <th class=\"blank col2\" >&nbsp;</th>\n      <th class=\"blank col3\" >&nbsp;</th>\n      <th class=\"blank col4\" >&nbsp;</th>\n      <th class=\"blank col5\" >&nbsp;</th>\n      <th class=\"blank col6\" >&nbsp;</th>\n    </tr>\n  </thead>\n  <tbody>\n    <tr>\n      <th id=\"T_a8e87_level0_row0\" class=\"row_heading level0 row0\" >0</th>\n      <td id=\"T_a8e87_row0_col0\" class=\"data row0 col0\" >0.7778</td>\n      <td id=\"T_a8e87_row0_col1\" class=\"data row0 col1\" >0.8397</td>\n      <td id=\"T_a8e87_row0_col2\" class=\"data row0 col2\" >0.5833</td>\n      <td id=\"T_a8e87_row0_col3\" class=\"data row0 col3\" >0.7778</td>\n      <td id=\"T_a8e87_row0_col4\" class=\"data row0 col4\" >0.6667</td>\n      <td id=\"T_a8e87_row0_col5\" class=\"data row0 col5\" >0.5051</td>\n      <td id=\"T_a8e87_row0_col6\" class=\"data row0 col6\" >0.5168</td>\n    </tr>\n    <tr>\n      <th id=\"T_a8e87_level0_row1\" class=\"row_heading level0 row1\" >1</th>\n      <td id=\"T_a8e87_row1_col0\" class=\"data row1 col0\" >0.8095</td>\n      <td id=\"T_a8e87_row1_col1\" class=\"data row1 col1\" >0.8387</td>\n      <td id=\"T_a8e87_row1_col2\" class=\"data row1 col2\" >0.5833</td>\n      <td id=\"T_a8e87_row1_col3\" class=\"data row1 col3\" >0.8750</td>\n      <td id=\"T_a8e87_row1_col4\" class=\"data row1 col4\" >0.7000</td>\n      <td id=\"T_a8e87_row1_col5\" class=\"data row1 col5\" >0.5685</td>\n      <td id=\"T_a8e87_row1_col6\" class=\"data row1 col6\" >0.5936</td>\n    </tr>\n    <tr>\n      <th id=\"T_a8e87_level0_row2\" class=\"row_heading level0 row2\" >2</th>\n      <td id=\"T_a8e87_row2_col0\" class=\"data row2 col0\" >0.8413</td>\n      <td id=\"T_a8e87_row2_col1\" class=\"data row2 col1\" >0.9562</td>\n      <td id=\"T_a8e87_row2_col2\" class=\"data row2 col2\" >0.7917</td>\n      <td id=\"T_a8e87_row2_col3\" class=\"data row2 col3\" >0.7917</td>\n      <td id=\"T_a8e87_row2_col4\" class=\"data row2 col4\" >0.7917</td>\n      <td id=\"T_a8e87_row2_col5\" class=\"data row2 col5\" >0.6635</td>\n      <td id=\"T_a8e87_row2_col6\" class=\"data row2 col6\" >0.6635</td>\n    </tr>\n    <tr>\n      <th id=\"T_a8e87_level0_row3\" class=\"row_heading level0 row3\" >3</th>\n      <td id=\"T_a8e87_row3_col0\" class=\"data row3 col0\" >0.7903</td>\n      <td id=\"T_a8e87_row3_col1\" class=\"data row3 col1\" >0.8239</td>\n      <td id=\"T_a8e87_row3_col2\" class=\"data row3 col2\" >0.6522</td>\n      <td id=\"T_a8e87_row3_col3\" class=\"data row3 col3\" >0.7500</td>\n      <td id=\"T_a8e87_row3_col4\" class=\"data row3 col4\" >0.6977</td>\n      <td id=\"T_a8e87_row3_col5\" class=\"data row3 col5\" >0.5384</td>\n      <td id=\"T_a8e87_row3_col6\" class=\"data row3 col6\" >0.5415</td>\n    </tr>\n    <tr>\n      <th id=\"T_a8e87_level0_row4\" class=\"row_heading level0 row4\" >4</th>\n      <td id=\"T_a8e87_row4_col0\" class=\"data row4 col0\" >0.7581</td>\n      <td id=\"T_a8e87_row4_col1\" class=\"data row4 col1\" >0.8180</td>\n      <td id=\"T_a8e87_row4_col2\" class=\"data row4 col2\" >0.6250</td>\n      <td id=\"T_a8e87_row4_col3\" class=\"data row4 col3\" >0.7143</td>\n      <td id=\"T_a8e87_row4_col4\" class=\"data row4 col4\" >0.6667</td>\n      <td id=\"T_a8e87_row4_col5\" class=\"data row4 col5\" >0.4781</td>\n      <td id=\"T_a8e87_row4_col6\" class=\"data row4 col6\" >0.4807</td>\n    </tr>\n    <tr>\n      <th id=\"T_a8e87_level0_row5\" class=\"row_heading level0 row5\" >5</th>\n      <td id=\"T_a8e87_row5_col0\" class=\"data row5 col0\" >0.8387</td>\n      <td id=\"T_a8e87_row5_col1\" class=\"data row5 col1\" >0.9073</td>\n      <td id=\"T_a8e87_row5_col2\" class=\"data row5 col2\" >0.7917</td>\n      <td id=\"T_a8e87_row5_col3\" class=\"data row5 col3\" >0.7917</td>\n      <td id=\"T_a8e87_row5_col4\" class=\"data row5 col4\" >0.7917</td>\n      <td id=\"T_a8e87_row5_col5\" class=\"data row5 col5\" >0.6601</td>\n      <td id=\"T_a8e87_row5_col6\" class=\"data row5 col6\" >0.6601</td>\n    </tr>\n    <tr>\n      <th id=\"T_a8e87_level0_row6\" class=\"row_heading level0 row6\" >6</th>\n      <td id=\"T_a8e87_row6_col0\" class=\"data row6 col0\" >0.8065</td>\n      <td id=\"T_a8e87_row6_col1\" class=\"data row6 col1\" >0.8476</td>\n      <td id=\"T_a8e87_row6_col2\" class=\"data row6 col2\" >0.5833</td>\n      <td id=\"T_a8e87_row6_col3\" class=\"data row6 col3\" >0.8750</td>\n      <td id=\"T_a8e87_row6_col4\" class=\"data row6 col4\" >0.7000</td>\n      <td id=\"T_a8e87_row6_col5\" class=\"data row6 col5\" >0.5654</td>\n      <td id=\"T_a8e87_row6_col6\" class=\"data row6 col6\" >0.5908</td>\n    </tr>\n    <tr>\n      <th id=\"T_a8e87_level0_row7\" class=\"row_heading level0 row7\" >7</th>\n      <td id=\"T_a8e87_row7_col0\" class=\"data row7 col0\" >0.7581</td>\n      <td id=\"T_a8e87_row7_col1\" class=\"data row7 col1\" >0.8213</td>\n      <td id=\"T_a8e87_row7_col2\" class=\"data row7 col2\" >0.6667</td>\n      <td id=\"T_a8e87_row7_col3\" class=\"data row7 col3\" >0.6957</td>\n      <td id=\"T_a8e87_row7_col4\" class=\"data row7 col4\" >0.6809</td>\n      <td id=\"T_a8e87_row7_col5\" class=\"data row7 col5\" >0.4862</td>\n      <td id=\"T_a8e87_row7_col6\" class=\"data row7 col6\" >0.4865</td>\n    </tr>\n    <tr>\n      <th id=\"T_a8e87_level0_row8\" class=\"row_heading level0 row8\" >8</th>\n      <td id=\"T_a8e87_row8_col0\" class=\"data row8 col0\" >0.8710</td>\n      <td id=\"T_a8e87_row8_col1\" class=\"data row8 col1\" >0.8849</td>\n      <td id=\"T_a8e87_row8_col2\" class=\"data row8 col2\" >0.8333</td>\n      <td id=\"T_a8e87_row8_col3\" class=\"data row8 col3\" >0.8333</td>\n      <td id=\"T_a8e87_row8_col4\" class=\"data row8 col4\" >0.8333</td>\n      <td id=\"T_a8e87_row8_col5\" class=\"data row8 col5\" >0.7281</td>\n      <td id=\"T_a8e87_row8_col6\" class=\"data row8 col6\" >0.7281</td>\n    </tr>\n    <tr>\n      <th id=\"T_a8e87_level0_row9\" class=\"row_heading level0 row9\" >9</th>\n      <td id=\"T_a8e87_row9_col0\" class=\"data row9 col0\" >0.8065</td>\n      <td id=\"T_a8e87_row9_col1\" class=\"data row9 col1\" >0.8246</td>\n      <td id=\"T_a8e87_row9_col2\" class=\"data row9 col2\" >0.7083</td>\n      <td id=\"T_a8e87_row9_col3\" class=\"data row9 col3\" >0.7727</td>\n      <td id=\"T_a8e87_row9_col4\" class=\"data row9 col4\" >0.7391</td>\n      <td id=\"T_a8e87_row9_col5\" class=\"data row9 col5\" >0.5857</td>\n      <td id=\"T_a8e87_row9_col6\" class=\"data row9 col6\" >0.5871</td>\n    </tr>\n    <tr>\n      <th id=\"T_a8e87_level0_row10\" class=\"row_heading level0 row10\" >Mean</th>\n      <td id=\"T_a8e87_row10_col0\" class=\"data row10 col0\" >0.8058</td>\n      <td id=\"T_a8e87_row10_col1\" class=\"data row10 col1\" >0.8562</td>\n      <td id=\"T_a8e87_row10_col2\" class=\"data row10 col2\" >0.6819</td>\n      <td id=\"T_a8e87_row10_col3\" class=\"data row10 col3\" >0.7877</td>\n      <td id=\"T_a8e87_row10_col4\" class=\"data row10 col4\" >0.7268</td>\n      <td id=\"T_a8e87_row10_col5\" class=\"data row10 col5\" >0.5779</td>\n      <td id=\"T_a8e87_row10_col6\" class=\"data row10 col6\" >0.5849</td>\n    </tr>\n    <tr>\n      <th id=\"T_a8e87_level0_row11\" class=\"row_heading level0 row11\" >Std</th>\n      <td id=\"T_a8e87_row11_col0\" class=\"data row11 col0\" >0.0349</td>\n      <td id=\"T_a8e87_row11_col1\" class=\"data row11 col1\" >0.0434</td>\n      <td id=\"T_a8e87_row11_col2\" class=\"data row11 col2\" >0.0901</td>\n      <td id=\"T_a8e87_row11_col3\" class=\"data row11 col3\" >0.0574</td>\n      <td id=\"T_a8e87_row11_col4\" class=\"data row11 col4\" >0.0562</td>\n      <td id=\"T_a8e87_row11_col5\" class=\"data row11 col5\" >0.0788</td>\n      <td id=\"T_a8e87_row11_col6\" class=\"data row11 col6\" >0.0771</td>\n    </tr>\n  </tbody>\n</table>\n"
          },
          "metadata": {}
        },
        {
          "output_type": "display_data",
          "data": {
            "text/plain": "Processing:   0%|          | 0/4 [00:00<?, ?it/s]",
            "application/vnd.jupyter.widget-view+json": {
              "version_major": 2,
              "version_minor": 0,
              "model_id": ""
            }
          },
          "metadata": {}
        }
      ]
    },
    {
      "cell_type": "code",
      "source": [
        "mlflow.log_param('tag', \"before_tune\")\n",
        "print(model)"
      ],
      "metadata": {
        "execution": {
          "iopub.status.busy": "2023-11-10T14:49:04.600505Z",
          "iopub.execute_input": "2023-11-10T14:49:04.601002Z",
          "iopub.status.idle": "2023-11-10T14:49:05.779744Z",
          "shell.execute_reply.started": "2023-11-10T14:49:04.600969Z",
          "shell.execute_reply": "2023-11-10T14:49:05.777965Z"
        },
        "trusted": true,
        "id": "D6CT4ABMC5Rk",
        "outputId": "9d782451-f181-491a-eb71-273d8fe2ded1"
      },
      "execution_count": null,
      "outputs": [
        {
          "name": "stdout",
          "text": "LogisticRegression(C=1.0, class_weight=None, dual=False, fit_intercept=True,\n                   intercept_scaling=1, l1_ratio=None, max_iter=1000,\n                   multi_class='auto', n_jobs=None, penalty='l2',\n                   random_state=7305, solver='lbfgs', tol=0.0001, verbose=0,\n                   warm_start=False)\n",
          "output_type": "stream"
        }
      ]
    },
    {
      "cell_type": "markdown",
      "source": [
        "### tuned_model"
      ],
      "metadata": {
        "id": "f1j8HCcrC5Rk"
      }
    },
    {
      "cell_type": "code",
      "source": [
        "tuned_model = tune_model(model,optimize=\"AUC\")\n",
        "mlflow.log_param('tag', \"tuned\")\n",
        "print(model)"
      ],
      "metadata": {
        "execution": {
          "iopub.status.busy": "2023-11-10T14:49:10.725335Z",
          "iopub.execute_input": "2023-11-10T14:49:10.725820Z",
          "iopub.status.idle": "2023-11-10T14:51:29.755049Z",
          "shell.execute_reply.started": "2023-11-10T14:49:10.725784Z",
          "shell.execute_reply": "2023-11-10T14:51:29.753794Z"
        },
        "trusted": true,
        "id": "uMcRyuYMC5Rl",
        "outputId": "dbe00450-607d-4a01-c9a3-18454c98b4e1",
        "colab": {
          "referenced_widgets": [
            ""
          ]
        }
      },
      "execution_count": null,
      "outputs": [
        {
          "output_type": "display_data",
          "data": {
            "text/plain": "<IPython.core.display.HTML object>",
            "text/html": ""
          },
          "metadata": {}
        },
        {
          "output_type": "display_data",
          "data": {
            "text/plain": "<pandas.io.formats.style.Styler at 0x7d929bca4ee0>",
            "text/html": "<style type=\"text/css\">\n#T_97feb_row10_col0, #T_97feb_row10_col1, #T_97feb_row10_col2, #T_97feb_row10_col3, #T_97feb_row10_col4, #T_97feb_row10_col5, #T_97feb_row10_col6 {\n  background: yellow;\n}\n</style>\n<table id=\"T_97feb\">\n  <thead>\n    <tr>\n      <th class=\"blank level0\" >&nbsp;</th>\n      <th id=\"T_97feb_level0_col0\" class=\"col_heading level0 col0\" >Accuracy</th>\n      <th id=\"T_97feb_level0_col1\" class=\"col_heading level0 col1\" >AUC</th>\n      <th id=\"T_97feb_level0_col2\" class=\"col_heading level0 col2\" >Recall</th>\n      <th id=\"T_97feb_level0_col3\" class=\"col_heading level0 col3\" >Prec.</th>\n      <th id=\"T_97feb_level0_col4\" class=\"col_heading level0 col4\" >F1</th>\n      <th id=\"T_97feb_level0_col5\" class=\"col_heading level0 col5\" >Kappa</th>\n      <th id=\"T_97feb_level0_col6\" class=\"col_heading level0 col6\" >MCC</th>\n    </tr>\n    <tr>\n      <th class=\"index_name level0\" >Fold</th>\n      <th class=\"blank col0\" >&nbsp;</th>\n      <th class=\"blank col1\" >&nbsp;</th>\n      <th class=\"blank col2\" >&nbsp;</th>\n      <th class=\"blank col3\" >&nbsp;</th>\n      <th class=\"blank col4\" >&nbsp;</th>\n      <th class=\"blank col5\" >&nbsp;</th>\n      <th class=\"blank col6\" >&nbsp;</th>\n    </tr>\n  </thead>\n  <tbody>\n    <tr>\n      <th id=\"T_97feb_level0_row0\" class=\"row_heading level0 row0\" >0</th>\n      <td id=\"T_97feb_row0_col0\" class=\"data row0 col0\" >0.8413</td>\n      <td id=\"T_97feb_row0_col1\" class=\"data row0 col1\" >0.8280</td>\n      <td id=\"T_97feb_row0_col2\" class=\"data row0 col2\" >0.7500</td>\n      <td id=\"T_97feb_row0_col3\" class=\"data row0 col3\" >0.8182</td>\n      <td id=\"T_97feb_row0_col4\" class=\"data row0 col4\" >0.7826</td>\n      <td id=\"T_97feb_row0_col5\" class=\"data row0 col5\" >0.6580</td>\n      <td id=\"T_97feb_row0_col6\" class=\"data row0 col6\" >0.6595</td>\n    </tr>\n    <tr>\n      <th id=\"T_97feb_level0_row1\" class=\"row_heading level0 row1\" >1</th>\n      <td id=\"T_97feb_row1_col0\" class=\"data row1 col0\" >0.8254</td>\n      <td id=\"T_97feb_row1_col1\" class=\"data row1 col1\" >0.8376</td>\n      <td id=\"T_97feb_row1_col2\" class=\"data row1 col2\" >0.7083</td>\n      <td id=\"T_97feb_row1_col3\" class=\"data row1 col3\" >0.8095</td>\n      <td id=\"T_97feb_row1_col4\" class=\"data row1 col4\" >0.7556</td>\n      <td id=\"T_97feb_row1_col5\" class=\"data row1 col5\" >0.6207</td>\n      <td id=\"T_97feb_row1_col6\" class=\"data row1 col6\" >0.6240</td>\n    </tr>\n    <tr>\n      <th id=\"T_97feb_level0_row2\" class=\"row_heading level0 row2\" >2</th>\n      <td id=\"T_97feb_row2_col0\" class=\"data row2 col0\" >0.8571</td>\n      <td id=\"T_97feb_row2_col1\" class=\"data row2 col1\" >0.9583</td>\n      <td id=\"T_97feb_row2_col2\" class=\"data row2 col2\" >0.8750</td>\n      <td id=\"T_97feb_row2_col3\" class=\"data row2 col3\" >0.7778</td>\n      <td id=\"T_97feb_row2_col4\" class=\"data row2 col4\" >0.8235</td>\n      <td id=\"T_97feb_row2_col5\" class=\"data row2 col5\" >0.7042</td>\n      <td id=\"T_97feb_row2_col6\" class=\"data row2 col6\" >0.7077</td>\n    </tr>\n    <tr>\n      <th id=\"T_97feb_level0_row3\" class=\"row_heading level0 row3\" >3</th>\n      <td id=\"T_97feb_row3_col0\" class=\"data row3 col0\" >0.7903</td>\n      <td id=\"T_97feb_row3_col1\" class=\"data row3 col1\" >0.8406</td>\n      <td id=\"T_97feb_row3_col2\" class=\"data row3 col2\" >0.7391</td>\n      <td id=\"T_97feb_row3_col3\" class=\"data row3 col3\" >0.7083</td>\n      <td id=\"T_97feb_row3_col4\" class=\"data row3 col4\" >0.7234</td>\n      <td id=\"T_97feb_row3_col5\" class=\"data row3 col5\" >0.5547</td>\n      <td id=\"T_97feb_row3_col6\" class=\"data row3 col6\" >0.5550</td>\n    </tr>\n    <tr>\n      <th id=\"T_97feb_level0_row4\" class=\"row_heading level0 row4\" >4</th>\n      <td id=\"T_97feb_row4_col0\" class=\"data row4 col0\" >0.7581</td>\n      <td id=\"T_97feb_row4_col1\" class=\"data row4 col1\" >0.8268</td>\n      <td id=\"T_97feb_row4_col2\" class=\"data row4 col2\" >0.6667</td>\n      <td id=\"T_97feb_row4_col3\" class=\"data row4 col3\" >0.6957</td>\n      <td id=\"T_97feb_row4_col4\" class=\"data row4 col4\" >0.6809</td>\n      <td id=\"T_97feb_row4_col5\" class=\"data row4 col5\" >0.4862</td>\n      <td id=\"T_97feb_row4_col6\" class=\"data row4 col6\" >0.4865</td>\n    </tr>\n    <tr>\n      <th id=\"T_97feb_level0_row5\" class=\"row_heading level0 row5\" >5</th>\n      <td id=\"T_97feb_row5_col0\" class=\"data row5 col0\" >0.8065</td>\n      <td id=\"T_97feb_row5_col1\" class=\"data row5 col1\" >0.8942</td>\n      <td id=\"T_97feb_row5_col2\" class=\"data row5 col2\" >0.8333</td>\n      <td id=\"T_97feb_row5_col3\" class=\"data row5 col3\" >0.7143</td>\n      <td id=\"T_97feb_row5_col4\" class=\"data row5 col4\" >0.7692</td>\n      <td id=\"T_97feb_row5_col5\" class=\"data row5 col5\" >0.6043</td>\n      <td id=\"T_97feb_row5_col6\" class=\"data row5 col6\" >0.6096</td>\n    </tr>\n    <tr>\n      <th id=\"T_97feb_level0_row6\" class=\"row_heading level0 row6\" >6</th>\n      <td id=\"T_97feb_row6_col0\" class=\"data row6 col0\" >0.8065</td>\n      <td id=\"T_97feb_row6_col1\" class=\"data row6 col1\" >0.8454</td>\n      <td id=\"T_97feb_row6_col2\" class=\"data row6 col2\" >0.6667</td>\n      <td id=\"T_97feb_row6_col3\" class=\"data row6 col3\" >0.8000</td>\n      <td id=\"T_97feb_row6_col4\" class=\"data row6 col4\" >0.7273</td>\n      <td id=\"T_97feb_row6_col5\" class=\"data row6 col5\" >0.5792</td>\n      <td id=\"T_97feb_row6_col6\" class=\"data row6 col6\" >0.5850</td>\n    </tr>\n    <tr>\n      <th id=\"T_97feb_level0_row7\" class=\"row_heading level0 row7\" >7</th>\n      <td id=\"T_97feb_row7_col0\" class=\"data row7 col0\" >0.7903</td>\n      <td id=\"T_97feb_row7_col1\" class=\"data row7 col1\" >0.8257</td>\n      <td id=\"T_97feb_row7_col2\" class=\"data row7 col2\" >0.7917</td>\n      <td id=\"T_97feb_row7_col3\" class=\"data row7 col3\" >0.7037</td>\n      <td id=\"T_97feb_row7_col4\" class=\"data row7 col4\" >0.7451</td>\n      <td id=\"T_97feb_row7_col5\" class=\"data row7 col5\" >0.5681</td>\n      <td id=\"T_97feb_row7_col6\" class=\"data row7 col6\" >0.5709</td>\n    </tr>\n    <tr>\n      <th id=\"T_97feb_level0_row8\" class=\"row_heading level0 row8\" >8</th>\n      <td id=\"T_97feb_row8_col0\" class=\"data row8 col0\" >0.8226</td>\n      <td id=\"T_97feb_row8_col1\" class=\"data row8 col1\" >0.8893</td>\n      <td id=\"T_97feb_row8_col2\" class=\"data row8 col2\" >0.8333</td>\n      <td id=\"T_97feb_row8_col3\" class=\"data row8 col3\" >0.7407</td>\n      <td id=\"T_97feb_row8_col4\" class=\"data row8 col4\" >0.7843</td>\n      <td id=\"T_97feb_row8_col5\" class=\"data row8 col5\" >0.6345</td>\n      <td id=\"T_97feb_row8_col6\" class=\"data row8 col6\" >0.6377</td>\n    </tr>\n    <tr>\n      <th id=\"T_97feb_level0_row9\" class=\"row_heading level0 row9\" >9</th>\n      <td id=\"T_97feb_row9_col0\" class=\"data row9 col0\" >0.8226</td>\n      <td id=\"T_97feb_row9_col1\" class=\"data row9 col1\" >0.8300</td>\n      <td id=\"T_97feb_row9_col2\" class=\"data row9 col2\" >0.7500</td>\n      <td id=\"T_97feb_row9_col3\" class=\"data row9 col3\" >0.7826</td>\n      <td id=\"T_97feb_row9_col4\" class=\"data row9 col4\" >0.7660</td>\n      <td id=\"T_97feb_row9_col5\" class=\"data row9 col5\" >0.6232</td>\n      <td id=\"T_97feb_row9_col6\" class=\"data row9 col6\" >0.6236</td>\n    </tr>\n    <tr>\n      <th id=\"T_97feb_level0_row10\" class=\"row_heading level0 row10\" >Mean</th>\n      <td id=\"T_97feb_row10_col0\" class=\"data row10 col0\" >0.8121</td>\n      <td id=\"T_97feb_row10_col1\" class=\"data row10 col1\" >0.8576</td>\n      <td id=\"T_97feb_row10_col2\" class=\"data row10 col2\" >0.7614</td>\n      <td id=\"T_97feb_row10_col3\" class=\"data row10 col3\" >0.7551</td>\n      <td id=\"T_97feb_row10_col4\" class=\"data row10 col4\" >0.7558</td>\n      <td id=\"T_97feb_row10_col5\" class=\"data row10 col5\" >0.6033</td>\n      <td id=\"T_97feb_row10_col6\" class=\"data row10 col6\" >0.6059</td>\n    </tr>\n    <tr>\n      <th id=\"T_97feb_level0_row11\" class=\"row_heading level0 row11\" >Std</th>\n      <td id=\"T_97feb_row11_col0\" class=\"data row11 col0\" >0.0268</td>\n      <td id=\"T_97feb_row11_col1\" class=\"data row11 col1\" >0.0412</td>\n      <td id=\"T_97feb_row11_col2\" class=\"data row11 col2\" >0.0676</td>\n      <td id=\"T_97feb_row11_col3\" class=\"data row11 col3\" >0.0452</td>\n      <td id=\"T_97feb_row11_col4\" class=\"data row11 col4\" >0.0374</td>\n      <td id=\"T_97feb_row11_col5\" class=\"data row11 col5\" >0.0572</td>\n      <td id=\"T_97feb_row11_col6\" class=\"data row11 col6\" >0.0578</td>\n    </tr>\n  </tbody>\n</table>\n"
          },
          "metadata": {}
        },
        {
          "output_type": "display_data",
          "data": {
            "text/plain": "Processing:   0%|          | 0/7 [00:00<?, ?it/s]",
            "application/vnd.jupyter.widget-view+json": {
              "version_major": 2,
              "version_minor": 0,
              "model_id": ""
            }
          },
          "metadata": {}
        },
        {
          "name": "stderr",
          "text": "2023/11/10 14:49:11 WARNING mlflow.utils: Truncated the value of the key `param_distributions`. Truncated value: `{'actual_estimator__C': [0.001, 0.002, 0.003, 0.004, 0.005, 0.006, 0.007, 0.008, 0.009, 0.01, 0.011, 0.012, 0.013, 0.014, 0.015, 0.016, 0.017, 0.018, 0.019, 0.02, 0.021, 0.022, 0.023, 0.024, 0.025, 0.026, 0.027, 0.028, 0.029, 0.03, 0.031, 0.032, 0.033, 0.034, 0.035, 0.036, 0.037, 0.038, 0.039, 0.04, 0.041, 0.042, 0.043, 0.044, 0.045, 0.046, 0.047, 0.048, 0.049, 0.05, 0.051, 0.052, 0.053, 0.054, 0.055, 0.056, 0.057, 0.058, 0.059, 0.06, 0.061, 0.062, 0.063, 0.064, 0.065, 0.066, 0.067, 0.068, 0.069, 0.07, 0.071, 0.072, 0.073, 0.074, 0.075, 0.076, 0.077, 0.078, 0.079, 0.08, 0.081, 0.082, 0.083, 0.084, 0.085, 0.086, 0.087, 0.088, 0.089, 0.09, 0.091, 0.092, 0.093, 0.094, 0.095, 0.096, 0.097, 0.098, 0.099, 0.1, 0.101, 0.102, 0.103, 0.104, 0.105, 0.106, 0.107, 0.108, 0.109, 0.11, 0.111, 0.112, 0.113, 0.114, 0.115, 0.116, 0.117, 0.118, 0.119, 0.12, 0.121, 0.122, 0.123, 0.124, 0.125, 0.126, 0.127, 0.128, 0.129, 0.13, 0.131, 0.132, 0.133, 0.134, 0.135, 0.136, 0.137, 0.138, 0.139, 0.14, 0.141, 0.142, 0.143, 0.144, 0.145, 0.146, 0.147, 0.148, 0.149, 0.15, 0.151, 0.152, 0.153, 0.154, 0.155, 0.156, 0.157, 0.158, 0.159, 0.16, 0.161, 0.162, 0.163, 0.164, 0.165, 0.166, 0.167, 0.168, 0.169, 0.17, 0.171, 0.172, 0.173, 0.174, 0.175, 0.176, 0.177, 0.178, 0.179, 0.18, 0.181, 0.182, 0.183, 0.184, 0.185, 0.186, 0.187, 0.188, 0.189, 0.19, 0.191, 0.192, 0.193, 0.194, 0.195, 0.196, 0.197, 0.198, 0.199, 0.2, 0.201, 0.202, 0.203, 0.204, 0.205, 0.206, 0.207, 0.208, 0.209, 0.21, 0.211, 0.212, 0.213, 0.214, 0.215, 0.216, 0.217, 0.218, 0.219, 0.22, 0.221, 0.222, 0.223, 0.224, 0.225, 0.226, 0.227, 0.228, 0.229, 0.23, 0.231, 0.232, 0.233, 0.234, 0.235, 0.236, 0.237, 0.238, 0.239, 0.24, 0.241, 0.242, 0.243, 0.244, 0.245, 0.246, 0.247, 0.248, 0.249, 0.25, 0.251, 0.252, 0.253, 0.254, 0.255, 0.256, 0.257, 0.258, 0.259, 0.26, 0.261, 0.262, 0.263, 0.264, 0.265, 0.266, 0.267, 0.268, 0.269, 0.27, 0.271, 0.272, 0.273, 0.274, 0.275, 0.276, 0.277, 0.278, 0.279, 0.28, 0.281, 0.282, 0.283, 0.284, 0.285, 0.286, 0.287, 0.288, 0.289, 0.29, 0.291, 0.292, 0.293, 0.294, 0.295, 0.296, 0.297, 0.298, 0.299, 0.3, 0.301, 0.302, 0.303, 0.304, 0.305, 0.306, 0.307, 0.308, 0.309, 0.31, 0.311, 0.312, 0.313, 0.314, 0.315, 0.316, 0.317, 0.318, 0.319, 0.32, 0.321, 0.322, 0.323, 0.324, 0.325, 0.326, 0.327, 0.328, 0.329, 0.33, 0.331, 0.332, 0.333, 0.334, 0.335, 0.336, 0.337, 0.338, 0.339, 0.34, 0.341, 0.342, 0.343, 0.344, 0.345, 0.346, 0.347, 0.348, 0.349, 0.35, 0.351, 0.352, 0.353, 0.354, 0.355, 0.356, 0.357, 0.358, 0.359, 0.36, 0.361, 0.362, 0.363, 0.364, 0.365, 0.366, 0.367, 0.368, 0.369, 0.37, 0.371, 0.372, 0.373, 0.374, 0.375, 0.376, 0.377, 0.378, 0.379, 0.38, 0.381, 0.382, 0.383, 0.384, 0.385, 0.386, 0.387, 0.388, 0.389, 0.39, 0.391, 0.392, 0.393, 0.394, 0.395, 0.396, 0.397, 0.398, 0.399, 0.4, 0.401, 0.402, 0.403, 0.404, 0.405, 0.406, 0.407, 0.408, 0.409, 0.41, 0.411, 0.412, 0.413, 0.414, 0.415, 0.416, 0.417, 0.418, 0.419, 0.42, 0.421, 0.422, 0.423, 0.424, 0.425, 0.426, 0.427, 0.428, 0.429, 0.43, 0.431, 0.432, 0.433, 0.434, 0.435, 0.436, 0.437, 0.438, 0.439, 0.44, 0.441, 0.442, 0.443, 0.444, 0.445, 0.446, 0.447, 0.448, 0.449, 0.45, 0.451, 0.452, 0.453, 0.454, 0.455, 0.456, 0.457, 0.458, 0.459, 0.46, 0.461, 0.462, 0.463, 0.464, 0.465, 0.466, 0.467, 0.468, 0.469, 0.47, 0.471, 0.472, 0.473, 0.474, 0.475, 0.476, 0.477, 0.478, 0.479, 0.48, 0.481, 0.482, 0.483, 0.484, 0.485, 0.486, 0.487, 0.488, 0.489, 0.49, 0.491, 0.492, 0.493, 0.494, 0.495, 0.496, 0.497, 0.498, 0.499, 0.5, 0.501, 0.502, 0.503, 0.504, 0.505, 0.506, 0.507, 0.508, 0.509, 0.51, 0.511, 0.512, 0.513, 0.514, 0.515, 0.516, 0.517, 0.518, 0.519, 0.52, 0.521, 0.522, 0.523, 0.524, 0.525, 0.526, 0.527, 0.528, 0.529, 0.53, 0.531, 0.532, 0.533, 0.534, 0.535, 0.536, 0.537, 0.538, 0.539, 0.54, 0.541, 0.542, 0.543, 0.544, 0.545, 0.546, 0.547, 0.548, 0.549, 0.55, 0.551, 0.552, 0.553, 0.554, 0.555, 0.556, 0.557, 0.558, 0.559, 0.56, 0.561, 0.562, 0.563, 0.564, 0.565, 0.566, 0.567, 0.568, 0.569, 0.57, 0.571, 0.572, 0.573, 0.574, 0.575, 0.576, 0.577, 0.578, 0.579, 0.58, 0.581, 0.582, 0.583, 0.584, 0.585, 0.586, 0.587, 0.588, 0.589, 0.59, 0.591, 0.592, 0.593, 0.594, 0.595, 0.596, 0.597, 0.598, 0.599, 0.6, 0.601, 0.602, 0.603, 0.604, 0.605, 0.606, 0.607, 0.608, 0.609, 0.61, 0.611, 0.612, 0.613, 0.614, 0.615, 0.616, 0.617, 0.618, 0.619, 0.62, 0.621, 0.622, 0.623, 0.624, 0.625, 0.626, 0.627, 0.628, 0.629, 0.63, 0.631, 0.632, 0.633, 0.634, 0.635, 0.636, 0.637, 0.638, 0.639, 0.64, 0.641, 0.642, 0.643, 0.644, 0.645, 0.646, 0.647, 0.648, 0.649, 0.65, 0.651, 0.652, 0.653, 0.654, 0.655, 0.656, 0.657, 0.658, 0.659, 0.66, 0.661, 0.662, 0.663, 0.664, 0.665, 0.666, 0.667, 0.668, 0.669, 0.67, 0.671, 0.672, 0.673, 0.674, 0.675, 0.676, 0.677, 0.678, 0.679, 0.68, 0.681, 0.682, 0.683, 0.684, 0.685, 0.686, 0.687, 0.688, 0.689, 0.69, 0.691, 0.692, 0.693, 0.694, 0.695, 0.696, 0.697, 0.698, 0.699, 0.7, 0.701, 0.702, 0.703, 0.704, 0.705, 0.706, 0.707, 0.708, 0.709, 0.71, 0.711, 0.712, 0.713, 0.714, 0.715, 0.716, 0.717, 0.718, 0.719, 0.72, 0.721, 0.722, 0.723, 0.724, 0.725, 0.726, 0.727, 0.728, 0.729, 0.73, 0.731, 0.732, 0.733, 0.734, 0.735, 0.736, 0.737, 0.738, 0.739, 0.74, 0.741, 0.742, 0.743, 0.744, 0.745, 0.746, 0.747, 0.748, 0.749, 0.75, 0.751, 0.752, 0.753, 0.754, 0.755, 0.756, 0.757, 0.758, 0.759, 0.76, 0.761, 0.762, 0.763, 0.764, 0.765, 0.766, 0.767, 0.768, 0.769, 0.77, 0.771, 0.772, 0.773, 0.774, 0.775, 0.776, 0.777, 0.778, 0.779, 0.78, 0.781, 0.782, 0.783, 0.784, 0.785, 0.786, 0.787, 0.788, 0.789, 0.79, 0.791, 0.792, 0.793, 0.794, 0.795, 0.796, 0.797, 0.798, 0.799, 0.8, 0.801, 0.802, 0.803, 0.804, 0.805, 0.806, 0.807, 0.808, 0.809, 0.81, 0.811, 0.812, 0.813, 0.814, 0.815, 0.816, 0.817, 0.818, 0.819, 0.82, 0.821, 0.822, 0.823, 0.824, 0.825, 0.826, 0.827, 0.828, 0.829, 0.83, 0.831, 0.832, 0.833, 0.834, 0.835, 0.836, 0.837, 0.838, 0.839, 0.84, 0.841, 0.842, 0.843, 0.844, 0.845, 0.846, 0.847, 0.848, 0.849, 0.85, 0.851, 0.852, 0.853, 0.854, 0.855, 0.856, 0.857, 0.858, 0.859, 0.86, 0.861, 0.862, 0.863, 0.864, 0.865, 0.866, 0.86...`\n2023/11/10 14:49:11 WARNING mlflow.utils.autologging_utils: MLflow autologging encountered a warning: \"/opt/conda/lib/python3.10/site-packages/mlflow/data/pandas_dataset.py:134: UserWarning: Hint: Inferred schema contains integer column(s). Integer columns in Python cannot represent missing values. If your input data contains missing values at inference time, it will be encoded as floats and will cause a schema enforcement error. The best way to avoid this problem is to infer the model schema based on a realistic data sample (training dataset) that includes missing values. Alternatively, you can declare integer columns as doubles (float64) whenever these columns may have missing values. See `Handling Integers With Missing Values <https://www.mlflow.org/docs/latest/models.html#handling-integers-with-missing-values>`_ for more details.\"\n",
          "output_type": "stream"
        },
        {
          "name": "stdout",
          "text": "Fitting 10 folds for each of 10 candidates, totalling 100 fits\n",
          "output_type": "stream"
        },
        {
          "name": "stderr",
          "text": "2023/11/10 14:49:38 WARNING mlflow.sklearn.utils: Failed to autolog metrics for RandomizedSearchCV. Logging error: This RandomizedSearchCV instance was initialized with `refit=False`. predict is available only after refitting on the best parameters. You can refit an estimator manually using the `best_params_` attribute\n2023/11/10 14:49:38 WARNING mlflow.sklearn.utils: _get_classifier_artifacts.<locals>.plot_confusion_matrix failed. The artifact training_confusion_matrix will not be recorded. Artifact error: This RandomizedSearchCV instance was initialized with `refit=False`. predict is available only after refitting on the best parameters. You can refit an estimator manually using the `best_params_` attribute\n2023/11/10 14:49:38 WARNING mlflow.sklearn.utils: RocCurveDisplay.from_estimator failed. The artifact training_roc_curve will not be recorded. Artifact error: response method decision_function or predict_proba is not defined in RandomizedSearchCV\n2023/11/10 14:49:38 WARNING mlflow.sklearn.utils: PrecisionRecallDisplay.from_estimator failed. The artifact training_precision_recall_curve will not be recorded. Artifact error: response method decision_function or predict_proba is not defined in RandomizedSearchCV\n2023/11/10 14:49:38 WARNING mlflow.sklearn.utils: BaseSearchCV.score failed. The 'training_score' metric will not be recorded. Scoring error: This RandomizedSearchCV instance was initialized with `refit=False`. score is available only after refitting on the best parameters. You can refit an estimator manually using the `best_params_` attribute\n2023/11/10 14:49:40 WARNING mlflow.sklearn: Failed to infer model signature: the trained model does not have a `predict` or `transform` function, which is required in order to infer the signature\n2023/11/10 14:49:40 WARNING mlflow.sklearn: Model was missing function: predict. Not logging python_function flavor!\n2023/11/10 14:49:45 WARNING mlflow.utils.environment: Encountered an unexpected error while inferring pip requirements (model URI: /tmp/tmpw5cu0zf2/model/model.pkl, flavor: sklearn), fall back to return ['scikit-learn==1.2.2', 'cloudpickle==2.2.1']. Set logging level to DEBUG to see the full traceback.\n2023/11/10 14:49:51 INFO mlflow.sklearn.utils: Logging the 5 best runs, 5 runs will be omitted.\n2023/11/10 14:50:09 WARNING mlflow.utils.autologging_utils: Encountered unexpected error during sklearn autologging: The following failures occurred while performing one or more logging operations: [MlflowException('Failed to perform one or more operations on the run with ID 2de1ed1f2fdd417fbd48c3053df5ab44. Failed operations: [RestException(\"INVALID_PARAMETER_VALUE: Response: {\\'error_code\\': \\'INVALID_PARAMETER_VALUE\\'}\")]'), MlflowException('Failed to perform one or more operations on the run with ID d5884caa646649b6b2bbf0a87c402e67. Failed operations: [RestException(\"INVALID_PARAMETER_VALUE: Response: {\\'error_code\\': \\'INVALID_PARAMETER_VALUE\\'}\"), MlflowException(\\'API request to endpoint /api/2.0/mlflow/runs/update failed with error code 400 != 200. Response body: \\\\\\'\"repo not associated with run\"\\\\\\'\\')]'), MlflowException('Failed to perform one or more operations on the run with ID 664d015b02d245d3a56a03568000c8af. Failed operations: [RestException(\"INVALID_PARAMETER_VALUE: Response: {\\'error_code\\': \\'INVALID_PARAMETER_VALUE\\'}\")]'), MlflowException('Failed to perform one or more operations on the run with ID 754bc0f3fe634a5abd31fb4de9e276ba. Failed operations: [RestException(\"INVALID_PARAMETER_VALUE: Response: {\\'error_code\\': \\'INVALID_PARAMETER_VALUE\\'}\")]'), MlflowException('Failed to perform one or more operations on the run with ID e19d24d393974f0095a5cbcae2cadf2b. Failed operations: [RestException(\"INVALID_PARAMETER_VALUE: Response: {\\'error_code\\': \\'INVALID_PARAMETER_VALUE\\'}\"), MlflowException(\\'API request to endpoint /api/2.0/mlflow/runs/update failed with error code 400 != 200. Response body: \\\\\\'\"repo not associated with run\"\\\\\\'\\')]')]\n",
          "output_type": "stream"
        },
        {
          "name": "stdout",
          "text": "LogisticRegression(C=1.0, class_weight=None, dual=False, fit_intercept=True,\n                   intercept_scaling=1, l1_ratio=None, max_iter=1000,\n                   multi_class='auto', n_jobs=None, penalty='l2',\n                   random_state=7305, solver='lbfgs', tol=0.0001, verbose=0,\n                   warm_start=False)\n",
          "output_type": "stream"
        },
        {
          "output_type": "display_data",
          "data": {
            "text/plain": "<Figure size 1050x700 with 1 Axes>",
            "image/png": "[encoded data removed]"
          },
          "metadata": {}
        }
      ]
    },
    {
      "cell_type": "code",
      "source": [
        "# Feature Importance\n",
        "classification_flg = 1\n",
        "\n",
        "if classification_flg == 1:\n",
        "    evaluate_model(tuned_model)\n",
        "    #interpret_model(tuned_model)\n",
        "\n",
        "#plot_model(tuned_model, plot = 'auc', save = True)\n",
        "#plot_model(tuned_model, plot = 'residuals')\n",
        "#plot_model(tuned_model, plot = 'cooks')\n",
        "# plot_model(tuned_model, plot = 'error', save = True)\n",
        "#plot_model(tuned_model, plot = 'auc')\n",
        "# plot_model(tuned_model, plot = 'feature', save = True)\n",
        "# plot_model(tuned_model, plot = 'feature_all', save = True)\n",
        "# plot_model(tuned_model, plot = 'parameter', save = True)\n",
        "# plot_model(tuned_model, plot = 'rfe', save = True)\n",
        "# plot_model(tuned_model, plot = 'learning', save = True)"
      ],
      "metadata": {
        "execution": {
          "iopub.status.busy": "2023-11-10T14:54:21.996586Z",
          "iopub.execute_input": "2023-11-10T14:54:21.997074Z",
          "iopub.status.idle": "2023-11-10T14:54:22.716314Z",
          "shell.execute_reply.started": "2023-11-10T14:54:21.997038Z",
          "shell.execute_reply": "2023-11-10T14:54:22.715146Z"
        },
        "trusted": true,
        "id": "8Wka46LUC5Rl",
        "outputId": "18d57c10-f9f5-4d32-8f25-d55624b6f462",
        "colab": {
          "referenced_widgets": [
            "620de22c0c6e4f7da2458293ccd3a721"
          ]
        }
      },
      "execution_count": null,
      "outputs": [
        {
          "output_type": "display_data",
          "data": {
            "text/plain": "interactive(children=(ToggleButtons(description='Plot Type:', icons=('',), options=(('Pipeline Plot', 'pipelin…",
            "application/vnd.jupyter.widget-view+json": {
              "version_major": 2,
              "version_minor": 0,
              "model_id": "620de22c0c6e4f7da2458293ccd3a721"
            }
          },
          "metadata": {}
        }
      ]
    },
    {
      "cell_type": "code",
      "source": [
        "final_model = finalize_model(tuned_model)\n",
        "print(final_model)"
      ],
      "metadata": {
        "execution": {
          "iopub.status.busy": "2023-11-10T14:55:43.344925Z",
          "iopub.execute_input": "2023-11-10T14:55:43.346488Z",
          "iopub.status.idle": "2023-11-10T14:56:41.027760Z",
          "shell.execute_reply.started": "2023-11-10T14:55:43.346427Z",
          "shell.execute_reply": "2023-11-10T14:56:41.026667Z"
        },
        "trusted": true,
        "id": "-2jJtAkkC5Rm",
        "outputId": "6858f8a3-b9a5-4bc0-ef38-088e08aad24f"
      },
      "execution_count": null,
      "outputs": [
        {
          "name": "stdout",
          "text": "Pipeline(memory=Memory(location=None),\n         steps=[('numerical_imputer',\n                 TransformerWrapper(exclude=None,\n                                    include=['Age', 'Fare', 'FamilyNumber'],\n                                    transformer=SimpleImputer(add_indicator=False,\n                                                              copy=True,\n                                                              fill_value=None,\n                                                              keep_empty_features=False,\n                                                              missing_values=nan,\n                                                              strategy='median',\n                                                              verbose='deprecated'))),\n                ('categorical_imputer',\n                 TransformerWrapper(exclude=None,...\n                                                                 encode='ordinal',\n                                                                 n_bins=5,\n                                                                 random_state=None,\n                                                                 strategy='kmeans',\n                                                                 subsample='warn'))),\n                ('actual_estimator',\n                 LogisticRegression(C=2.543, class_weight='balanced',\n                                    dual=False, fit_intercept=True,\n                                    intercept_scaling=1, l1_ratio=None,\n                                    max_iter=1000, multi_class='auto',\n                                    n_jobs=None, penalty='l2',\n                                    random_state=7305, solver='lbfgs',\n                                    tol=0.0001, verbose=0, warm_start=False))],\n         verbose=False)\n",
          "output_type": "stream"
        }
      ]
    },
    {
      "cell_type": "code",
      "source": [
        "auc_fig = plot_model(tuned_model, plot = 'auc', save = True)\n",
        "print(auc_fig)\n",
        "print(tuned_model)\n",
        "save_model(tuned_model, \"tuned\")\n",
        "#mlflow.log_figure(r\"/kaggle/working/AUC.png\", \"auc.png\")"
      ],
      "metadata": {
        "execution": {
          "iopub.status.busy": "2023-11-09T14:34:19.103273Z",
          "iopub.execute_input": "2023-11-09T14:34:19.104387Z",
          "iopub.status.idle": "2023-11-09T14:34:22.142223Z",
          "shell.execute_reply.started": "2023-11-09T14:34:19.104351Z",
          "shell.execute_reply": "2023-11-09T14:34:22.140994Z"
        },
        "trusted": true,
        "id": "OwyQPPzzC5Rm",
        "outputId": "b24d4ca2-1e70-49a1-dd1e-fc98ed4b3dc4"
      },
      "execution_count": null,
      "outputs": [
        {
          "output_type": "display_data",
          "data": {
            "text/plain": "<IPython.core.display.HTML object>",
            "text/html": ""
          },
          "metadata": {}
        },
        {
          "name": "stdout",
          "text": "AUC.png\nLogisticRegression(C=1.0, class_weight=None, dual=False, fit_intercept=True,\n                   intercept_scaling=1, l1_ratio=None, max_iter=1000,\n                   multi_class='auto', n_jobs=None, penalty='l2',\n                   random_state=836, solver='lbfgs', tol=0.0001, verbose=0,\n                   warm_start=False)\nTransformation Pipeline and Model Successfully Saved\n",
          "output_type": "stream"
        },
        {
          "execution_count": 188,
          "output_type": "execute_result",
          "data": {
            "text/plain": "(Pipeline(memory=Memory(location=None),\n          steps=[('numerical_imputer',\n                  TransformerWrapper(exclude=None,\n                                     include=['Age', 'Fare', 'FamilyNumber'],\n                                     transformer=SimpleImputer(add_indicator=False,\n                                                               copy=True,\n                                                               fill_value=None,\n                                                               keep_empty_features=False,\n                                                               missing_values=nan,\n                                                               strategy='median',\n                                                               verbose='deprecated'))),\n                 ('categorical_imputer',\n                  TransformerWrapper(exclude=None,...\n                                                                  encode='ordinal',\n                                                                  n_bins=5,\n                                                                  random_state=None,\n                                                                  strategy='kmeans',\n                                                                  subsample='warn'))),\n                 ('trained_model',\n                  LogisticRegression(C=1.0, class_weight=None, dual=False,\n                                     fit_intercept=True, intercept_scaling=1,\n                                     l1_ratio=None, max_iter=1000,\n                                     multi_class='auto', n_jobs=None,\n                                     penalty='l2', random_state=836,\n                                     solver='lbfgs', tol=0.0001, verbose=0,\n                                     warm_start=False))],\n          verbose=False),\n 'tuned.pkl')"
          },
          "metadata": {}
        }
      ]
    },
    {
      "cell_type": "markdown",
      "source": [
        "### predict test data"
      ],
      "metadata": {
        "id": "tCKk5iGiC5Rm"
      }
    },
    {
      "cell_type": "code",
      "source": [
        "#save_model(tuned_model,\"sample_model\") #モデルの保存\n",
        "# テストデータの予測\n",
        "result = predict_model(\n",
        "    tuned_model, # モデル\n",
        "    data=test, # テストデータ\n",
        "    raw_score=True, # ラベル予測時のscoreを表示\n",
        ")\n",
        "result"
      ],
      "metadata": {
        "execution": {
          "iopub.status.busy": "2023-11-09T14:34:31.230779Z",
          "iopub.execute_input": "2023-11-09T14:34:31.231636Z",
          "iopub.status.idle": "2023-11-09T14:34:32.650968Z",
          "shell.execute_reply.started": "2023-11-09T14:34:31.231593Z",
          "shell.execute_reply": "2023-11-09T14:34:32.649748Z"
        },
        "trusted": true,
        "id": "zUOf_TIUC5Rn",
        "outputId": "8f95ed30-05aa-447c-8dfa-ed9ab8bfa10e"
      },
      "execution_count": null,
      "outputs": [
        {
          "output_type": "display_data",
          "data": {
            "text/plain": "<IPython.core.display.HTML object>",
            "text/html": ""
          },
          "metadata": {}
        },
        {
          "execution_count": 189,
          "output_type": "execute_result",
          "data": {
            "text/plain": "     PassengerId  Pclass                                          Name   \n0            892       3                              Kelly, Mr. James  \\\n1            893       3              Wilkes, Mrs. James (Ellen Needs)   \n2            894       2                     Myles, Mr. Thomas Francis   \n3            895       3                              Wirz, Mr. Albert   \n4            896       3  Hirvonen, Mrs. Alexander (Helga E Lindqvist)   \n..           ...     ...                                           ...   \n413         1305       3                            Spector, Mr. Woolf   \n414         1306       1                  Oliva y Ocana, Dona. Fermina   \n415         1307       3                  Saether, Mr. Simon Sivertsen   \n416         1308       3                           Ware, Mr. Frederick   \n417         1309       3                      Peter, Master. Michael J   \n\n        Sex   Age  SibSp  Parch              Ticket        Fare Cabin   \n0      male  34.5      0      0              330911    7.829200   NaN  \\\n1    female  47.0      1      0              363272    7.000000   NaN   \n2      male  62.0      0      0              240276    9.687500   NaN   \n3      male  27.0      0      0              315154    8.662500   NaN   \n4    female  22.0      1      1             3101298   12.287500   NaN   \n..      ...   ...    ...    ...                 ...         ...   ...   \n413    male   NaN      0      0           A.5. 3236    8.050000   NaN   \n414  female  39.0      0      0            PC 17758  108.900002  C105   \n415    male  38.5      0      0  SOTON/O.Q. 3101262    7.250000   NaN   \n416    male   NaN      0      0              359309    8.050000   NaN   \n417    male   NaN      1      1                2668   22.358299   NaN   \n\n    Embarked      FirstName Honorific                        LastName   \n0          Q          Kelly        Mr                           James  \\\n1          S         Wilkes       Mrs             James (Ellen Needs)   \n2          Q          Myles        Mr                  Thomas Francis   \n3          S           Wirz        Mr                          Albert   \n4          S       Hirvonen       Mrs   Alexander (Helga E Lindqvist)   \n..       ...            ...       ...                             ...   \n413        S        Spector        Mr                           Woolf   \n414        C  Oliva y Ocana      Dona                         Fermina   \n415        S        Saether        Mr                 Simon Sivertsen   \n416        S           Ware        Mr                       Frederick   \n417        C          Peter    Master                       Michael J   \n\n     FamilyNumber  prediction_label  prediction_score_0  prediction_score_1  \n0               0                 0              0.9297              0.0703  \n1               1                 0              0.5937              0.4063  \n2               0                 0              0.8864              0.1136  \n3               0                 0              0.9261              0.0739  \n4               2                 1              0.4572              0.5428  \n..            ...               ...                 ...                 ...  \n413             0                 0              0.8965              0.1035  \n414             0                 1              0.1644              0.8356  \n415             0                 0              0.9214              0.0786  \n416             0                 0              0.9303              0.0697  \n417             2                 0              0.8375              0.1625  \n\n[418 rows x 18 columns]",
            "text/html": "<div>\n<style scoped>\n    .dataframe tbody tr th:only-of-type {\n        vertical-align: middle;\n    }\n\n    .dataframe tbody tr th {\n        vertical-align: top;\n    }\n\n    .dataframe thead th {\n        text-align: right;\n    }\n</style>\n<table border=\"1\" class=\"dataframe\">\n  <thead>\n    <tr style=\"text-align: right;\">\n      <th></th>\n      <th>PassengerId</th>\n      <th>Pclass</th>\n      <th>Name</th>\n      <th>Sex</th>\n      <th>Age</th>\n      <th>SibSp</th>\n      <th>Parch</th>\n      <th>Ticket</th>\n      <th>Fare</th>\n      <th>Cabin</th>\n      <th>Embarked</th>\n      <th>FirstName</th>\n      <th>Honorific</th>\n      <th>LastName</th>\n      <th>FamilyNumber</th>\n      <th>prediction_label</th>\n      <th>prediction_score_0</th>\n      <th>prediction_score_1</th>\n    </tr>\n  </thead>\n  <tbody>\n    <tr>\n      <th>0</th>\n      <td>892</td>\n      <td>3</td>\n      <td>Kelly, Mr. James</td>\n      <td>male</td>\n      <td>34.5</td>\n      <td>0</td>\n      <td>0</td>\n      <td>330911</td>\n      <td>7.829200</td>\n      <td>NaN</td>\n      <td>Q</td>\n      <td>Kelly</td>\n      <td>Mr</td>\n      <td>James</td>\n      <td>0</td>\n      <td>0</td>\n      <td>0.9297</td>\n      <td>0.0703</td>\n    </tr>\n    <tr>\n      <th>1</th>\n      <td>893</td>\n      <td>3</td>\n      <td>Wilkes, Mrs. James (Ellen Needs)</td>\n      <td>female</td>\n      <td>47.0</td>\n      <td>1</td>\n      <td>0</td>\n      <td>363272</td>\n      <td>7.000000</td>\n      <td>NaN</td>\n      <td>S</td>\n      <td>Wilkes</td>\n      <td>Mrs</td>\n      <td>James (Ellen Needs)</td>\n      <td>1</td>\n      <td>0</td>\n      <td>0.5937</td>\n      <td>0.4063</td>\n    </tr>\n    <tr>\n      <th>2</th>\n      <td>894</td>\n      <td>2</td>\n      <td>Myles, Mr. Thomas Francis</td>\n      <td>male</td>\n      <td>62.0</td>\n      <td>0</td>\n      <td>0</td>\n      <td>240276</td>\n      <td>9.687500</td>\n      <td>NaN</td>\n      <td>Q</td>\n      <td>Myles</td>\n      <td>Mr</td>\n      <td>Thomas Francis</td>\n      <td>0</td>\n      <td>0</td>\n      <td>0.8864</td>\n      <td>0.1136</td>\n    </tr>\n    <tr>\n      <th>3</th>\n      <td>895</td>\n      <td>3</td>\n      <td>Wirz, Mr. Albert</td>\n      <td>male</td>\n      <td>27.0</td>\n      <td>0</td>\n      <td>0</td>\n      <td>315154</td>\n      <td>8.662500</td>\n      <td>NaN</td>\n      <td>S</td>\n      <td>Wirz</td>\n      <td>Mr</td>\n      <td>Albert</td>\n      <td>0</td>\n      <td>0</td>\n      <td>0.9261</td>\n      <td>0.0739</td>\n    </tr>\n    <tr>\n      <th>4</th>\n      <td>896</td>\n      <td>3</td>\n      <td>Hirvonen, Mrs. Alexander (Helga E Lindqvist)</td>\n      <td>female</td>\n      <td>22.0</td>\n      <td>1</td>\n      <td>1</td>\n      <td>3101298</td>\n      <td>12.287500</td>\n      <td>NaN</td>\n      <td>S</td>\n      <td>Hirvonen</td>\n      <td>Mrs</td>\n      <td>Alexander (Helga E Lindqvist)</td>\n      <td>2</td>\n      <td>1</td>\n      <td>0.4572</td>\n      <td>0.5428</td>\n    </tr>\n    <tr>\n      <th>...</th>\n      <td>...</td>\n      <td>...</td>\n      <td>...</td>\n      <td>...</td>\n      <td>...</td>\n      <td>...</td>\n      <td>...</td>\n      <td>...</td>\n      <td>...</td>\n      <td>...</td>\n      <td>...</td>\n      <td>...</td>\n      <td>...</td>\n      <td>...</td>\n      <td>...</td>\n      <td>...</td>\n      <td>...</td>\n      <td>...</td>\n    </tr>\n    <tr>\n      <th>413</th>\n      <td>1305</td>\n      <td>3</td>\n      <td>Spector, Mr. Woolf</td>\n      <td>male</td>\n      <td>NaN</td>\n      <td>0</td>\n      <td>0</td>\n      <td>A.5. 3236</td>\n      <td>8.050000</td>\n      <td>NaN</td>\n      <td>S</td>\n      <td>Spector</td>\n      <td>Mr</td>\n      <td>Woolf</td>\n      <td>0</td>\n      <td>0</td>\n      <td>0.8965</td>\n      <td>0.1035</td>\n    </tr>\n    <tr>\n      <th>414</th>\n      <td>1306</td>\n      <td>1</td>\n      <td>Oliva y Ocana, Dona. Fermina</td>\n      <td>female</td>\n      <td>39.0</td>\n      <td>0</td>\n      <td>0</td>\n      <td>PC 17758</td>\n      <td>108.900002</td>\n      <td>C105</td>\n      <td>C</td>\n      <td>Oliva y Ocana</td>\n      <td>Dona</td>\n      <td>Fermina</td>\n      <td>0</td>\n      <td>1</td>\n      <td>0.1644</td>\n      <td>0.8356</td>\n    </tr>\n    <tr>\n      <th>415</th>\n      <td>1307</td>\n      <td>3</td>\n      <td>Saether, Mr. Simon Sivertsen</td>\n      <td>male</td>\n      <td>38.5</td>\n      <td>0</td>\n      <td>0</td>\n      <td>SOTON/O.Q. 3101262</td>\n      <td>7.250000</td>\n      <td>NaN</td>\n      <td>S</td>\n      <td>Saether</td>\n      <td>Mr</td>\n      <td>Simon Sivertsen</td>\n      <td>0</td>\n      <td>0</td>\n      <td>0.9214</td>\n      <td>0.0786</td>\n    </tr>\n    <tr>\n      <th>416</th>\n      <td>1308</td>\n      <td>3</td>\n      <td>Ware, Mr. Frederick</td>\n      <td>male</td>\n      <td>NaN</td>\n      <td>0</td>\n      <td>0</td>\n      <td>359309</td>\n      <td>8.050000</td>\n      <td>NaN</td>\n      <td>S</td>\n      <td>Ware</td>\n      <td>Mr</td>\n      <td>Frederick</td>\n      <td>0</td>\n      <td>0</td>\n      <td>0.9303</td>\n      <td>0.0697</td>\n    </tr>\n    <tr>\n      <th>417</th>\n      <td>1309</td>\n      <td>3</td>\n      <td>Peter, Master. Michael J</td>\n      <td>male</td>\n      <td>NaN</td>\n      <td>1</td>\n      <td>1</td>\n      <td>2668</td>\n      <td>22.358299</td>\n      <td>NaN</td>\n      <td>C</td>\n      <td>Peter</td>\n      <td>Master</td>\n      <td>Michael J</td>\n      <td>2</td>\n      <td>0</td>\n      <td>0.8375</td>\n      <td>0.1625</td>\n    </tr>\n  </tbody>\n</table>\n<p>418 rows × 18 columns</p>\n</div>"
          },
          "metadata": {}
        }
      ]
    },
    {
      "cell_type": "markdown",
      "source": [
        "### make submit file"
      ],
      "metadata": {
        "id": "YbDQ2UnJC5Rn"
      }
    },
    {
      "cell_type": "code",
      "source": [
        "submit = result[['PassengerId', 'prediction_label']]\n",
        "submit = submit.rename(columns={'prediction_label':'Survived'})\n",
        "submit.to_csv(\"submission.csv\", encoding='utf-8', index=False)"
      ],
      "metadata": {
        "execution": {
          "iopub.status.busy": "2023-11-09T14:34:40.216004Z",
          "iopub.execute_input": "2023-11-09T14:34:40.216425Z",
          "iopub.status.idle": "2023-11-09T14:34:40.229490Z",
          "shell.execute_reply.started": "2023-11-09T14:34:40.216395Z",
          "shell.execute_reply": "2023-11-09T14:34:40.228323Z"
        },
        "trusted": true,
        "id": "tJ6XKfZvC5Rn"
      },
      "execution_count": null,
      "outputs": []
    },
    {
      "cell_type": "markdown",
      "source": [
        "### close"
      ],
      "metadata": {
        "id": "YZZ--Kp5C5Rn"
      }
    },
    {
      "cell_type": "code",
      "source": [
        "mlflow.end_run()"
      ],
      "metadata": {
        "execution": {
          "iopub.status.busy": "2023-11-09T14:37:06.261971Z",
          "iopub.execute_input": "2023-11-09T14:37:06.263387Z",
          "iopub.status.idle": "2023-11-09T14:37:06.848130Z",
          "shell.execute_reply.started": "2023-11-09T14:37:06.263341Z",
          "shell.execute_reply": "2023-11-09T14:37:06.846844Z"
        },
        "trusted": true,
        "id": "Zgkzo7HMC5Ro"
      },
      "execution_count": null,
      "outputs": []
    },
    {
      "cell_type": "code",
      "source": [
        "!kaggle competitions submit -c titanic -f /kaggle/working/catboost_info/submission.csv -m \"Message\""
      ],
      "metadata": {
        "execution": {
          "iopub.status.busy": "2023-11-07T12:59:16.734202Z",
          "iopub.execute_input": "2023-11-07T12:59:16.734727Z",
          "iopub.status.idle": "2023-11-07T12:59:18.191185Z",
          "shell.execute_reply.started": "2023-11-07T12:59:16.734683Z",
          "shell.execute_reply": "2023-11-07T12:59:18.189472Z"
        },
        "trusted": true,
        "id": "2pbJ3_IHC5Ro",
        "outputId": "0582a4d0-32b2-468b-8b98-8934a53814c0"
      },
      "execution_count": null,
      "outputs": [
        {
          "name": "stdout",
          "text": "Traceback (most recent call last):\n  File \"/opt/conda/bin/kaggle\", line 5, in <module>\n    from kaggle.cli import main\n  File \"/opt/conda/lib/python3.10/site-packages/kaggle/__init__.py\", line 23, in <module>\n    api.authenticate()\n  File \"/opt/conda/lib/python3.10/site-packages/kaggle/api/kaggle_api_extended.py\", line 403, in authenticate\n    raise IOError('Could not find {}. Make sure it\\'s located in'\nOSError: Could not find kaggle.json. Make sure it's located in /root/.kaggle. Or use the environment method.\n",
          "output_type": "stream"
        }
      ]
    }
  ]
}